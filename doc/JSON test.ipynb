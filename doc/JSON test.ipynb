{
 "cells": [
  {
   "cell_type": "code",
   "execution_count": 2,
   "metadata": {
    "collapsed": true
   },
   "outputs": [],
   "source": [
    "import os,sys\n",
    "sys.path.append('../src')\n",
    "\n",
    "import MSSP"
   ]
  },
  {
   "cell_type": "code",
   "execution_count": 9,
   "metadata": {
    "collapsed": true
   },
   "outputs": [],
   "source": [
    "from MSSP import write_to_json"
   ]
  },
  {
   "cell_type": "code",
   "execution_count": 10,
   "metadata": {
    "collapsed": true
   },
   "outputs": [],
   "source": [
    "gdir = '/data/GitHub/TNC_MSSP/json/2016-04-26/'"
   ]
  },
  {
   "cell_type": "code",
   "execution_count": 3,
   "metadata": {
    "collapsed": false
   },
   "outputs": [],
   "source": [
    "Ej = MSSP.MsspFromJson('/data/GitHub/TNC_MSSP/json/2016-04-26/')"
   ]
  },
  {
   "cell_type": "code",
   "execution_count": 11,
   "metadata": {
    "collapsed": false
   },
   "outputs": [
    {
     "name": "stdout",
     "output_type": "stream",
     "text": [
      "Creating 189 questions...\n",
      "Creating 143 targets...\n",
      "Creating 528 criteria...\n",
      "Creating 2657 caveats...\n",
      "Creating 443 attributes...\n",
      "Creating 247 notes...\n",
      "Creating colormap...\n",
      "Output written to folder /data/GitHub/TNC_MSSP/json/2016-04-26/.\n"
     ]
    },
    {
     "data": {
      "text/plain": [
       "True"
      ]
     },
     "execution_count": 11,
     "metadata": {},
     "output_type": "execute_result"
    }
   ],
   "source": [
    "json_out = Ej.serialize()\n",
    "write_to_json(json_out, out=gdir)"
   ]
  },
  {
   "cell_type": "code",
   "execution_count": 5,
   "metadata": {
    "collapsed": false
   },
   "outputs": [
    {
     "data": {
      "text/plain": [
       "searchAttributes(attributes=[UUID('11d6dcd7-28aa-3525-b7e4-c286b951d36b'), UUID('125b228d-5434-3e7b-aaa6-304cc0688de5'), UUID('1a846051-4982-3209-aa5f-350ae4db1f5b'), UUID('5fc97710-c1db-35a0-8ddb-57f17a151ec2'), UUID('903e003e-81ae-3fba-a6e8-31bb09a01b03'), UUID('91ae90eb-b927-3534-9b9a-9ec410d9c890'), UUID('a2b65d8b-4132-3bf9-8829-8bbb71ee4073'), UUID('ad34846d-f13c-362d-988f-97df5b8acce4'), UUID('be31ddf6-2cf0-3a8c-b5f2-b704a312ca9c'), UUID('f1094f82-b3ed-3eb7-a63a-37d999e31a8b')], questions=[77, 152, 177], targets=[100, 104, 108, 117, 118, 120, 122, 124, 141])"
      ]
     },
     "execution_count": 5,
     "metadata": {},
     "output_type": "execute_result"
    }
   ],
   "source": [
    "Ej.search('State')"
   ]
  },
  {
   "cell_type": "code",
   "execution_count": 12,
   "metadata": {
    "collapsed": false
   },
   "outputs": [
    {
     "name": "stdout",
     "output_type": "stream",
     "text": [
      "Question ID: 177\n",
      "What is the dominant system of governance? (Community level, Regional, State, National)\n",
      "IF COMMUNITY\n",
      "Strength of governance\n",
      "FROM HERE AND TO THE RIGHT ARE \"EXPANDED\" CAVEAT CATEGORIES\n",
      " References: Monitoring Col AP\n",
      "Valid Answers: [u'IF COMMUNITY']\n",
      " Satisfied By: None\n",
      " Satisfies: None\n",
      "Has Caveats:\n",
      "      QuestionID  TargetID   AnswerValue                                  Note\n",
      "974          177        98  IF COMMUNITY             Easier if community-based\n",
      "975          177        99  IF COMMUNITY             Easier if community-based\n",
      "976          177       100  IF COMMUNITY             Easier if community-based\n",
      "977          177       101  IF COMMUNITY             Easier if community-based\n",
      "978          177       110  IF COMMUNITY             Easier if community-based\n",
      "979          177       111  IF COMMUNITY             Easier if community-based\n",
      "980          177       112  IF COMMUNITY             Easier if community-based\n",
      "981          177       113  IF COMMUNITY             Easier if community-based\n",
      "982          177       114  IF COMMUNITY             Easier if community-based\n",
      "983          177       115  IF COMMUNITY             Easier if community-based\n",
      "984          177       116  IF COMMUNITY             Easier if community-based\n",
      "985          177       118  IF COMMUNITY             Easier if community-based\n",
      "986          177       119  IF COMMUNITY             Easier if community-based\n",
      "987          177       120  IF COMMUNITY             Easier if community-based\n",
      "988          177       121  IF COMMUNITY             Easier if community-based\n",
      "989          177       122  IF COMMUNITY  Easier if at least at regional level\n",
      "990          177       123  IF COMMUNITY  Easier if at least at regional level\n",
      "991          177       124  IF COMMUNITY  Easier if at least at regional level\n",
      "992          177       125  IF COMMUNITY  Easier if at least at regional level\n",
      "993          177       127  IF COMMUNITY             Easier if community-based\n",
      "994          177       128  IF COMMUNITY             Easier if community-based\n",
      "995          177       129  IF COMMUNITY             Easier if community-based\n",
      "996          177       130  IF COMMUNITY             Easier if community-based\n",
      "997          177       131  IF COMMUNITY  Easier if at least at regional level\n",
      "998          177       132  IF COMMUNITY  Easier if at least at regional level\n",
      "999          177       133  IF COMMUNITY  Easier if at least at regional level\n",
      "1000         177       134  IF COMMUNITY  Easier if at least at regional level\n",
      "1001         177       139  IF COMMUNITY  Easier if at least at regional level\n",
      "1002         177       140  IF COMMUNITY  Easier if at least at regional level\n",
      "1003         177       141  IF COMMUNITY  Easier if at least at regional level\n",
      "1004         177       142  IF COMMUNITY  Easier if at least at regional level\n"
     ]
    },
    {
     "data": {
      "text/plain": [
       "<MSSP.mssp_objects.MsspQuestion at 0x7fba88e7d450>"
      ]
     },
     "execution_count": 12,
     "metadata": {},
     "output_type": "execute_result"
    }
   ],
   "source": [
    "Ej.question(177)"
   ]
  },
  {
   "cell_type": "code",
   "execution_count": null,
   "metadata": {
    "collapsed": false
   },
   "outputs": [],
   "source": [
    "s = Ej.search('governance')\n",
    "s"
   ]
  },
  {
   "cell_type": "code",
   "execution_count": null,
   "metadata": {
    "collapsed": false
   },
   "outputs": [],
   "source": [
    "Ej.question(125)"
   ]
  },
  {
   "cell_type": "code",
   "execution_count": null,
   "metadata": {
    "collapsed": true
   },
   "outputs": [],
   "source": [
    "L = [q for q in Ej._questions if q._yes_no_included == True]"
   ]
  },
  {
   "cell_type": "code",
   "execution_count": null,
   "metadata": {
    "collapsed": false
   },
   "outputs": [],
   "source": [
    "for i in L: print i.references"
   ]
  },
  {
   "cell_type": "code",
   "execution_count": null,
   "metadata": {
    "collapsed": false
   },
   "outputs": [],
   "source": [
    "Ej.colormap"
   ]
  },
  {
   "cell_type": "code",
   "execution_count": null,
   "metadata": {
    "collapsed": false
   },
   "outputs": [],
   "source": [
    "Ej.notes(Ej.search('selectivity', search_notes=True).notes)"
   ]
  },
  {
   "cell_type": "code",
   "execution_count": null,
   "metadata": {
    "collapsed": true
   },
   "outputs": [],
   "source": [
    "cavs = Ej._caveats[Ej._caveats['QuestionID']==125].copy()"
   ]
  },
  {
   "cell_type": "code",
   "execution_count": null,
   "metadata": {
    "collapsed": false
   },
   "outputs": [],
   "source": [
    "def lookup(rec):\n",
    "    return self._questions[rec['QuestionID']].valid_answers[rec[field]]\n",
    "cavs['AnswerValue'] = cavs.apply(lookup, axis=1, reduce=True)\n",
    "\n"
   ]
  },
  {
   "cell_type": "code",
   "execution_count": null,
   "metadata": {
    "collapsed": false
   },
   "outputs": [],
   "source": [
    "Ej._replace_field_with_answer(cavs, field='Answer')"
   ]
  },
  {
   "cell_type": "code",
   "execution_count": null,
   "metadata": {
    "collapsed": false
   },
   "outputs": [],
   "source": [
    "Ej._replace_note_id_with_note(cavs)"
   ]
  },
  {
   "cell_type": "code",
   "execution_count": null,
   "metadata": {
    "collapsed": true
   },
   "outputs": [],
   "source": [
    "def rename_note(df):\n",
    "    df = df.rename(columns={'NoteID':'Note'})"
   ]
  },
  {
   "cell_type": "code",
   "execution_count": null,
   "metadata": {
    "collapsed": true
   },
   "outputs": [],
   "source": [
    "rename_note(cavs)"
   ]
  },
  {
   "cell_type": "code",
   "execution_count": null,
   "metadata": {
    "collapsed": false
   },
   "outputs": [],
   "source": [
    "c = Ej.caveats(125)"
   ]
  },
  {
   "cell_type": "code",
   "execution_count": null,
   "metadata": {
    "collapsed": false
   },
   "outputs": [],
   "source": [
    "c.index"
   ]
  },
  {
   "cell_type": "code",
   "execution_count": null,
   "metadata": {
    "collapsed": false
   },
   "outputs": [],
   "source": [
    "c.index = c.index.map(lambda x: Ej._targets[int(x)].reference())"
   ]
  },
  {
   "cell_type": "code",
   "execution_count": null,
   "metadata": {
    "collapsed": false
   },
   "outputs": [],
   "source": [
    "c"
   ]
  },
  {
   "cell_type": "code",
   "execution_count": null,
   "metadata": {
    "collapsed": false
   },
   "outputs": [],
   "source": [
    "Ej._criteria['TargetID'].map(lambda x: Ej._targets[int(x)].reference()[0])"
   ]
  },
  {
   "cell_type": "code",
   "execution_count": null,
   "metadata": {
    "collapsed": false
   },
   "outputs": [],
   "source": [
    "cri_filter = Ej._criteria[['QuestionID','TargetID']]"
   ]
  },
  {
   "cell_type": "code",
   "execution_count": null,
   "metadata": {
    "collapsed": true
   },
   "outputs": [],
   "source": [
    "cri_filter['Domain']=cri_filter['TargetID'].map(lambda x: Ej._targets[int(x)].reference()[0])"
   ]
  },
  {
   "cell_type": "code",
   "execution_count": null,
   "metadata": {
    "collapsed": false
   },
   "outputs": [],
   "source": [
    "set([k['QuestionID'] for i,k in cri_filter.iterrows() if k['Domain'] == 'Assessment'])"
   ]
  }
 ],
 "metadata": {
  "kernelspec": {
   "display_name": "Python 2",
   "language": "python2",
   "name": "python2"
  },
  "language_info": {
   "codemirror_mode": {
    "name": "ipython",
    "version": 2
   },
   "file_extension": ".py",
   "mimetype": "text/x-python",
   "name": "python",
   "nbconvert_exporter": "python",
   "pygments_lexer": "ipython2",
   "version": "2.7.11"
  }
 },
 "nbformat": 4,
 "nbformat_minor": 0
}
