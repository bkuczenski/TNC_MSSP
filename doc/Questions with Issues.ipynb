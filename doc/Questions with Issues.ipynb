{
 "cells": [
  {
   "cell_type": "code",
   "execution_count": 1,
   "metadata": {
    "collapsed": true
   },
   "outputs": [],
   "source": [
    "import os,sys\n",
    "sys.path.append('../src')\n",
    "\n",
    "import MSSP\n",
    "from MSSP.exceptions import MsspError"
   ]
  },
  {
   "cell_type": "code",
   "execution_count": 2,
   "metadata": {
    "collapsed": true
   },
   "outputs": [],
   "source": [
    "import uuid"
   ]
  },
  {
   "cell_type": "code",
   "execution_count": 3,
   "metadata": {
    "collapsed": false
   },
   "outputs": [],
   "source": [
    "import copy"
   ]
  },
  {
   "cell_type": "code",
   "execution_count": 4,
   "metadata": {
    "collapsed": true
   },
   "outputs": [],
   "source": [
    "gdir = '/Users/brandon/Documents/GitHub/SNAP Fisheries Spreadsheets/json/current'\n",
    "outdir = '/Users/brandon/Documents/GitHub/SNAP Fisheries Spreadsheets/json/2016-06-30'"
   ]
  },
  {
   "cell_type": "code",
   "execution_count": 5,
   "metadata": {
    "collapsed": true
   },
   "outputs": [],
   "source": [
    "Eq = MSSP.MsspFromJson(gdir)"
   ]
  },
  {
   "cell_type": "markdown",
   "metadata": {},
   "source": [
    "### Add N/A answers"
   ]
  },
  {
   "cell_type": "code",
   "execution_count": 6,
   "metadata": {
    "collapsed": false
   },
   "outputs": [
    {
     "name": "stdout",
     "output_type": "stream",
     "text": [
      "Help on method refactor_answers in module MSSP.mssp_data_store:\n",
      "\n",
      "refactor_answers(self, question, answers) method of MSSP.importers.from_json.JsonImporter instance\n",
      "    Re-arrange or otherwise re-define the answers to a given question.  The input should include a single\n",
      "    QuestionID, and a new list of the question's answers.  This list must be a SUPERSET of the question's\n",
      "    existing answers [see merge_answers and delete_answer [TODO] for an antidote] and must be supplied in the\n",
      "    new correct order.\n",
      "    \n",
      "    The method will generate a mapping from the current answers to the new answers, and then will go through\n",
      "    all the criteria and caveats, re-mapping the index values.\n",
      "    \n",
      "    This method is made atomic by performing the mapping onto new data frames that are only installed if\n",
      "    the operation is successful.\n",
      "    :param question:\n",
      "    :param answers:\n",
      "    :return:\n",
      "\n"
     ]
    }
   ],
   "source": [
    "help(Eq.refactor_answers)"
   ]
  },
  {
   "cell_type": "code",
   "execution_count": 7,
   "metadata": {
    "collapsed": false
   },
   "outputs": [
    {
     "data": {
      "text/plain": [
       "searchAttributes(attributes=[UUID('2157c264-a1ed-3559-ae32-e1fd5044d055')], questions=[154], targets=[])"
      ]
     },
     "execution_count": 7,
     "metadata": {},
     "output_type": "execute_result"
    }
   ],
   "source": [
    "Eq.search('M10')"
   ]
  },
  {
   "cell_type": "code",
   "execution_count": 8,
   "metadata": {
    "collapsed": false
   },
   "outputs": [
    {
     "data": {
      "text/plain": [
       "['No', 'Yes']"
      ]
     },
     "execution_count": 8,
     "metadata": {},
     "output_type": "execute_result"
    }
   ],
   "source": [
    "Eq.questions(154)[0].valid_answers"
   ]
  },
  {
   "cell_type": "code",
   "execution_count": 9,
   "metadata": {
    "collapsed": false
   },
   "outputs": [
    {
     "name": "stdout",
     "output_type": "stream",
     "text": [
      "Remapping answers with mapping [1, 2]\n",
      "map from: ['No', 'Yes']\n"
     ]
    }
   ],
   "source": [
    "Eq.refactor_answers(154, ['N/A', 'No', 'Yes'])"
   ]
  },
  {
   "cell_type": "code",
   "execution_count": 10,
   "metadata": {
    "collapsed": false
   },
   "outputs": [
    {
     "data": {
      "text/plain": [
       "searchAttributes(attributes=[UUID('d363b9c1-f764-30c0-b70f-66941e816c5b')], questions=[187], targets=[])"
      ]
     },
     "execution_count": 10,
     "metadata": {},
     "output_type": "execute_result"
    }
   ],
   "source": [
    "Eq.search('M33')"
   ]
  },
  {
   "cell_type": "code",
   "execution_count": 11,
   "metadata": {
    "collapsed": false
   },
   "outputs": [
    {
     "data": {
      "text/plain": [
       "['No', 'Yes']"
      ]
     },
     "execution_count": 11,
     "metadata": {},
     "output_type": "execute_result"
    }
   ],
   "source": [
    "Eq.questions(187)[0].valid_answers"
   ]
  },
  {
   "cell_type": "code",
   "execution_count": 12,
   "metadata": {
    "collapsed": false
   },
   "outputs": [
    {
     "name": "stdout",
     "output_type": "stream",
     "text": [
      "Remapping answers with mapping [1, 2]\n",
      "map from: ['No', 'Yes']\n"
     ]
    }
   ],
   "source": [
    "Eq.refactor_answers(187, ['N/A', 'No', 'Yes'])"
   ]
  },
  {
   "cell_type": "markdown",
   "metadata": {},
   "source": [
    "### Question 80 - merge answers"
   ]
  },
  {
   "cell_type": "code",
   "execution_count": 13,
   "metadata": {
    "collapsed": false
   },
   "outputs": [
    {
     "name": "stdout",
     "output_type": "stream",
     "text": [
      "Question ID: 80\n",
      "\"If handled or captured and released, is survivorship compromised? (AND change answer to \"Yes/No\" rather than \"high/low\")\"\n",
      "(Category: Biophysical/life history)\n",
      "  * IF LOW\n",
      "  * IF YES\n",
      "  * Is species susceptible to barotrauma, and/or has low survivorship on release?\n",
      "  * NEW\n",
      "  * Biology/life history\n",
      "  * If handled or captured and released, is survivorship compromised? \n",
      "  * R7\n",
      "  * reword to \"High survicorship on release?\"\n",
      "  * M36\n",
      "  * ·       Disease/barotrauma:  Reword with less jargon.  If you catch and release, will it survive?\n",
      " References: ControlRules Row 15, ControlRules Row 22, Monitoring Col AO\n",
      "Valid Answers: ['No', 'Yes', u'LOW', u'HIGH']\n",
      " Satisfied By: None\n",
      " Satisfies: None\n",
      "Has Caveats:\n",
      "     QuestionID  TargetID AnswerValue  \\\n",
      "412          80        50         Yes   \n",
      "413          80        51         Yes   \n",
      "414          80        52         Yes   \n",
      "415          80        53         Yes   \n",
      "416          80        54         Yes   \n",
      "417          80        55         Yes   \n",
      "418          80        56         Yes   \n",
      "419          80        57         Yes   \n",
      "420          80        68         Yes   \n",
      "421          80        79         Yes   \n",
      "422          80        79         LOW   \n",
      "423          80        80         Yes   \n",
      "424          80        80         LOW   \n",
      "425          80        81         Yes   \n",
      "426          80        81         LOW   \n",
      "427          80        98         Yes   \n",
      "428          80        99         Yes   \n",
      "429          80       100         Yes   \n",
      "430          80       101         Yes   \n",
      "431          80       102         Yes   \n",
      "432          80       103         Yes   \n",
      "433          80       104         Yes   \n",
      "434          80       105         Yes   \n",
      "435          80       106         Yes   \n",
      "436          80       107         Yes   \n",
      "437          80       108         Yes   \n",
      "438          80       109         Yes   \n",
      "439          80       110         Yes   \n",
      "440          80       111         Yes   \n",
      "441          80       112         Yes   \n",
      "442          80       113         Yes   \n",
      "443          80       114         Yes   \n",
      "444          80       115         Yes   \n",
      "445          80       116         Yes   \n",
      "446          80       117         Yes   \n",
      "447          80       118         Yes   \n",
      "448          80       119         Yes   \n",
      "449          80       120         Yes   \n",
      "450          80       121         Yes   \n",
      "451          80       122         Yes   \n",
      "452          80       123         Yes   \n",
      "453          80       124         Yes   \n",
      "454          80       125         Yes   \n",
      "455          80       126         Yes   \n",
      "456          80       127         Yes   \n",
      "457          80       128         Yes   \n",
      "458          80       129         Yes   \n",
      "459          80       130         Yes   \n",
      "460          80       131         Yes   \n",
      "461          80       132         Yes   \n",
      "462          80       133         Yes   \n",
      "463          80       134         Yes   \n",
      "464          80       135         Yes   \n",
      "465          80       136         Yes   \n",
      "466          80       137         Yes   \n",
      "467          80       138         Yes   \n",
      "468          80       139         Yes   \n",
      "469          80       140         Yes   \n",
      "470          80       141         Yes   \n",
      "471          80       142         Yes   \n",
      "\n",
      "                                                  Note  \n",
      "412         Caution re: discarding when limit exceeded  \n",
      "413         Caution re: discarding when limit exceeded  \n",
      "414         Caution re: discarding when limit exceeded  \n",
      "415         Caution re: discarding when limit exceeded  \n",
      "416         Caution re: discarding when limit exceeded  \n",
      "417         Caution re: discarding when limit exceeded  \n",
      "418         Caution re: discarding when limit exceeded  \n",
      "419         Caution re: discarding when limit exceeded  \n",
      "420  YES - these should avoid capture of species li...  \n",
      "421  Caution - unless gear or method is clean or si...  \n",
      "422                                                 NO  \n",
      "423  Caution - unless gear or method is clean or si...  \n",
      "424                                                 NO  \n",
      "425  Caution - unless gear or method is clean or si...  \n",
      "426                                                 NO  \n",
      "427  If discarding rate (re: barotrauma), or handli...  \n",
      "428  If discarding rate (re: barotrauma), or handli...  \n",
      "429  If discarding rate (re: barotrauma), or handli...  \n",
      "430  If discarding rate (re: barotrauma), or handli...  \n",
      "431  If discarding rate (re: barotrauma), or handli...  \n",
      "432  If discarding rate (re: barotrauma), or handli...  \n",
      "433  If discarding rate (re: barotrauma), or handli...  \n",
      "434  If discarding rate (re: barotrauma), or handli...  \n",
      "435  If discarding rate (re: barotrauma), or handli...  \n",
      "436  If discarding rate (re: barotrauma), or handli...  \n",
      "437  If discarding rate (re: barotrauma), or handli...  \n",
      "438  If discarding rate (re: barotrauma), or handli...  \n",
      "439  If discarding rate (re: barotrauma), or handli...  \n",
      "440  If discarding rate (re: barotrauma), or handli...  \n",
      "441  If discarding rate (re: barotrauma), or handli...  \n",
      "442  If discarding rate (re: barotrauma), or handli...  \n",
      "443  If discarding rate (re: barotrauma), or handli...  \n",
      "444  If discarding rate (re: barotrauma), or handli...  \n",
      "445  If discarding rate (re: barotrauma), or handli...  \n",
      "446  If discarding rate (re: barotrauma), or handli...  \n",
      "447  Reconsider if measurement involves handling - ...  \n",
      "448  May be preferable to invasive measurements pro...  \n",
      "449  Reconsider if measurement involves handling - ...  \n",
      "450  May be preferable to invasive measurements pro...  \n",
      "451  Reconsider if measurement involves handling - ...  \n",
      "452  May be preferable to invasive measurements pro...  \n",
      "453  Reconsider if measurement involves handling - ...  \n",
      "454  May be preferable to invasive measurements pro...  \n",
      "455  If discarding rate (re: barotrauma), or handli...  \n",
      "456  If discarding rate (re: barotrauma), or handli...  \n",
      "457  If discarding rate (re: barotrauma), or handli...  \n",
      "458  If discarding rate (re: barotrauma), or handli...  \n",
      "459  If discarding rate (re: barotrauma), or handli...  \n",
      "460  If discarding rate (re: barotrauma), or handli...  \n",
      "461  If discarding rate (re: barotrauma), or handli...  \n",
      "462  If discarding rate (re: barotrauma), or handli...  \n",
      "463  If discarding rate (re: barotrauma), or handli...  \n",
      "464  If discarding rate (re: barotrauma), or handli...  \n",
      "465  If discarding rate (re: barotrauma), or handli...  \n",
      "466  If discarding rate (re: barotrauma), or handli...  \n",
      "467  If discarding rate (re: barotrauma), or handli...  \n",
      "468  If discarding rate (re: barotrauma), or handli...  \n",
      "469  If discarding rate (re: barotrauma), or handli...  \n",
      "470  If discarding rate (re: barotrauma), or handli...  \n",
      "471  If discarding rate (re: barotrauma), or handli...  \n"
     ]
    },
    {
     "data": {
      "text/plain": [
       "<MSSP.mssp_objects.MsspQuestion at 0x10ebfa250>"
      ]
     },
     "execution_count": 13,
     "metadata": {},
     "output_type": "execute_result"
    }
   ],
   "source": [
    "Eq.question(80)"
   ]
  },
  {
   "cell_type": "code",
   "execution_count": 14,
   "metadata": {
    "collapsed": false
   },
   "outputs": [
    {
     "name": "stdout",
     "output_type": "stream",
     "text": [
      "Merging answers into Yes:\n",
      " Yes\n",
      " LOW\n",
      "Really continue? [y]: \n",
      "Remapping answers with mapping [0, 1, 1, 3]\n",
      "map from: ['No', 'Yes', u'LOW', u'HIGH']\n",
      "Remapping answers with mapping [0, 1, -1, 2]\n",
      "map from: ['No', 'Yes', u'LOW', u'HIGH']\n"
     ]
    }
   ],
   "source": [
    "Eq.merge_answers(80,['Yes', 'LOW'], merge_to='Yes')"
   ]
  },
  {
   "cell_type": "code",
   "execution_count": 15,
   "metadata": {
    "collapsed": false
   },
   "outputs": [
    {
     "data": {
      "text/plain": [
       "['No', 'Yes', u'HIGH']"
      ]
     },
     "execution_count": 15,
     "metadata": {},
     "output_type": "execute_result"
    }
   ],
   "source": [
    "Eq._questions[80].valid_answers"
   ]
  },
  {
   "cell_type": "code",
   "execution_count": 16,
   "metadata": {
    "collapsed": false
   },
   "outputs": [
    {
     "name": "stdout",
     "output_type": "stream",
     "text": [
      "Merging answers into No:\n",
      " No\n",
      " HIGH\n",
      "Really continue? [y]: \n",
      "Remapping answers with mapping [0, 1, 0]\n",
      "map from: ['No', 'Yes', u'HIGH']\n",
      "Remapping answers with mapping [0, 1, -1]\n",
      "map from: ['No', 'Yes', u'HIGH']\n"
     ]
    }
   ],
   "source": [
    "Eq.merge_answers(80,['No', 'HIGH'], merge_to='No')"
   ]
  },
  {
   "cell_type": "code",
   "execution_count": 17,
   "metadata": {
    "collapsed": false
   },
   "outputs": [
    {
     "data": {
      "text/plain": [
       "['No', 'Yes']"
      ]
     },
     "execution_count": 17,
     "metadata": {},
     "output_type": "execute_result"
    }
   ],
   "source": [
    "Eq._questions[80].valid_answers"
   ]
  },
  {
   "cell_type": "markdown",
   "metadata": {},
   "source": [
    "### Question 97 - make composite of 98-106"
   ]
  },
  {
   "cell_type": "code",
   "execution_count": 18,
   "metadata": {
    "collapsed": false
   },
   "outputs": [],
   "source": [
    "Eq._questions[97].satisfied_by = set(range(98,107))"
   ]
  },
  {
   "cell_type": "code",
   "execution_count": 19,
   "metadata": {
    "collapsed": true
   },
   "outputs": [],
   "source": [
    "Eq._set_satisfies(97)"
   ]
  },
  {
   "cell_type": "code",
   "execution_count": 20,
   "metadata": {
    "collapsed": false
   },
   "outputs": [
    {
     "name": "stdout",
     "output_type": "stream",
     "text": [
      "Question ID: 97\n",
      "  * Does assessment suggest a certain form of decision rule? (PENDING OUTCOMES OF ASSESSMENT COMPONENT OF MSSP - 2nd layer?)\n",
      "  * IF YES\n",
      " References: ControlRules Row 32\n",
      "Valid Answers: ['No', 'Yes']\n",
      " Satisfied By: [98, 99, 100, 101, 102, 103, 104, 105, 106]\n",
      " Satisfies: None\n",
      "Has Caveats:\n",
      "     QuestionID  TargetID AnswerValue  \\\n",
      "787          97        50         Yes   \n",
      "788          97        51         Yes   \n",
      "789          97        52         Yes   \n",
      "790          97        53         Yes   \n",
      "791          97        54         Yes   \n",
      "792          97        55         Yes   \n",
      "793          97        58         Yes   \n",
      "794          97        59         Yes   \n",
      "795          97        60         Yes   \n",
      "796          97        61         Yes   \n",
      "797          97        64         Yes   \n",
      "798          97        88         Yes   \n",
      "\n",
      "                                                 Note  \n",
      "787                            YES - if catch-related  \n",
      "788                            YES - if catch-related  \n",
      "789                            YES - if catch-related  \n",
      "790                            YES - if catch-related  \n",
      "791                            YES - if catch-related  \n",
      "792                            YES - if catch-related  \n",
      "793                           YES - if effort-related  \n",
      "794                           YES - if effort-related  \n",
      "795                           YES - if effort-related  \n",
      "796                           YES - if effort-related  \n",
      "797  YES - if within-season assessment and management  \n",
      "798                                                NO  \n"
     ]
    },
    {
     "data": {
      "text/plain": [
       "<MSSP.mssp_objects.MsspQuestion at 0x10ec09690>"
      ]
     },
     "execution_count": 20,
     "metadata": {},
     "output_type": "execute_result"
    }
   ],
   "source": [
    "Eq.question(97)"
   ]
  },
  {
   "cell_type": "markdown",
   "metadata": {},
   "source": [
    "### Question 110 - add title"
   ]
  },
  {
   "cell_type": "code",
   "execution_count": 21,
   "metadata": {
    "collapsed": false
   },
   "outputs": [],
   "source": [
    "Eq._attributes['88bf52a1-cb69-3820-848f-3a3cdfbca583'].text = 'Is there latent effort in the fishery?'"
   ]
  },
  {
   "cell_type": "code",
   "execution_count": 22,
   "metadata": {
    "collapsed": false
   },
   "outputs": [
    {
     "name": "stdout",
     "output_type": "stream",
     "text": [
      "AttributeID ec11bea9-cbd3-3736-a89d-bbc7403e6910: IF YES\n",
      "AttributeID 2eb34970-1ca5-340c-b602-fde28fc7a841: Operational\n",
      "AttributeID 88bf52a1-cb69-3820-848f-3a3cdfbca583: Is there latent effort in the fishery?\n",
      "AttributeID 7b7dfde6-41b3-3745-80ad-a433ada48fde: R35\n"
     ]
    }
   ],
   "source": [
    "Eq.attributes(Eq.attributes_for(110))"
   ]
  },
  {
   "cell_type": "markdown",
   "metadata": {},
   "source": [
    "### Question 120 - make into two questions\n",
    "put the new one at QID 130, which is blank"
   ]
  },
  {
   "cell_type": "markdown",
   "metadata": {},
   "source": [
    "This is tricky- need to:\n",
    " 1. clone question into Eq._questions\n",
    " 2. remap attributes by visual inspection\n",
    " 3. except for category- duplicate\n",
    " 4. create new title for new question\n",
    " 5. remap all criteria with Question ID 120 to Question ID 130 (everything splits easily criteria vs caveats)"
   ]
  },
  {
   "cell_type": "code",
   "execution_count": 23,
   "metadata": {
    "collapsed": false
   },
   "outputs": [
    {
     "data": {
      "text/plain": [
       "{'_external_answers': [u'low', u'1', u'2', u'moderate', u'3', u'4', u'high'],\n",
       " '_yes_no_included': False,\n",
       " 'category': UUID('ceb4663a-e214-3c99-a3f4-1e49fedb3763'),\n",
       " 'references': [(u'ControlRules', (59, None)),\n",
       "  (u'Monitoring', (None, 8)),\n",
       "  (u'ControlRules', (60, None)),\n",
       "  (u'ControlRules', (61, None))],\n",
       " 'satisfied_by': set(),\n",
       " 'satisfies': set(),\n",
       " 'title': UUID('c661691a-999d-3a16-87bc-19506b938659'),\n",
       " 'valid_answers': [u'low', u'1', u'2', u'moderate', u'3', u'4', u'high']}"
      ]
     },
     "execution_count": 23,
     "metadata": {},
     "output_type": "execute_result"
    }
   ],
   "source": [
    "Eq._questions[120].__dict__"
   ]
  },
  {
   "cell_type": "code",
   "execution_count": 24,
   "metadata": {
    "collapsed": true
   },
   "outputs": [],
   "source": [
    "q120 = Eq._questions[120]"
   ]
  },
  {
   "cell_type": "code",
   "execution_count": 25,
   "metadata": {
    "collapsed": true
   },
   "outputs": [],
   "source": [
    "q130 = MSSP.mssp_objects.MsspQuestion()"
   ]
  },
  {
   "cell_type": "code",
   "execution_count": 26,
   "metadata": {
    "collapsed": false
   },
   "outputs": [],
   "source": [
    "q130._external_answers = copy.copy(q120._external_answers)\n",
    "q130.category = copy.copy(q120.category)\n",
    "q130.references = [('Monitoring', (None,8))]\n",
    "q130._update_valid_answers()"
   ]
  },
  {
   "cell_type": "code",
   "execution_count": 27,
   "metadata": {
    "collapsed": false
   },
   "outputs": [],
   "source": [
    "q130.title = Eq._attributes.add_element('How culturally ingrained is cooperation to management?')"
   ]
  },
  {
   "cell_type": "code",
   "execution_count": 28,
   "metadata": {
    "collapsed": false
   },
   "outputs": [],
   "source": [
    "Eq._questions[130] = q130"
   ]
  },
  {
   "cell_type": "code",
   "execution_count": 29,
   "metadata": {
    "collapsed": false
   },
   "outputs": [],
   "source": [
    "Eq.add_attribute_mapping(130, q130.category)"
   ]
  },
  {
   "cell_type": "code",
   "execution_count": 30,
   "metadata": {
    "collapsed": true
   },
   "outputs": [],
   "source": [
    "Eq.add_attribute_mapping(130, q130.title)"
   ]
  },
  {
   "cell_type": "code",
   "execution_count": 31,
   "metadata": {
    "collapsed": false
   },
   "outputs": [],
   "source": [
    "q120.references = [q120.references[i] for i in (0, 2, 3)]"
   ]
  },
  {
   "cell_type": "code",
   "execution_count": 32,
   "metadata": {
    "collapsed": false
   },
   "outputs": [
    {
     "data": {
      "text/plain": [
       "{'_external_answers': [u'low', u'1', u'2', u'moderate', u'3', u'4', u'high'],\n",
       " '_yes_no_included': False,\n",
       " 'category': UUID('ceb4663a-e214-3c99-a3f4-1e49fedb3763'),\n",
       " 'references': [(u'ControlRules', (59, None)),\n",
       "  (u'ControlRules', (60, None)),\n",
       "  (u'ControlRules', (61, None))],\n",
       " 'satisfied_by': set(),\n",
       " 'satisfies': set(),\n",
       " 'title': UUID('c661691a-999d-3a16-87bc-19506b938659'),\n",
       " 'valid_answers': [u'low', u'1', u'2', u'moderate', u'3', u'4', u'high']}"
      ]
     },
     "execution_count": 32,
     "metadata": {},
     "output_type": "execute_result"
    }
   ],
   "source": [
    "q120.__dict__"
   ]
  },
  {
   "cell_type": "code",
   "execution_count": 33,
   "metadata": {
    "collapsed": false
   },
   "outputs": [
    {
     "name": "stdout",
     "output_type": "stream",
     "text": [
      "AttributeID 57675259-e2bb-396f-9928-3a1d9d9d9f52: Level of fisher cooperation (includes cultural preferences)\n",
      "AttributeID 6d76686b-76ba-31b8-97ba-3968dada27ce: low\n",
      "AttributeID 80523536-69fa-35b5-99bb-11a15baa1ffc: Socio-economic\n",
      "AttributeID 5363bef5-825a-34c1-9e1c-f70551a5c2d9: CRITERIA: begin here. These will provide a first-cut shortlist of monitoring options based on the MINIMUM requirements for each form of monitoring.\n",
      "AttributeID 3fc6b453-876e-3792-9187-a562235b3754: criteria\n",
      "AttributeID fb85634b-9d29-3369-b134-0b0215ba9e7d: Fishery cooperation (wrt HS approach)\n",
      "AttributeID b08347fc-d4fd-38d6-b9b4-a4a6c36c1cac: How culturally ingrained is cooperation to management? Categories 1) unwilling to share and unwilling to record, 2) willing to share info but unwilling to record info, 3) willing to share and record but may not do so reliably, 4) willing and reliable sharing and recording\n",
      "AttributeID e4a57dc2-b4de-30b8-b466-dbf83459dfe8: moderate\n",
      "AttributeID 917fe653-f24a-3c8a-9454-70ecf153b7ba: high\n",
      "AttributeID c661691a-999d-3a16-87bc-19506b938659: What is the level of fishery cooperation, in terms of complying with and supporting management measures?\n",
      "AttributeID ceb4663a-e214-3c99-a3f4-1e49fedb3763: General\n",
      "AttributeID 952f9ad2-ae42-3a89-baf6-f8a05331c2ab: R44\n",
      "AttributeID 3aa84b9c-41b4-3bc3-a57a-0dfdecbe4154: includes cultural preferences\n",
      "AttributeID 4ea136c3-94aa-3dda-85b9-ab3c3d07f8ca: M3\n",
      "AttributeID 2e1e4837-a9d2-312e-b9f3-eb323556eef2: How culturally ingrained is cooperation to management?\n",
      "AttributeID c810f8ec-dcaa-3a5f-8b7b-cedd7a9521d9: willing if paid\n",
      "AttributeID 2b1dfefb-6909-31dd-a115-6ff39e730950: Are there enabling conditions\n"
     ]
    }
   ],
   "source": [
    "Eq.attributes(Eq.attributes_for(120))"
   ]
  },
  {
   "cell_type": "code",
   "execution_count": 34,
   "metadata": {
    "collapsed": true
   },
   "outputs": [],
   "source": [
    "def move_attribute(a_id, from_q, to_q):\n",
    "    try:\n",
    "        Eq.add_attribute_mapping(to_q, uuid.UUID(a_id))\n",
    "    except MsspError:\n",
    "        pass\n",
    "    Eq.del_attribute_mapping(from_q, uuid.UUID(a_id))"
   ]
  },
  {
   "cell_type": "code",
   "execution_count": 35,
   "metadata": {
    "collapsed": false
   },
   "outputs": [
    {
     "name": "stdout",
     "output_type": "stream",
     "text": [
      "Removed 1 reference\n",
      "Removed 1 reference\n",
      "Removed 1 reference\n",
      "Removed 1 reference\n",
      "Removed 1 reference\n"
     ]
    }
   ],
   "source": [
    "# make list of monitoring attributes that should be removed from CR question and added to M question\n",
    "for x in ['4ea136c3-94aa-3dda-85b9-ab3c3d07f8ca', '3fc6b453-876e-3792-9187-a562235b3754', \n",
    "          'fb85634b-9d29-3369-b134-0b0215ba9e7d', 'b08347fc-d4fd-38d6-b9b4-a4a6c36c1cac', '5363bef5-825a-34c1-9e1c-f70551a5c2d9']:\n",
    "    move_attribute(x, 120, 130)"
   ]
  },
  {
   "cell_type": "code",
   "execution_count": 36,
   "metadata": {
    "collapsed": false
   },
   "outputs": [
    {
     "name": "stdout",
     "output_type": "stream",
     "text": [
      "AttributeID ceb4663a-e214-3c99-a3f4-1e49fedb3763: General\n",
      "AttributeID 2e1e4837-a9d2-312e-b9f3-eb323556eef2: How culturally ingrained is cooperation to management?\n",
      "AttributeID 4ea136c3-94aa-3dda-85b9-ab3c3d07f8ca: M3\n",
      "AttributeID 3fc6b453-876e-3792-9187-a562235b3754: criteria\n",
      "AttributeID fb85634b-9d29-3369-b134-0b0215ba9e7d: Fishery cooperation (wrt HS approach)\n",
      "AttributeID b08347fc-d4fd-38d6-b9b4-a4a6c36c1cac: How culturally ingrained is cooperation to management? Categories 1) unwilling to share and unwilling to record, 2) willing to share info but unwilling to record info, 3) willing to share and record but may not do so reliably, 4) willing and reliable sharing and recording\n",
      "AttributeID 5363bef5-825a-34c1-9e1c-f70551a5c2d9: CRITERIA: begin here. These will provide a first-cut shortlist of monitoring options based on the MINIMUM requirements for each form of monitoring.\n"
     ]
    }
   ],
   "source": [
    "Eq.attributes(Eq.attributes_for(130))"
   ]
  },
  {
   "cell_type": "code",
   "execution_count": 37,
   "metadata": {
    "collapsed": false
   },
   "outputs": [],
   "source": [
    "Eq._criteria.loc[Eq._criteria['QuestionID']==120, 'QuestionID'] = 130"
   ]
  },
  {
   "cell_type": "code",
   "execution_count": 38,
   "metadata": {
    "collapsed": false
   },
   "outputs": [
    {
     "name": "stdout",
     "output_type": "stream",
     "text": [
      "Remapping answers with mapping [0, -1, 1, 2, 3, 4, 5]\n",
      "map from: [u'low', u'1', u'2', u'moderate', u'3', u'4', u'high']\n",
      "Remapping answers with mapping [0, -1, 1, 2, 3, 4]\n",
      "map from: [u'low', u'2', u'moderate', u'3', u'4', u'high']\n",
      "Remapping answers with mapping [0, 1, -1, 2, 3]\n",
      "map from: [u'low', u'moderate', u'3', u'4', u'high']\n",
      "Remapping answers with mapping [0, 1, -1, 2]\n",
      "map from: [u'low', u'moderate', u'4', u'high']\n",
      "Remapping answers with mapping [-1, 0, 1, 2, 3, 4, 5]\n",
      "map from: [u'low', u'1', u'2', u'moderate', u'3', u'4', u'high']\n",
      "Remapping answers with mapping [0, 1, -1, 2, 3, 4]\n",
      "map from: [u'1', u'2', u'moderate', u'3', u'4', u'high']\n",
      "Remapping answers with mapping [0, 1, 2, 3, -1]\n",
      "map from: [u'1', u'2', u'3', u'4', u'high']\n"
     ]
    }
   ],
   "source": [
    "Eq.delete_answer(120, '1')\n",
    "Eq.delete_answer(120, '2')\n",
    "Eq.delete_answer(120, '3')\n",
    "Eq.delete_answer(120, '4')\n",
    "Eq.delete_answer(130, 'low')\n",
    "Eq.delete_answer(130, 'moderate')\n",
    "Eq.delete_answer(130, 'high')"
   ]
  },
  {
   "cell_type": "code",
   "execution_count": 39,
   "metadata": {
    "collapsed": false
   },
   "outputs": [
    {
     "name": "stdout",
     "output_type": "stream",
     "text": [
      "Question ID: 120\n",
      "\"What is the level of fishery cooperation, in terms of complying with and supporting management measures?\"\n",
      "(Category: General)\n",
      "  * Level of fisher cooperation (includes cultural preferences)\n",
      "  * low\n",
      "  * Socio-economic\n",
      "  * moderate\n",
      "  * high\n",
      "  * R44\n",
      "  * includes cultural preferences\n",
      "  * How culturally ingrained is cooperation to management?\n",
      "  * willing if paid\n",
      "  * Are there enabling conditions\n",
      " References: ControlRules Row 59, ControlRules Row 60, ControlRules Row 61\n",
      "Valid Answers: [u'low', u'moderate', u'high']\n",
      " Satisfied By: None\n",
      " Satisfies: None\n",
      "Has Caveats:\n",
      "      QuestionID  TargetID AnswerValue                                   Note\n",
      "1089         120        50         low                                     NO\n",
      "1090         120        50    moderate                                CAUTION\n",
      "1091         120        50        high                                    YES\n",
      "1092         120        51         low                                     NO\n",
      "1093         120        51    moderate                                CAUTION\n",
      "1094         120        51        high                                    YES\n",
      "1095         120        52         low                                     NO\n",
      "1096         120        52    moderate                                CAUTION\n",
      "1097         120        52        high                                    YES\n",
      "1098         120        53         low                                     NO\n",
      "1099         120        53    moderate                                CAUTION\n",
      "1100         120        53        high                                    YES\n",
      "1101         120        54         low                                     NO\n",
      "1102         120        54    moderate                                CAUTION\n",
      "1103         120        54        high                                    YES\n",
      "1104         120        55         low                                     NO\n",
      "1105         120        55    moderate                                CAUTION\n",
      "1106         120        55        high                                    YES\n",
      "1107         120        56         low                                     NO\n",
      "1108         120        56    moderate                                CAUTION\n",
      "1109         120        56        high                                    YES\n",
      "1110         120        57         low                                     NO\n",
      "1111         120        57    moderate                                CAUTION\n",
      "1112         120        57        high                                    YES\n",
      "1113         120        58         low                                     NO\n",
      "1114         120        58    moderate                                CAUTION\n",
      "1115         120        58        high                                    YES\n",
      "1116         120        59         low                                     NO\n",
      "1117         120        59    moderate                                CAUTION\n",
      "1118         120        59        high                                    YES\n",
      "...          ...       ...         ...                                    ...\n",
      "1143         120        68         low  YES - though caution re: effort creep\n",
      "1144         120        69         low  YES - though caution re: effort creep\n",
      "1145         120        70         low                                     NO\n",
      "1146         120        70    moderate  YES - though caution re: effort creep\n",
      "1147         120        71         low                                     NO\n",
      "1148         120        71    moderate  YES - though caution re: effort creep\n",
      "1149         120        72         low                                     NO\n",
      "1150         120        72    moderate  YES - though caution re: effort creep\n",
      "1151         120        73         low                                     NO\n",
      "1152         120        73    moderate  YES - though caution re: effort creep\n",
      "1153         120        74         low                                     NO\n",
      "1154         120        74    moderate  YES - though caution re: effort creep\n",
      "1155         120        75         low                                     NO\n",
      "1156         120        75    moderate  YES - though caution re: effort creep\n",
      "1157         120        76         low                                     NO\n",
      "1158         120        76    moderate  YES - though caution re: effort creep\n",
      "1159         120        77         low                                     NO\n",
      "1160         120        77    moderate  YES - though caution re: effort creep\n",
      "1161         120        78         low                                     NO\n",
      "1162         120        78    moderate  YES - though caution re: effort creep\n",
      "1163         120        79    moderate  YES - though caution re: effort creep\n",
      "1164         120        80    moderate  YES - though caution re: effort creep\n",
      "1165         120        81    moderate  YES - though caution re: effort creep\n",
      "1166         120        82    moderate  YES - though caution re: effort creep\n",
      "1167         120        83    moderate  YES - though caution re: effort creep\n",
      "1168         120        84    moderate  YES - though caution re: effort creep\n",
      "1169         120        86         low                                    YES\n",
      "1170         120        87         low                                CAUTION\n",
      "1171         120        88         low                                CAUTION\n",
      "1172         120        89         low                                    YES\n",
      "\n",
      "[84 rows x 4 columns]\n"
     ]
    },
    {
     "data": {
      "text/plain": [
       "<MSSP.mssp_objects.MsspQuestion at 0x10ec1f390>"
      ]
     },
     "execution_count": 39,
     "metadata": {},
     "output_type": "execute_result"
    }
   ],
   "source": [
    "Eq.question(120)"
   ]
  },
  {
   "cell_type": "code",
   "execution_count": 40,
   "metadata": {
    "collapsed": false
   },
   "outputs": [
    {
     "name": "stdout",
     "output_type": "stream",
     "text": [
      "Question ID: 130\n",
      "\"How culturally ingrained is cooperation to management?\"\n",
      "(Category: General)\n",
      "  * M3\n",
      "  * criteria\n",
      "  * Fishery cooperation (wrt HS approach)\n",
      "  * How culturally ingrained is cooperation to management? Categories 1) unwilling to share and unwilling to record, 2) willing to share info but unwilling to record info, 3) willing to share and record but may not do so reliably, 4) willing and reliable sharing and recording\n",
      "  * CRITERIA: begin here. These will provide a first-cut shortlist of monitoring options based on the MINIMUM requirements for each form of monitoring.\n",
      " References: Monitoring Col H\n",
      "Valid Answers: [u'1', u'2', u'3', u'4']\n",
      " Satisfied By: None\n",
      " Satisfies: None\n",
      "Has Criteria:\n",
      "     QuestionID  TargetID AnswerValue\n",
      "264         130        98           1\n",
      "265         130        99           1\n",
      "266         130       100           1\n",
      "267         130       101           1\n",
      "268         130       102           2\n",
      "269         130       103           2\n",
      "270         130       104           2\n",
      "271         130       105           2\n",
      "272         130       106           1\n",
      "273         130       107           1\n",
      "274         130       108           1\n",
      "275         130       109           1\n",
      "276         130       110           2\n",
      "277         130       111           3\n",
      "278         130       112           3\n",
      "279         130       113           3\n",
      "280         130       114           2\n",
      "281         130       115           2\n",
      "282         130       116           2\n",
      "283         130       117           2\n",
      "284         130       118           4\n",
      "285         130       119           4\n",
      "286         130       120           4\n",
      "287         130       121           4\n",
      "288         130       122           2\n",
      "289         130       123           2\n",
      "290         130       124           2\n",
      "291         130       125           2\n",
      "292         130       126           2\n",
      "293         130       127           3\n",
      "294         130       128           3\n",
      "295         130       129           3\n",
      "296         130       130           3\n",
      "297         130       131           3\n",
      "298         130       132           3\n",
      "299         130       133           3\n",
      "300         130       134           3\n",
      "301         130       135           1\n",
      "302         130       136           1\n",
      "303         130       137           1\n",
      "304         130       138           1\n",
      "305         130       139           2\n",
      "306         130       140           2\n",
      "307         130       141           2\n",
      "308         130       142           2\n"
     ]
    },
    {
     "data": {
      "text/plain": [
       "<MSSP.mssp_objects.MsspQuestion at 0x10e554a90>"
      ]
     },
     "execution_count": 40,
     "metadata": {},
     "output_type": "execute_result"
    }
   ],
   "source": [
    "Eq.question(130)"
   ]
  },
  {
   "cell_type": "markdown",
   "metadata": {},
   "source": [
    "### Question 125: merge answers"
   ]
  },
  {
   "cell_type": "code",
   "execution_count": 8,
   "metadata": {
    "collapsed": false
   },
   "outputs": [],
   "source": [
    "#Eq.merge_answers(125, ['Yes', 'open access'], merge_to='open access')\n",
    "# strange stuff going on here- answers were wrongly mapped- fixing manually"
   ]
  },
  {
   "cell_type": "code",
   "execution_count": 41,
   "metadata": {
    "collapsed": false
   },
   "outputs": [],
   "source": [
    "Eq._questions[125].valid_answers = ['intermediate', ' open access', 'x', 'limited entry', 'y']"
   ]
  },
  {
   "cell_type": "code",
   "execution_count": 42,
   "metadata": {
    "collapsed": false
   },
   "outputs": [
    {
     "name": "stdout",
     "output_type": "stream",
     "text": [
      "Remapping answers with mapping [0, 1, -1, 2, 3]\n",
      "map from: ['intermediate', ' open access', 'x', 'limited entry', 'y']\n"
     ]
    }
   ],
   "source": [
    "Eq.delete_answer(125, 'x')"
   ]
  },
  {
   "cell_type": "code",
   "execution_count": 43,
   "metadata": {
    "collapsed": false
   },
   "outputs": [
    {
     "name": "stdout",
     "output_type": "stream",
     "text": [
      "Remapping answers with mapping [0, 1, 2, -1]\n",
      "map from: ['intermediate', ' open access', 'limited entry', 'y']\n"
     ]
    }
   ],
   "source": [
    "Eq.delete_answer(125, 'y')"
   ]
  },
  {
   "cell_type": "code",
   "execution_count": 44,
   "metadata": {
    "collapsed": false
   },
   "outputs": [
    {
     "name": "stdout",
     "output_type": "stream",
     "text": [
      "Remapping answers with mapping [1, 2, 0]\n",
      "map from: ['intermediate', ' open access', 'limited entry']\n"
     ]
    }
   ],
   "source": [
    "Eq.reorder_answers(125, [2, 0, 1])"
   ]
  },
  {
   "cell_type": "code",
   "execution_count": 45,
   "metadata": {
    "collapsed": false
   },
   "outputs": [
    {
     "name": "stdout",
     "output_type": "stream",
     "text": [
      "Question ID: 125\n",
      "\"Is the fishery open access, as opposed to limited entry?\"\n",
      "(Category: General)\n",
      "  * intermediate\n",
      "  * Governance\n",
      "  * Open access governance, to limited entry. (e.g.in an open access governance system the efficacy of tools like size , fishing season, or effort limits is often reduced by effort creep, but when access is limited this seems to be less of a problem and so the same tool would look more attractive)\n",
      "  * open access\n",
      "  * limited entry\n",
      "  * Is the fishery open access? (as opposed to limited entry)\n",
      "  * IF YES\n",
      "  * CAVEATS - Second, refine the shortlist of monitoring options according to the below range of criteria\n",
      "  * Strength of governance\n",
      "  * R48\n",
      "  * Check consistency in monitoring spreadsheet, question M8. In open access governance system, the efficacy of tools like size, fishng season, or effort limits is often reduced by effort creep, but when access is limited this seems to be less of a problem nd so the same tool would look more attractive.\n",
      "  * M8\n",
      "  * as opposed to limited entry in any way\n",
      " References: ControlRules Row 71, ControlRules Row 72, ControlRules Row 73, Monitoring Col M\n",
      "Valid Answers: ['limited entry', 'intermediate', ' open access']\n",
      " Satisfied By: None\n",
      " Satisfies: None\n",
      "Has Caveats:\n",
      "      QuestionID  TargetID    AnswerValue                              Note\n",
      "1308         125        50   intermediate                           CAUTION\n",
      "1309         125        50    open access                                NO\n",
      "1310         125        50  limited entry                               YES\n",
      "1311         125        51   intermediate                           CAUTION\n",
      "1312         125        51    open access                                NO\n",
      "1313         125        51  limited entry                               YES\n",
      "1314         125        52   intermediate                           CAUTION\n",
      "1315         125        52    open access                                NO\n",
      "1316         125        52  limited entry                               YES\n",
      "1317         125        53   intermediate                           CAUTION\n",
      "1318         125        53    open access                                NO\n",
      "1319         125        53  limited entry                               YES\n",
      "1320         125        54   intermediate                           CAUTION\n",
      "1321         125        54    open access                                NO\n",
      "1322         125        54  limited entry                               YES\n",
      "1323         125        55   intermediate                           CAUTION\n",
      "1324         125        55    open access                                NO\n",
      "1325         125        55  limited entry                               YES\n",
      "1326         125        56   intermediate                           CAUTION\n",
      "1327         125        56    open access                                NO\n",
      "1328         125        56  limited entry                               YES\n",
      "1329         125        57   intermediate                           CAUTION\n",
      "1330         125        57    open access                                NO\n",
      "1331         125        57  limited entry                               YES\n",
      "1332         125        58   intermediate                           CAUTION\n",
      "1333         125        58    open access                                NO\n",
      "1334         125        58  limited entry                               YES\n",
      "1335         125        59   intermediate                           CAUTION\n",
      "1336         125        59    open access                                NO\n",
      "1337         125        59  limited entry                               YES\n",
      "...          ...       ...            ...                               ...\n",
      "1385         125        80   intermediate                               YES\n",
      "1386         125        80    open access  NO - compromised by effort creep\n",
      "1387         125        81   intermediate                               YES\n",
      "1388         125        81    open access  NO - compromised by effort creep\n",
      "1389         125        82   intermediate                               YES\n",
      "1390         125        82    open access  NO - compromised by effort creep\n",
      "1391         125        83   intermediate                               YES\n",
      "1392         125        83    open access  NO - compromised by effort creep\n",
      "1393         125        84   intermediate                               YES\n",
      "1394         125        84    open access  NO - compromised by effort creep\n",
      "1395         125        86    open access                               YES\n",
      "1396         125        87    open access                               YES\n",
      "1397         125        88    open access                               YES\n",
      "1398         125        89    open access                               YES\n",
      "1399         125       110    open access          Difficult if open access\n",
      "1400         125       111    open access          Difficult if open access\n",
      "1401         125       112    open access          Difficult if open access\n",
      "1402         125       113    open access          Difficult if open access\n",
      "1403         125       118    open access          Difficult if open access\n",
      "1404         125       119    open access          Difficult if open access\n",
      "1405         125       120    open access          Difficult if open access\n",
      "1406         125       121    open access          Difficult if open access\n",
      "1407         125       127    open access          Difficult if open access\n",
      "1408         125       128    open access          Difficult if open access\n",
      "1409         125       129    open access          Difficult if open access\n",
      "1410         125       130    open access          Difficult if open access\n",
      "1411         125       131    open access          Difficult if open access\n",
      "1412         125       132    open access          Difficult if open access\n",
      "1413         125       133    open access          Difficult if open access\n",
      "1414         125       134    open access          Difficult if open access\n",
      "\n",
      "[107 rows x 4 columns]\n"
     ]
    },
    {
     "data": {
      "text/plain": [
       "<MSSP.mssp_objects.MsspQuestion at 0x10ec26290>"
      ]
     },
     "execution_count": 45,
     "metadata": {},
     "output_type": "execute_result"
    }
   ],
   "source": [
    "Eq.question(125)"
   ]
  },
  {
   "cell_type": "markdown",
   "metadata": {},
   "source": [
    "### Question 152 - clone caveats across several answers"
   ]
  },
  {
   "cell_type": "code",
   "execution_count": 46,
   "metadata": {
    "collapsed": false
   },
   "outputs": [
    {
     "name": "stdout",
     "output_type": "stream",
     "text": [
      "Question ID: 152\n",
      "\"Where is the capacity and mandate to faciliate or allow for monitoring?\"\n",
      "(Category: Strength of governance)\n",
      "  * IF REGIONAL, STATE OR NATIONAL\n",
      "  * CAVEATS - Second, refine the shortlist of monitoring options according to the below range of criteria\n",
      "  * What is the dominant system of governance? (Community level, Regional, State, National) (SEE ALSO COLUMN AT)\n",
      "  * What is the dominant system of governance? (Community level, Regional, State, National)\n",
      "  * IF COMMUNITY\n",
      "  * FROM HERE AND TO THE RIGHT ARE \"EXPANDED\" CAVEAT CATEGORIES\n",
      "  * M7\n",
      "  * in this instance state and national\n",
      "  * Replace with \"Where is the capacity and mandate to faciliate or allow for monitoring?\"\n",
      " References: Monitoring Col AP, Monitoring Col L\n",
      "Valid Answers: [u'Regional, State, or National', u'IF COMMUNITY']\n",
      " Satisfied By: None\n",
      " Satisfies: None\n",
      "Has Caveats:\n",
      "      QuestionID  TargetID                   AnswerValue  \\\n",
      "1622         152        98  Regional, State, or National   \n",
      "1623         152        98                  IF COMMUNITY   \n",
      "1624         152        99  Regional, State, or National   \n",
      "1625         152        99                  IF COMMUNITY   \n",
      "1626         152       100  Regional, State, or National   \n",
      "1627         152       100                  IF COMMUNITY   \n",
      "1628         152       101  Regional, State, or National   \n",
      "1629         152       101                  IF COMMUNITY   \n",
      "1630         152       110  Regional, State, or National   \n",
      "1631         152       110                  IF COMMUNITY   \n",
      "1632         152       111  Regional, State, or National   \n",
      "1633         152       111                  IF COMMUNITY   \n",
      "1634         152       112  Regional, State, or National   \n",
      "1635         152       112                  IF COMMUNITY   \n",
      "1636         152       113  Regional, State, or National   \n",
      "1637         152       113                  IF COMMUNITY   \n",
      "1638         152       114  Regional, State, or National   \n",
      "1639         152       114                  IF COMMUNITY   \n",
      "1640         152       115  Regional, State, or National   \n",
      "1641         152       115                  IF COMMUNITY   \n",
      "1642         152       116  Regional, State, or National   \n",
      "1643         152       116                  IF COMMUNITY   \n",
      "1644         152       118  Regional, State, or National   \n",
      "1645         152       118                  IF COMMUNITY   \n",
      "1646         152       119  Regional, State, or National   \n",
      "1647         152       119                  IF COMMUNITY   \n",
      "1648         152       120  Regional, State, or National   \n",
      "1649         152       120                  IF COMMUNITY   \n",
      "1650         152       121  Regional, State, or National   \n",
      "1651         152       121                  IF COMMUNITY   \n",
      "...          ...       ...                           ...   \n",
      "1654         152       123  Regional, State, or National   \n",
      "1655         152       123                  IF COMMUNITY   \n",
      "1656         152       124  Regional, State, or National   \n",
      "1657         152       124                  IF COMMUNITY   \n",
      "1658         152       125  Regional, State, or National   \n",
      "1659         152       125                  IF COMMUNITY   \n",
      "1660         152       127  Regional, State, or National   \n",
      "1661         152       127                  IF COMMUNITY   \n",
      "1662         152       128  Regional, State, or National   \n",
      "1663         152       128                  IF COMMUNITY   \n",
      "1664         152       129  Regional, State, or National   \n",
      "1665         152       129                  IF COMMUNITY   \n",
      "1666         152       130  Regional, State, or National   \n",
      "1667         152       130                  IF COMMUNITY   \n",
      "1668         152       131  Regional, State, or National   \n",
      "1669         152       131                  IF COMMUNITY   \n",
      "1670         152       132  Regional, State, or National   \n",
      "1671         152       132                  IF COMMUNITY   \n",
      "1672         152       133  Regional, State, or National   \n",
      "1673         152       133                  IF COMMUNITY   \n",
      "1674         152       134  Regional, State, or National   \n",
      "1675         152       134                  IF COMMUNITY   \n",
      "1676         152       139  Regional, State, or National   \n",
      "1677         152       139                  IF COMMUNITY   \n",
      "1678         152       140  Regional, State, or National   \n",
      "1679         152       140                  IF COMMUNITY   \n",
      "1680         152       141  Regional, State, or National   \n",
      "1681         152       141                  IF COMMUNITY   \n",
      "1682         152       142  Regional, State, or National   \n",
      "1683         152       142                  IF COMMUNITY   \n",
      "\n",
      "                                      Note  \n",
      "1622             Easier if community-based  \n",
      "1623             Easier if community-based  \n",
      "1624             Easier if community-based  \n",
      "1625             Easier if community-based  \n",
      "1626             Easier if community-based  \n",
      "1627             Easier if community-based  \n",
      "1628             Easier if community-based  \n",
      "1629             Easier if community-based  \n",
      "1630             Easier if community-based  \n",
      "1631             Easier if community-based  \n",
      "1632             Easier if community-based  \n",
      "1633             Easier if community-based  \n",
      "1634             Easier if community-based  \n",
      "1635             Easier if community-based  \n",
      "1636             Easier if community-based  \n",
      "1637             Easier if community-based  \n",
      "1638             Easier if community-based  \n",
      "1639             Easier if community-based  \n",
      "1640             Easier if community-based  \n",
      "1641             Easier if community-based  \n",
      "1642             Easier if community-based  \n",
      "1643             Easier if community-based  \n",
      "1644             Easier if community-based  \n",
      "1645             Easier if community-based  \n",
      "1646             Easier if community-based  \n",
      "1647             Easier if community-based  \n",
      "1648             Easier if community-based  \n",
      "1649             Easier if community-based  \n",
      "1650             Easier if community-based  \n",
      "1651             Easier if community-based  \n",
      "...                                    ...  \n",
      "1654  Easier if at least at regional level  \n",
      "1655  Easier if at least at regional level  \n",
      "1656  Easier if at least at regional level  \n",
      "1657  Easier if at least at regional level  \n",
      "1658  Easier if at least at regional level  \n",
      "1659  Easier if at least at regional level  \n",
      "1660             Easier if community-based  \n",
      "1661             Easier if community-based  \n",
      "1662             Easier if community-based  \n",
      "1663             Easier if community-based  \n",
      "1664             Easier if community-based  \n",
      "1665             Easier if community-based  \n",
      "1666             Easier if community-based  \n",
      "1667             Easier if community-based  \n",
      "1668  Easier if at least at regional level  \n",
      "1669  Easier if at least at regional level  \n",
      "1670  Easier if at least at regional level  \n",
      "1671  Easier if at least at regional level  \n",
      "1672  Easier if at least at regional level  \n",
      "1673  Easier if at least at regional level  \n",
      "1674  Easier if at least at regional level  \n",
      "1675  Easier if at least at regional level  \n",
      "1676  Easier if at least at regional level  \n",
      "1677  Easier if at least at regional level  \n",
      "1678  Easier if at least at regional level  \n",
      "1679  Easier if at least at regional level  \n",
      "1680  Easier if at least at regional level  \n",
      "1681  Easier if at least at regional level  \n",
      "1682  Easier if at least at regional level  \n",
      "1683  Easier if at least at regional level  \n",
      "\n",
      "[62 rows x 4 columns]\n"
     ]
    },
    {
     "data": {
      "text/plain": [
       "<MSSP.mssp_objects.MsspQuestion at 0x10ec2e390>"
      ]
     },
     "execution_count": 46,
     "metadata": {},
     "output_type": "execute_result"
    }
   ],
   "source": [
    "Eq.question(152)"
   ]
  },
  {
   "cell_type": "code",
   "execution_count": 47,
   "metadata": {
    "collapsed": false
   },
   "outputs": [
    {
     "name": "stdout",
     "output_type": "stream",
     "text": [
      "Remapping answers with mapping [1, 0]\n",
      "map from: ['Regional', 'Community']\n"
     ]
    }
   ],
   "source": [
    "# first, reword and reorder answers\n",
    "Eq._questions[152].valid_answers = ['Regional', 'Community']\n",
    "Eq.reorder_answers(152, [1,0])"
   ]
  },
  {
   "cell_type": "code",
   "execution_count": 48,
   "metadata": {
    "collapsed": false
   },
   "outputs": [
    {
     "name": "stdout",
     "output_type": "stream",
     "text": [
      "Remapping answers with mapping [0, 1]\n",
      "map from: ['Community', 'Regional']\n"
     ]
    }
   ],
   "source": [
    "Eq.refactor_answers(152, ['Community', 'Regional', 'State', 'National'])"
   ]
  },
  {
   "cell_type": "code",
   "execution_count": 49,
   "metadata": {
    "collapsed": false
   },
   "outputs": [],
   "source": [
    "cavs = Eq._caveats.copy()\n",
    "for index,row in Eq._caveats.loc[(Eq._caveats['QuestionID']==152) & (Eq._caveats['Answer'] == 1)].iterrows():\n",
    "    r1 = row.copy()\n",
    "    r1['Answer'] = 2\n",
    "    cavs = cavs.append(r1, ignore_index=True)\n",
    "    r2 = row.copy()\n",
    "    r2['Answer'] = 3\n",
    "    cavs = cavs.append(r2, ignore_index=True)"
   ]
  },
  {
   "cell_type": "code",
   "execution_count": 50,
   "metadata": {
    "collapsed": false
   },
   "outputs": [],
   "source": [
    "Eq._caveats = cavs"
   ]
  },
  {
   "cell_type": "markdown",
   "metadata": {},
   "source": [
    "### Question 159 - keep as is"
   ]
  },
  {
   "cell_type": "code",
   "execution_count": 51,
   "metadata": {
    "collapsed": false
   },
   "outputs": [
    {
     "name": "stdout",
     "output_type": "stream",
     "text": [
      "Question ID: 159\n",
      "\"Are regulations effectively enforced?\"\n",
      "(Category: Enforcement capability)\n",
      "  * Are regulations enforced, AND, IF they are enforced, are regulations/governance trusted and respected?  (SEE ALSO COLUMNS AY,AZ)\n",
      "  * CAVEATS - Second, refine the shortlist of monitoring options according to the below range of criteria\n",
      "  * IF ENFORCED, BUT NOT RESPECTED\n",
      "  * Are regulations enforced, AND, IF they are enforced, are regulations/governance trusted and respected? \n",
      "  * IF NOT ENFORCED\n",
      "  * IF ENFORCED, AND RESPECTED\n",
      "  * M15\n",
      "  * Reword to \"Does enforcement capacity exist, and, if so..?\"\n",
      "  * ·       Regulations enforced:  Steven answered yes, but it is not effective.\n",
      " References: Monitoring Col AU, Monitoring Col AV, Monitoring Col T\n",
      "Valid Answers: [u'IF NOT ENFORCED', u'IF ENFORCED, BUT NOT RESPECTED', u'IF ENFORCED, AND RESPECTED']\n",
      " Satisfied By: None\n",
      " Satisfies: None\n",
      "Has Caveats:\n",
      "      QuestionID  TargetID                     AnswerValue  \\\n",
      "1931         159       102                 IF NOT ENFORCED   \n",
      "1932         159       102  IF ENFORCED, BUT NOT RESPECTED   \n",
      "1933         159       102      IF ENFORCED, AND RESPECTED   \n",
      "1934         159       103                 IF NOT ENFORCED   \n",
      "1935         159       103  IF ENFORCED, BUT NOT RESPECTED   \n",
      "1936         159       103      IF ENFORCED, AND RESPECTED   \n",
      "1937         159       104                 IF NOT ENFORCED   \n",
      "1938         159       104  IF ENFORCED, BUT NOT RESPECTED   \n",
      "1939         159       104      IF ENFORCED, AND RESPECTED   \n",
      "1940         159       105                 IF NOT ENFORCED   \n",
      "1941         159       105  IF ENFORCED, BUT NOT RESPECTED   \n",
      "1942         159       105      IF ENFORCED, AND RESPECTED   \n",
      "1943         159       110                 IF NOT ENFORCED   \n",
      "1944         159       110  IF ENFORCED, BUT NOT RESPECTED   \n",
      "1945         159       110      IF ENFORCED, AND RESPECTED   \n",
      "1946         159       111                 IF NOT ENFORCED   \n",
      "1947         159       111  IF ENFORCED, BUT NOT RESPECTED   \n",
      "1948         159       111      IF ENFORCED, AND RESPECTED   \n",
      "1949         159       112                 IF NOT ENFORCED   \n",
      "1950         159       112  IF ENFORCED, BUT NOT RESPECTED   \n",
      "1951         159       112      IF ENFORCED, AND RESPECTED   \n",
      "1952         159       113                 IF NOT ENFORCED   \n",
      "1953         159       113  IF ENFORCED, BUT NOT RESPECTED   \n",
      "1954         159       113      IF ENFORCED, AND RESPECTED   \n",
      "1955         159       114                 IF NOT ENFORCED   \n",
      "1956         159       114  IF ENFORCED, BUT NOT RESPECTED   \n",
      "1957         159       114      IF ENFORCED, AND RESPECTED   \n",
      "1958         159       115                 IF NOT ENFORCED   \n",
      "1959         159       115  IF ENFORCED, BUT NOT RESPECTED   \n",
      "1960         159       115      IF ENFORCED, AND RESPECTED   \n",
      "...          ...       ...                             ...   \n",
      "1984         159       127      IF ENFORCED, AND RESPECTED   \n",
      "1985         159       128                 IF NOT ENFORCED   \n",
      "1986         159       128  IF ENFORCED, BUT NOT RESPECTED   \n",
      "1987         159       128      IF ENFORCED, AND RESPECTED   \n",
      "1988         159       129                 IF NOT ENFORCED   \n",
      "1989         159       129  IF ENFORCED, BUT NOT RESPECTED   \n",
      "1990         159       129      IF ENFORCED, AND RESPECTED   \n",
      "1991         159       130                 IF NOT ENFORCED   \n",
      "1992         159       130  IF ENFORCED, BUT NOT RESPECTED   \n",
      "1993         159       130      IF ENFORCED, AND RESPECTED   \n",
      "1994         159       131                 IF NOT ENFORCED   \n",
      "1995         159       131  IF ENFORCED, BUT NOT RESPECTED   \n",
      "1996         159       131      IF ENFORCED, AND RESPECTED   \n",
      "1997         159       132                 IF NOT ENFORCED   \n",
      "1998         159       132  IF ENFORCED, BUT NOT RESPECTED   \n",
      "1999         159       132      IF ENFORCED, AND RESPECTED   \n",
      "2000         159       133                 IF NOT ENFORCED   \n",
      "2001         159       133  IF ENFORCED, BUT NOT RESPECTED   \n",
      "2002         159       133      IF ENFORCED, AND RESPECTED   \n",
      "2003         159       134                 IF NOT ENFORCED   \n",
      "2004         159       134  IF ENFORCED, BUT NOT RESPECTED   \n",
      "2005         159       134      IF ENFORCED, AND RESPECTED   \n",
      "2006         159       139                 IF NOT ENFORCED   \n",
      "2007         159       139      IF ENFORCED, AND RESPECTED   \n",
      "2008         159       140                 IF NOT ENFORCED   \n",
      "2009         159       140      IF ENFORCED, AND RESPECTED   \n",
      "2010         159       141                 IF NOT ENFORCED   \n",
      "2011         159       141      IF ENFORCED, AND RESPECTED   \n",
      "2012         159       142                 IF NOT ENFORCED   \n",
      "2013         159       142      IF ENFORCED, AND RESPECTED   \n",
      "\n",
      "                                                   Note  \n",
      "1931  May get more honest representation if no accou...  \n",
      "1932  If governance/enforcement is not trusted or re...  \n",
      "1933                                      Helpful if so  \n",
      "1934  May get more honest representation if no accou...  \n",
      "1935  If governance/enforcement is not trusted or re...  \n",
      "1936                                      Helpful if so  \n",
      "1937  May get more honest representation if no accou...  \n",
      "1938  If governance/enforcement is not trusted or re...  \n",
      "1939                                      Helpful if so  \n",
      "1940  May get more honest representation if no accou...  \n",
      "1941  If governance/enforcement is not trusted or re...  \n",
      "1942                                      Helpful if so  \n",
      "1943  May get more honest representation if no accou...  \n",
      "1944  If governance/enforcement is not trusted or re...  \n",
      "1945                                      Helpful if so  \n",
      "1946  May get more honest representation if no accou...  \n",
      "1947  If governance/enforcement is not trusted or re...  \n",
      "1948                                      Helpful if so  \n",
      "1949  May get more honest representation if no accou...  \n",
      "1950  If governance/enforcement is not trusted or re...  \n",
      "1951                                      Helpful if so  \n",
      "1952  May get more honest representation if no accou...  \n",
      "1953  If governance/enforcement is not trusted or re...  \n",
      "1954                                      Helpful if so  \n",
      "1955  May get more honest representation if no accou...  \n",
      "1956  If governance/enforcement is not trusted or re...  \n",
      "1957                                      Helpful if so  \n",
      "1958  May get more honest representation if no accou...  \n",
      "1959  If governance/enforcement is not trusted or re...  \n",
      "1960                                      Helpful if so  \n",
      "...                                                 ...  \n",
      "1984                                      Helpful if so  \n",
      "1985  May get more honest representation if no accou...  \n",
      "1986  If governance/enforcement is not trusted or re...  \n",
      "1987                                      Helpful if so  \n",
      "1988  May get more honest representation if no accou...  \n",
      "1989  If governance/enforcement is not trusted or re...  \n",
      "1990                                      Helpful if so  \n",
      "1991  May get more honest representation if no accou...  \n",
      "1992  If governance/enforcement is not trusted or re...  \n",
      "1993                                      Helpful if so  \n",
      "1994  May get more honest representation if no accou...  \n",
      "1995  If governance/enforcement is not trusted or re...  \n",
      "1996                                      Helpful if so  \n",
      "1997  May get more honest representation if no accou...  \n",
      "1998  If governance/enforcement is not trusted or re...  \n",
      "1999                                      Helpful if so  \n",
      "2000  May get more honest representation if no accou...  \n",
      "2001  If governance/enforcement is not trusted or re...  \n",
      "2002                                      Helpful if so  \n",
      "2003  May get more honest representation if no accou...  \n",
      "2004  If governance/enforcement is not trusted or re...  \n",
      "2005                                      Helpful if so  \n",
      "2006  May get more honest representation if no accou...  \n",
      "2007                                      Helpful if so  \n",
      "2008  May get more honest representation if no accou...  \n",
      "2009                                      Helpful if so  \n",
      "2010  May get more honest representation if no accou...  \n",
      "2011                                      Helpful if so  \n",
      "2012  May get more honest representation if no accou...  \n",
      "2013                                      Helpful if so  \n",
      "\n",
      "[83 rows x 4 columns]\n"
     ]
    },
    {
     "data": {
      "text/plain": [
       "<MSSP.mssp_objects.MsspQuestion at 0x10ec34910>"
      ]
     },
     "execution_count": 51,
     "metadata": {},
     "output_type": "execute_result"
    }
   ],
   "source": [
    "Eq.question(159)"
   ]
  },
  {
   "cell_type": "markdown",
   "metadata": {},
   "source": [
    "### Question 168 - keep yes/no"
   ]
  },
  {
   "cell_type": "code",
   "execution_count": 52,
   "metadata": {
    "collapsed": false
   },
   "outputs": [
    {
     "name": "stdout",
     "output_type": "stream",
     "text": [
      "Question ID: 168\n",
      "\"Is there illegal, unregulated, or unreported fishing?\"\n",
      "(Category: Operational characteristics)\n",
      "  * IF YES\n",
      "  * CAVEATS - Second, refine the shortlist of monitoring options according to the below range of criteria\n",
      "  * M27\n",
      " References: Monitoring Col AE\n",
      "Valid Answers: ['No', 'Yes']\n",
      " Satisfied By: None\n",
      " Satisfies: None\n",
      "Has Caveats:\n",
      "      QuestionID  TargetID AnswerValue                       Note\n",
      "2356         168        98         Yes  May not be representative\n",
      "2357         168        99         Yes  May not be representative\n",
      "2358         168       100         Yes  May not be representative\n",
      "2359         168       101         Yes  May not be representative\n",
      "2360         168       102         Yes  May not be representative\n",
      "2361         168       103         Yes  May not be representative\n",
      "2362         168       104         Yes  May not be representative\n",
      "2363         168       105         Yes  May not be representative\n",
      "2364         168       106         Yes  May not be representative\n",
      "2365         168       107         Yes  May not be representative\n",
      "2366         168       108         Yes  May not be representative\n",
      "2367         168       109         Yes  May not be representative\n",
      "2368         168       110         Yes  May not be representative\n",
      "2369         168       111         Yes  May not be representative\n",
      "2370         168       112         Yes  May not be representative\n",
      "2371         168       113         Yes  May not be representative\n",
      "2372         168       114         Yes  May not be representative\n",
      "2373         168       115         Yes  May not be representative\n",
      "2374         168       116         Yes  May not be representative\n",
      "2375         168       126         Yes  May not be representative\n",
      "2376         168       127         Yes  May not be representative\n",
      "2377         168       128         Yes  May not be representative\n",
      "2378         168       129         Yes  May not be representative\n",
      "2379         168       130         Yes  May not be representative\n",
      "2380         168       131         Yes  May not be representative\n",
      "2381         168       132         Yes  May not be representative\n",
      "2382         168       133         Yes  May not be representative\n",
      "2383         168       134         Yes  May not be representative\n",
      "2384         168       135         Yes  May not be representative\n",
      "2385         168       136         Yes  May not be representative\n",
      "2386         168       137         Yes  May not be representative\n",
      "2387         168       138         Yes  May not be representative\n",
      "2388         168       139         Yes  May not be representative\n",
      "2389         168       140         Yes  May not be representative\n",
      "2390         168       141         Yes  May not be representative\n",
      "2391         168       142         Yes  May not be representative\n"
     ]
    },
    {
     "data": {
      "text/plain": [
       "<MSSP.mssp_objects.MsspQuestion at 0x10ec42390>"
      ]
     },
     "execution_count": 52,
     "metadata": {},
     "output_type": "execute_result"
    }
   ],
   "source": [
    "Eq.question(168)"
   ]
  },
  {
   "cell_type": "markdown",
   "metadata": {},
   "source": [
    "### Questions 49+170\n",
    "My split: Q49 = A10 + R47; Q170 = M30\n",
    "\n",
    "Correct split: Q49 = A10; Q170 = R47 + M30\n",
    "\n",
    "Required actions:\n",
    " * reassign Q49 Control Rules caveats to Q170\n",
    " * reassign Q49 Control Rules attributes to Q170\n",
    " * Re-title Q170"
   ]
  },
  {
   "cell_type": "code",
   "execution_count": 53,
   "metadata": {
    "collapsed": false
   },
   "outputs": [
    {
     "name": "stdout",
     "output_type": "stream",
     "text": [
      "Question ID: 49\n",
      "\"Have there been operational changes in the fishery that compromise the current validity of historical data? (NB this is a different question to M30 in the Monitoring spreadsheet)\"\n",
      "(Category: General)\n",
      "  * IF YES\n",
      "  * Is the nature of fishing operations (e.g. target species, gear types, fishing locations, markets) changing?\n",
      "  * Socio-economic\n",
      "  * Additional requirements (not elsewhere included). These are not included in the vector matching but should pop up as warnings depending on the response.\n",
      "  * Caveats\n",
      "  * Y\n",
      "  * Have there been operational changes in the fishery? IF YES\n",
      "  * A10\n",
      "  * needs to be phrased the same as the question in mo nitoring.\n",
      "  * R47\n",
      "  * Examples: target species, gear types, fishing locations, markets\n",
      " References: Assessment Row 89, ControlRules Row 69\n",
      "Valid Answers: ['No', 'Yes']\n",
      " Satisfied By: None\n",
      " Satisfies: None\n",
      "Has Caveats:\n",
      "     QuestionID  TargetID AnswerValue  \\\n",
      "110          49         8         Yes   \n",
      "111          49         9         Yes   \n",
      "112          49        31         Yes   \n",
      "113          49        50         Yes   \n",
      "114          49        51         Yes   \n",
      "115          49        52         Yes   \n",
      "116          49        53         Yes   \n",
      "117          49        54         Yes   \n",
      "118          49        55         Yes   \n",
      "119          49        56         Yes   \n",
      "120          49        57         Yes   \n",
      "121          49        58         Yes   \n",
      "122          49        59         Yes   \n",
      "123          49        60         Yes   \n",
      "124          49        61         Yes   \n",
      "125          49        62         Yes   \n",
      "126          49        63         Yes   \n",
      "127          49        64         Yes   \n",
      "128          49        65         Yes   \n",
      "129          49        66         Yes   \n",
      "130          49        67         Yes   \n",
      "131          49        68         Yes   \n",
      "132          49        69         Yes   \n",
      "133          49        70         Yes   \n",
      "134          49        71         Yes   \n",
      "135          49        72         Yes   \n",
      "136          49        73         Yes   \n",
      "137          49        74         Yes   \n",
      "138          49        75         Yes   \n",
      "139          49        76         Yes   \n",
      "140          49        77         Yes   \n",
      "141          49        78         Yes   \n",
      "142          49        87         Yes   \n",
      "143          49        88         Yes   \n",
      "\n",
      "                                                  Note  \n",
      "110  may not be useful if fishery operational chang...  \n",
      "111  may not be useful if fishery operational chang...  \n",
      "112  Assumes equilibrium biomass; beware changes in...  \n",
      "113  Ensure magnitude of measure is relevant to cur...  \n",
      "114  Ensure magnitude of measure is relevant to cur...  \n",
      "115  Ensure magnitude of measure is relevant to cur...  \n",
      "116  Ensure magnitude of measure is relevant to cur...  \n",
      "117  Ensure magnitude of measure is relevant to cur...  \n",
      "118  Ensure magnitude of measure is relevant to cur...  \n",
      "119  Ensure magnitude of measure is relevant to cur...  \n",
      "120  Ensure magnitude of measure is relevant to cur...  \n",
      "121  Ensure magnitude of measure is relevant to cur...  \n",
      "122  Ensure magnitude of measure is relevant to cur...  \n",
      "123  Ensure magnitude of measure is relevant to cur...  \n",
      "124  Ensure magnitude of measure is relevant to cur...  \n",
      "125      Ensure measure is relevant to current context  \n",
      "126      Ensure measure is relevant to current context  \n",
      "127      Ensure measure is relevant to current context  \n",
      "128  Ensure magnitude of measure is relevant to cur...  \n",
      "129  Ensure magnitude of measure is relevant to cur...  \n",
      "130  Ensure magnitude of measure is relevant to cur...  \n",
      "131      Ensure measure is relevant to current context  \n",
      "132      Ensure measure is relevant to current context  \n",
      "133      Ensure measure is relevant to current context  \n",
      "134      Ensure measure is relevant to current context  \n",
      "135      Ensure measure is relevant to current context  \n",
      "136      Ensure measure is relevant to current context  \n",
      "137      Ensure measure is relevant to current context  \n",
      "138      Ensure measure is relevant to current context  \n",
      "139      Ensure measure is relevant to current context  \n",
      "140      Ensure measure is relevant to current context  \n",
      "141      Ensure measure is relevant to current context  \n",
      "142                                                YES  \n",
      "143                                                 NO  \n"
     ]
    },
    {
     "data": {
      "text/plain": [
       "<MSSP.mssp_objects.MsspQuestion at 0x10ebdd790>"
      ]
     },
     "execution_count": 53,
     "metadata": {},
     "output_type": "execute_result"
    }
   ],
   "source": [
    "Eq.question(49)"
   ]
  },
  {
   "cell_type": "code",
   "execution_count": 54,
   "metadata": {
    "collapsed": false
   },
   "outputs": [
    {
     "name": "stdout",
     "output_type": "stream",
     "text": [
      "Question ID: 170\n",
      "\"Is the nature of the fishery changing rapidly?\"\n",
      "(Category: Operational characteristics)\n",
      "  * IF YES\n",
      "  * CAVEATS - Second, refine the shortlist of monitoring options according to the below range of criteria\n",
      "  * M30\n",
      "  * be clear about time frame. There has been a big change in the past five years. What do we mean by nature? It is still a trap based fishery, but effort is increwsing\n",
      " References: Monitoring Col AH\n",
      "Valid Answers: ['No', 'Yes']\n",
      " Satisfied By: None\n",
      " Satisfies: None\n",
      "Has Caveats:\n",
      "      QuestionID  TargetID AnswerValue                       Note\n",
      "2404         170        98         Yes  May not be representative\n",
      "2405         170        99         Yes  May not be representative\n",
      "2406         170       100         Yes  May not be representative\n",
      "2407         170       101         Yes  May not be representative\n",
      "2408         170       102         Yes  May not be representative\n",
      "2409         170       103         Yes  May not be representative\n",
      "2410         170       104         Yes  May not be representative\n",
      "2411         170       105         Yes  May not be representative\n",
      "2412         170       106         Yes  May not be representative\n",
      "2413         170       107         Yes  May not be representative\n",
      "2414         170       108         Yes  May not be representative\n",
      "2415         170       109         Yes  May not be representative\n",
      "2416         170       110         Yes  May not be representative\n",
      "2417         170       111         Yes  May not be representative\n",
      "2418         170       112         Yes  May not be representative\n",
      "2419         170       113         Yes  May not be representative\n",
      "2420         170       114         Yes  May not be representative\n",
      "2421         170       115         Yes  May not be representative\n",
      "2422         170       116         Yes  May not be representative\n",
      "2423         170       117         Yes  May not be representative\n",
      "2424         170       118         Yes  May not be representative\n",
      "2425         170       119         Yes  May not be representative\n",
      "2426         170       120         Yes  May not be representative\n",
      "2427         170       121         Yes  May not be representative\n",
      "2428         170       122         Yes  May not be representative\n",
      "2429         170       123         Yes  May not be representative\n",
      "2430         170       124         Yes  May not be representative\n",
      "2431         170       125         Yes  May not be representative\n",
      "2432         170       140         Yes  May not be representative\n",
      "2433         170       141         Yes  May not be representative\n",
      "2434         170       142         Yes  May not be representative\n"
     ]
    },
    {
     "data": {
      "text/plain": [
       "<MSSP.mssp_objects.MsspQuestion at 0x10ec42810>"
      ]
     },
     "execution_count": 54,
     "metadata": {},
     "output_type": "execute_result"
    }
   ],
   "source": [
    "Eq.question(170)"
   ]
  },
  {
   "cell_type": "code",
   "execution_count": 55,
   "metadata": {
    "collapsed": false
   },
   "outputs": [],
   "source": [
    "Eq._caveats.loc[(Eq._caveats['QuestionID'] == 49) & \n",
    "                (Eq._caveats['TargetID'].isin(Eq.targets_for('ControlRules'))), 'QuestionID'] = 170"
   ]
  },
  {
   "cell_type": "code",
   "execution_count": 56,
   "metadata": {
    "collapsed": false
   },
   "outputs": [
    {
     "name": "stdout",
     "output_type": "stream",
     "text": [
      "AttributeID ec11bea9-cbd3-3736-a89d-bbc7403e6910: IF YES\n",
      "AttributeID b8a44f84-6147-38ff-9d0c-4f530bf69a8d: Is the nature of fishing operations (e.g. target species, gear types, fishing locations, markets) changing?\n",
      "AttributeID 80523536-69fa-35b5-99bb-11a15baa1ffc: Socio-economic\n",
      "AttributeID 12ace8bf-0d5b-3ce6-be67-5e432f992854: Additional requirements (not elsewhere included). These are not included in the vector matching but should pop up as warnings depending on the response.\n",
      "AttributeID d1cb3b06-a7b0-3773-9ead-488f1c1ad64d: Caveats\n",
      "AttributeID b5a7df97-3b0c-389d-b269-4ad0c038df5a: Y\n",
      "AttributeID 9d430299-572b-362d-ac22-320165713cda: Have there been operational changes in the fishery? IF YES\n",
      "AttributeID a8d8a83f-37e5-3b75-b22c-b9246fd76509: Have there been operational changes in the fishery that compromise the current validity of historical data? (NB this is a different question to M30 in the Monitoring spreadsheet)\n",
      "AttributeID 0a9b99ec-9c5b-3537-af3c-7a1c97c37653: A10\n",
      "AttributeID 54f4579b-1f7b-3cd6-8975-ba77a4d6b798: needs to be phrased the same as the question in mo nitoring.\n",
      "AttributeID ceb4663a-e214-3c99-a3f4-1e49fedb3763: General\n",
      "AttributeID 185fff62-ed28-315b-865d-6c67a8548265: R47\n",
      "AttributeID 3ad246fd-ffbd-314c-9f53-cb8455a2dc43: Examples: target species, gear types, fishing locations, markets\n"
     ]
    }
   ],
   "source": [
    "Eq.attributes(Eq.attributes_for(49))"
   ]
  },
  {
   "cell_type": "code",
   "execution_count": 57,
   "metadata": {
    "collapsed": false
   },
   "outputs": [
    {
     "name": "stdout",
     "output_type": "stream",
     "text": [
      "Removed 1 reference\n",
      "Removed 1 reference\n",
      "attribute map - 1 found\n",
      "Removed 1 reference\n",
      "Removed 1 reference\n",
      "Removed 1 reference\n",
      "Removed 1 reference\n",
      "Removed 1 reference\n"
     ]
    }
   ],
   "source": [
    "# make list of monitoring attributes that should be removed from CR question and added to M question\n",
    "for x in ['b8a44f84-6147-38ff-9d0c-4f530bf69a8d', '80523536-69fa-35b5-99bb-11a15baa1ffc',\n",
    "         'ec11bea9-cbd3-3736-a89d-bbc7403e6910', '185fff62-ed28-315b-865d-6c67a8548265',\n",
    "         '54f4579b-1f7b-3cd6-8975-ba77a4d6b798', 'ceb4663a-e214-3c99-a3f4-1e49fedb3763',\n",
    "         '3ad246fd-ffbd-314c-9f53-cb8455a2dc43']:\n",
    "    move_attribute(x, 49, 170)\n"
   ]
  },
  {
   "cell_type": "code",
   "execution_count": 59,
   "metadata": {
    "collapsed": false
   },
   "outputs": [
    {
     "name": "stdout",
     "output_type": "stream",
     "text": [
      "Creating 189 questions...\n",
      "Creating 143 targets...\n",
      "Creating 528 criteria...\n",
      "Creating 2054 caveats...\n",
      "Creating 710 attributes...\n",
      "Creating 247 notes...\n",
      "Creating colormap...\n",
      "Output written to folder /Users/brandon/Documents/GitHub/SNAP Fisheries Spreadsheets/json/2016-06-30.\n"
     ]
    },
    {
     "data": {
      "text/plain": [
       "True"
      ]
     },
     "execution_count": 59,
     "metadata": {},
     "output_type": "execute_result"
    }
   ],
   "source": [
    "MSSP.write_to_json(Eq.serialize(), outdir)"
   ]
  }
 ],
 "metadata": {
  "kernelspec": {
   "display_name": "Python 2",
   "language": "python",
   "name": "python2"
  },
  "language_info": {
   "codemirror_mode": {
    "name": "ipython",
    "version": 2
   },
   "file_extension": ".py",
   "mimetype": "text/x-python",
   "name": "python",
   "nbconvert_exporter": "python",
   "pygments_lexer": "ipython2",
   "version": "2.7.10"
  }
 },
 "nbformat": 4,
 "nbformat_minor": 0
}
