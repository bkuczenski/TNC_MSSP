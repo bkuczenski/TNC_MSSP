{
 "cells": [
  {
   "cell_type": "code",
   "execution_count": 1,
   "metadata": {
    "collapsed": true
   },
   "outputs": [],
   "source": [
    "import os,sys\n",
    "sys.path.append('../src')\n",
    "\n",
    "import MSSP\n"
   ]
  },
  {
   "cell_type": "code",
   "execution_count": 2,
   "metadata": {
    "collapsed": true
   },
   "outputs": [],
   "source": [
    "gdir = '/Users/brandon/Documents/GitHub/SNAP Fisheries Spreadsheets/json/current'\n",
    "outdir = '/Users/brandon/Documents/GitHub/SNAP Fisheries Spreadsheets/json/2016-06-30'"
   ]
  },
  {
   "cell_type": "code",
   "execution_count": 3,
   "metadata": {
    "collapsed": true
   },
   "outputs": [],
   "source": [
    "Eq = MSSP.MsspFromJson(gdir)"
   ]
  },
  {
   "cell_type": "markdown",
   "metadata": {},
   "source": [
    "### Add N/A answers"
   ]
  },
  {
   "cell_type": "code",
   "execution_count": 5,
   "metadata": {
    "collapsed": false
   },
   "outputs": [
    {
     "name": "stdout",
     "output_type": "stream",
     "text": [
      "Help on method refactor_answers in module MSSP.mssp_data_store:\n",
      "\n",
      "refactor_answers(self, question, answers) method of MSSP.importers.from_json.JsonImporter instance\n",
      "    Re-arrange or otherwise re-define the answers to a given question.  The input should include a single\n",
      "    QuestionID, and a new list of the question's answers.  This list must be a SUPERSET of the question's\n",
      "    existing answers [see merge_answers and delete_answer [TODO] for an antidote] and must be supplied in the\n",
      "    new correct order.\n",
      "    \n",
      "    The method will generate a mapping from the current answers to the new answers, and then will go through\n",
      "    all the criteria and caveats, re-mapping the index values.\n",
      "    \n",
      "    This method is made atomic by performing the mapping onto new data frames that are only installed if\n",
      "    the operation is successful.\n",
      "    :param question:\n",
      "    :param answers:\n",
      "    :return:\n",
      "\n"
     ]
    }
   ],
   "source": [
    "help(Eq.refactor_answers)"
   ]
  },
  {
   "cell_type": "code",
   "execution_count": 14,
   "metadata": {
    "collapsed": false
   },
   "outputs": [
    {
     "data": {
      "text/plain": [
       "searchAttributes(attributes=[UUID('2157c264-a1ed-3559-ae32-e1fd5044d055')], questions=[154], targets=[])"
      ]
     },
     "execution_count": 14,
     "metadata": {},
     "output_type": "execute_result"
    }
   ],
   "source": [
    "Eq.search('M10')"
   ]
  },
  {
   "cell_type": "code",
   "execution_count": 13,
   "metadata": {
    "collapsed": false
   },
   "outputs": [
    {
     "data": {
      "text/plain": [
       "['No', 'Yes']"
      ]
     },
     "execution_count": 13,
     "metadata": {},
     "output_type": "execute_result"
    }
   ],
   "source": [
    "Eq.questions(154)[0].valid_answers"
   ]
  },
  {
   "cell_type": "code",
   "execution_count": 15,
   "metadata": {
    "collapsed": true
   },
   "outputs": [],
   "source": [
    "Eq.refactor_answers(154, ['N/A', 'No', 'Yes'])"
   ]
  },
  {
   "cell_type": "code",
   "execution_count": 16,
   "metadata": {
    "collapsed": false
   },
   "outputs": [
    {
     "data": {
      "text/plain": [
       "searchAttributes(attributes=[UUID('d363b9c1-f764-30c0-b70f-66941e816c5b')], questions=[187], targets=[])"
      ]
     },
     "execution_count": 16,
     "metadata": {},
     "output_type": "execute_result"
    }
   ],
   "source": [
    "Eq.search('M33')"
   ]
  },
  {
   "cell_type": "code",
   "execution_count": 18,
   "metadata": {
    "collapsed": false
   },
   "outputs": [
    {
     "data": {
      "text/plain": [
       "['No', 'Yes']"
      ]
     },
     "execution_count": 18,
     "metadata": {},
     "output_type": "execute_result"
    }
   ],
   "source": [
    "Eq.questions(187)[0].valid_answers"
   ]
  },
  {
   "cell_type": "code",
   "execution_count": 19,
   "metadata": {
    "collapsed": true
   },
   "outputs": [],
   "source": [
    "Eq.refactor_answers(187, ['N/A', 'No', 'Yes'])"
   ]
  },
  {
   "cell_type": "markdown",
   "metadata": {},
   "source": [
    "### Question 80 - merge answers"
   ]
  },
  {
   "cell_type": "code",
   "execution_count": 24,
   "metadata": {
    "collapsed": false
   },
   "outputs": [
    {
     "name": "stdout",
     "output_type": "stream",
     "text": [
      "Question ID: 80\n",
      "\"If handled or captured and released, is survivorship compromised? (AND change answer to \"Yes/No\" rather than \"high/low\")\"\n",
      "(Category: Biophysical/life history)\n",
      "  * IF LOW\n",
      "  * IF YES\n",
      "  * Is species susceptible to barotrauma, and/or has low survivorship on release?\n",
      "  * NEW\n",
      "  * Biology/life history\n",
      "  * If handled or captured and released, is survivorship compromised? \n",
      "  * R7\n",
      "  * reword to \"High survicorship on release?\"\n",
      "  * M36\n",
      "  * ·       Disease/barotrauma:  Reword with less jargon.  If you catch and release, will it survive?\n",
      " References: ControlRules Row 15, ControlRules Row 22, Monitoring Col AO\n",
      "Valid Answers: ['No', 'Yes']\n",
      " Satisfied By: None\n",
      " Satisfies: None\n",
      "Has Caveats:\n",
      "     QuestionID  TargetID AnswerValue  \\\n",
      "412          80        50         Yes   \n",
      "413          80        51         Yes   \n",
      "414          80        52         Yes   \n",
      "415          80        53         Yes   \n",
      "416          80        54         Yes   \n",
      "417          80        55         Yes   \n",
      "418          80        56         Yes   \n",
      "419          80        57         Yes   \n",
      "420          80        68         Yes   \n",
      "421          80        79         Yes   \n",
      "422          80        79         Yes   \n",
      "423          80        80         Yes   \n",
      "424          80        80         Yes   \n",
      "425          80        81         Yes   \n",
      "426          80        81         Yes   \n",
      "427          80        98         Yes   \n",
      "428          80        99         Yes   \n",
      "429          80       100         Yes   \n",
      "430          80       101         Yes   \n",
      "431          80       102         Yes   \n",
      "432          80       103         Yes   \n",
      "433          80       104         Yes   \n",
      "434          80       105         Yes   \n",
      "435          80       106         Yes   \n",
      "436          80       107         Yes   \n",
      "437          80       108         Yes   \n",
      "438          80       109         Yes   \n",
      "439          80       110         Yes   \n",
      "440          80       111         Yes   \n",
      "441          80       112         Yes   \n",
      "442          80       113         Yes   \n",
      "443          80       114         Yes   \n",
      "444          80       115         Yes   \n",
      "445          80       116         Yes   \n",
      "446          80       117         Yes   \n",
      "447          80       118         Yes   \n",
      "448          80       119         Yes   \n",
      "449          80       120         Yes   \n",
      "450          80       121         Yes   \n",
      "451          80       122         Yes   \n",
      "452          80       123         Yes   \n",
      "453          80       124         Yes   \n",
      "454          80       125         Yes   \n",
      "455          80       126         Yes   \n",
      "456          80       127         Yes   \n",
      "457          80       128         Yes   \n",
      "458          80       129         Yes   \n",
      "459          80       130         Yes   \n",
      "460          80       131         Yes   \n",
      "461          80       132         Yes   \n",
      "462          80       133         Yes   \n",
      "463          80       134         Yes   \n",
      "464          80       135         Yes   \n",
      "465          80       136         Yes   \n",
      "466          80       137         Yes   \n",
      "467          80       138         Yes   \n",
      "468          80       139         Yes   \n",
      "469          80       140         Yes   \n",
      "470          80       141         Yes   \n",
      "471          80       142         Yes   \n",
      "\n",
      "                                                  Note  \n",
      "412         Caution re: discarding when limit exceeded  \n",
      "413         Caution re: discarding when limit exceeded  \n",
      "414         Caution re: discarding when limit exceeded  \n",
      "415         Caution re: discarding when limit exceeded  \n",
      "416         Caution re: discarding when limit exceeded  \n",
      "417         Caution re: discarding when limit exceeded  \n",
      "418         Caution re: discarding when limit exceeded  \n",
      "419         Caution re: discarding when limit exceeded  \n",
      "420  YES - these should avoid capture of species li...  \n",
      "421  Caution - unless gear or method is clean or si...  \n",
      "422                                                 NO  \n",
      "423  Caution - unless gear or method is clean or si...  \n",
      "424                                                 NO  \n",
      "425  Caution - unless gear or method is clean or si...  \n",
      "426                                                 NO  \n",
      "427  If discarding rate (re: barotrauma), or handli...  \n",
      "428  If discarding rate (re: barotrauma), or handli...  \n",
      "429  If discarding rate (re: barotrauma), or handli...  \n",
      "430  If discarding rate (re: barotrauma), or handli...  \n",
      "431  If discarding rate (re: barotrauma), or handli...  \n",
      "432  If discarding rate (re: barotrauma), or handli...  \n",
      "433  If discarding rate (re: barotrauma), or handli...  \n",
      "434  If discarding rate (re: barotrauma), or handli...  \n",
      "435  If discarding rate (re: barotrauma), or handli...  \n",
      "436  If discarding rate (re: barotrauma), or handli...  \n",
      "437  If discarding rate (re: barotrauma), or handli...  \n",
      "438  If discarding rate (re: barotrauma), or handli...  \n",
      "439  If discarding rate (re: barotrauma), or handli...  \n",
      "440  If discarding rate (re: barotrauma), or handli...  \n",
      "441  If discarding rate (re: barotrauma), or handli...  \n",
      "442  If discarding rate (re: barotrauma), or handli...  \n",
      "443  If discarding rate (re: barotrauma), or handli...  \n",
      "444  If discarding rate (re: barotrauma), or handli...  \n",
      "445  If discarding rate (re: barotrauma), or handli...  \n",
      "446  If discarding rate (re: barotrauma), or handli...  \n",
      "447  Reconsider if measurement involves handling - ...  \n",
      "448  May be preferable to invasive measurements pro...  \n",
      "449  Reconsider if measurement involves handling - ...  \n",
      "450  May be preferable to invasive measurements pro...  \n",
      "451  Reconsider if measurement involves handling - ...  \n",
      "452  May be preferable to invasive measurements pro...  \n",
      "453  Reconsider if measurement involves handling - ...  \n",
      "454  May be preferable to invasive measurements pro...  \n",
      "455  If discarding rate (re: barotrauma), or handli...  \n",
      "456  If discarding rate (re: barotrauma), or handli...  \n",
      "457  If discarding rate (re: barotrauma), or handli...  \n",
      "458  If discarding rate (re: barotrauma), or handli...  \n",
      "459  If discarding rate (re: barotrauma), or handli...  \n",
      "460  If discarding rate (re: barotrauma), or handli...  \n",
      "461  If discarding rate (re: barotrauma), or handli...  \n",
      "462  If discarding rate (re: barotrauma), or handli...  \n",
      "463  If discarding rate (re: barotrauma), or handli...  \n",
      "464  If discarding rate (re: barotrauma), or handli...  \n",
      "465  If discarding rate (re: barotrauma), or handli...  \n",
      "466  If discarding rate (re: barotrauma), or handli...  \n",
      "467  If discarding rate (re: barotrauma), or handli...  \n",
      "468  If discarding rate (re: barotrauma), or handli...  \n",
      "469  If discarding rate (re: barotrauma), or handli...  \n",
      "470  If discarding rate (re: barotrauma), or handli...  \n",
      "471  If discarding rate (re: barotrauma), or handli...  \n"
     ]
    },
    {
     "data": {
      "text/plain": [
       "<MSSP.mssp_objects.MsspQuestion at 0x10c750410>"
      ]
     },
     "execution_count": 24,
     "metadata": {},
     "output_type": "execute_result"
    }
   ],
   "source": [
    "Eq.question(80)"
   ]
  },
  {
   "cell_type": "code",
   "execution_count": 22,
   "metadata": {
    "collapsed": false
   },
   "outputs": [
    {
     "name": "stdout",
     "output_type": "stream",
     "text": [
      "Merging answers into Yes:\n",
      " Yes\n",
      " LOW\n",
      "Really continue? [y]: y\n"
     ]
    }
   ],
   "source": [
    "Eq.merge_answers(80,['Yes', 'LOW'], merge_to='Yes')"
   ]
  },
  {
   "cell_type": "code",
   "execution_count": 23,
   "metadata": {
    "collapsed": false
   },
   "outputs": [
    {
     "name": "stdout",
     "output_type": "stream",
     "text": [
      "Merging answers into No:\n",
      " No\n",
      " HIGH\n",
      "Really continue? [y]: \n"
     ]
    }
   ],
   "source": [
    "Eq.merge_answers(80,['No', 'HIGH'], merge_to='No')"
   ]
  },
  {
   "cell_type": "markdown",
   "metadata": {},
   "source": [
    "### Question 97 - make composite of 98-106"
   ]
  },
  {
   "cell_type": "code",
   "execution_count": 31,
   "metadata": {
    "collapsed": false
   },
   "outputs": [],
   "source": [
    "Eq._questions[97].satisfied_by = set(range(98,107))"
   ]
  },
  {
   "cell_type": "code",
   "execution_count": 50,
   "metadata": {
    "collapsed": true
   },
   "outputs": [],
   "source": [
    "Eq._set_satisfies(97)"
   ]
  },
  {
   "cell_type": "code",
   "execution_count": 32,
   "metadata": {
    "collapsed": false
   },
   "outputs": [
    {
     "name": "stdout",
     "output_type": "stream",
     "text": [
      "Question ID: 97\n",
      "  * Does assessment suggest a certain form of decision rule? (PENDING OUTCOMES OF ASSESSMENT COMPONENT OF MSSP - 2nd layer?)\n",
      "  * IF YES\n",
      " References: ControlRules Row 32\n",
      "Valid Answers: ['No', 'Yes']\n",
      " Satisfied By: [98, 99, 100, 101, 102, 103, 104, 105, 106]\n",
      " Satisfies: None\n",
      "Has Caveats:\n",
      "     QuestionID  TargetID AnswerValue  \\\n",
      "787          97        50         Yes   \n",
      "788          97        51         Yes   \n",
      "789          97        52         Yes   \n",
      "790          97        53         Yes   \n",
      "791          97        54         Yes   \n",
      "792          97        55         Yes   \n",
      "793          97        58         Yes   \n",
      "794          97        59         Yes   \n",
      "795          97        60         Yes   \n",
      "796          97        61         Yes   \n",
      "797          97        64         Yes   \n",
      "798          97        88         Yes   \n",
      "\n",
      "                                                 Note  \n",
      "787                            YES - if catch-related  \n",
      "788                            YES - if catch-related  \n",
      "789                            YES - if catch-related  \n",
      "790                            YES - if catch-related  \n",
      "791                            YES - if catch-related  \n",
      "792                            YES - if catch-related  \n",
      "793                           YES - if effort-related  \n",
      "794                           YES - if effort-related  \n",
      "795                           YES - if effort-related  \n",
      "796                           YES - if effort-related  \n",
      "797  YES - if within-season assessment and management  \n",
      "798                                                NO  \n"
     ]
    },
    {
     "data": {
      "text/plain": [
       "<MSSP.mssp_objects.MsspQuestion at 0x10c75f850>"
      ]
     },
     "execution_count": 32,
     "metadata": {},
     "output_type": "execute_result"
    }
   ],
   "source": [
    "Eq.question(97)"
   ]
  },
  {
   "cell_type": "markdown",
   "metadata": {},
   "source": [
    "### Question 110 - add title"
   ]
  },
  {
   "cell_type": "code",
   "execution_count": 45,
   "metadata": {
    "collapsed": false
   },
   "outputs": [],
   "source": [
    "Eq._attributes['88bf52a1-cb69-3820-848f-3a3cdfbca583'].text = 'Is there latent effort in the fishery?'"
   ]
  },
  {
   "cell_type": "code",
   "execution_count": 46,
   "metadata": {
    "collapsed": false
   },
   "outputs": [
    {
     "name": "stdout",
     "output_type": "stream",
     "text": [
      "AttributeID ec11bea9-cbd3-3736-a89d-bbc7403e6910: IF YES\n",
      "AttributeID 2eb34970-1ca5-340c-b602-fde28fc7a841: Operational\n",
      "AttributeID 88bf52a1-cb69-3820-848f-3a3cdfbca583: Is there latent effort in the fishery?\n",
      "AttributeID 7b7dfde6-41b3-3745-80ad-a433ada48fde: R35\n"
     ]
    }
   ],
   "source": [
    "Eq.attributes(Eq.attributes_for(110))"
   ]
  },
  {
   "cell_type": "markdown",
   "metadata": {},
   "source": [
    "### Question 120 - make into two questions\n",
    "put the new one at QID 130, which is blank"
   ]
  },
  {
   "cell_type": "markdown",
   "metadata": {},
   "source": [
    "This is tricky- need to:\n",
    " 1. clone question into Eq._questions\n",
    " 2. remap attributes by visual inspection\n",
    " 3. except for category- duplicate\n",
    " 4. create new title for new question\n",
    " 5. remap all caveats with Question ID 120 to Question ID 130 (everything splits easily criteria vs caveats)"
   ]
  },
  {
   "cell_type": "code",
   "execution_count": 48,
   "metadata": {
    "collapsed": false
   },
   "outputs": [
    {
     "data": {
      "text/plain": [
       "{'_external_answers': [u'low', u'1', u'2', u'moderate', u'3', u'4', u'high'],\n",
       " '_yes_no_included': False,\n",
       " 'category': UUID('ceb4663a-e214-3c99-a3f4-1e49fedb3763'),\n",
       " 'references': [('ControlRules', (59, None)),\n",
       "  ('Monitoring', (None, 8)),\n",
       "  ('ControlRules', (60, None)),\n",
       "  ('ControlRules', (61, None))],\n",
       " 'satisfied_by': set(),\n",
       " 'satisfies': set(),\n",
       " 'title': UUID('c661691a-999d-3a16-87bc-19506b938659'),\n",
       " 'valid_answers': [u'low', u'1', u'2', u'moderate', u'3', u'4', u'high']}"
      ]
     },
     "execution_count": 48,
     "metadata": {},
     "output_type": "execute_result"
    }
   ],
   "source": [
    "Eq._questions[120].__dict__"
   ]
  },
  {
   "cell_type": "code",
   "execution_count": 53,
   "metadata": {
    "collapsed": true
   },
   "outputs": [],
   "source": [
    "q120 = Eq._questions[120]"
   ]
  },
  {
   "cell_type": "code",
   "execution_count": 51,
   "metadata": {
    "collapsed": true
   },
   "outputs": [],
   "source": [
    "q130 = MSSP.mssp_objects.MsspQuestion()"
   ]
  },
  {
   "cell_type": "code",
   "execution_count": 54,
   "metadata": {
    "collapsed": false
   },
   "outputs": [],
   "source": [
    "import copy"
   ]
  },
  {
   "cell_type": "code",
   "execution_count": 55,
   "metadata": {
    "collapsed": false
   },
   "outputs": [],
   "source": [
    "q130._external_answers = copy.copy(q120._external_answers)\n",
    "q130.category = copy.copy(q120.category)\n",
    "q130.references = [('Monitoring', (None,8))]\n",
    "q130._update_valid_answers()"
   ]
  },
  {
   "cell_type": "code",
   "execution_count": 59,
   "metadata": {
    "collapsed": false
   },
   "outputs": [],
   "source": [
    "q130.title = Eq._attributes.add_element('How culturally engrained is cooperation to management?')"
   ]
  },
  {
   "cell_type": "code",
   "execution_count": 61,
   "metadata": {
    "collapsed": false
   },
   "outputs": [],
   "source": [
    "Eq._questions[130] = q130"
   ]
  },
  {
   "cell_type": "code",
   "execution_count": 65,
   "metadata": {
    "collapsed": false
   },
   "outputs": [
    {
     "name": "stdout",
     "output_type": "stream",
     "text": [
      "attribute map - 1 found\n"
     ]
    },
    {
     "ename": "MsspError",
     "evalue": "QID 130: Attribute mapping already exists (General)",
     "output_type": "error",
     "traceback": [
      "\u001b[0;31m---------------------------------------------------------------------------\u001b[0m",
      "\u001b[0;31mMsspError\u001b[0m                                 Traceback (most recent call last)",
      "\u001b[0;32m<ipython-input-65-bc1418013e11>\u001b[0m in \u001b[0;36m<module>\u001b[0;34m()\u001b[0m\n\u001b[0;32m----> 1\u001b[0;31m \u001b[0mEq\u001b[0m\u001b[0;34m.\u001b[0m\u001b[0madd_attribute_mapping\u001b[0m\u001b[0;34m(\u001b[0m\u001b[0;36m130\u001b[0m\u001b[0;34m,\u001b[0m \u001b[0mq130\u001b[0m\u001b[0;34m.\u001b[0m\u001b[0mcategory\u001b[0m\u001b[0;34m)\u001b[0m\u001b[0;34m\u001b[0m\u001b[0m\n\u001b[0m",
      "\u001b[0;32m/Users/brandon/Documents/Github/SNAP Fisheries Spreadsheets/src/MSSP/mssp_data_store.pyc\u001b[0m in \u001b[0;36madd_attribute_mapping\u001b[0;34m(self, r_index, attr, record)\u001b[0m\n\u001b[1;32m    393\u001b[0m             \u001b[0;32mif\u001b[0m \u001b[0msum\u001b[0m\u001b[0;34m(\u001b[0m\u001b[0mqi\u001b[0m\u001b[0;34m)\u001b[0m \u001b[0;34m!=\u001b[0m \u001b[0;36m0\u001b[0m\u001b[0;34m:\u001b[0m\u001b[0;34m\u001b[0m\u001b[0m\n\u001b[1;32m    394\u001b[0m                 \u001b[0;32mprint\u001b[0m\u001b[0;34m(\u001b[0m\u001b[0;34m'attribute map - %d found'\u001b[0m \u001b[0;34m%\u001b[0m \u001b[0msum\u001b[0m\u001b[0;34m(\u001b[0m\u001b[0mqi\u001b[0m\u001b[0;34m)\u001b[0m\u001b[0;34m)\u001b[0m\u001b[0;34m\u001b[0m\u001b[0m\n\u001b[0;32m--> 395\u001b[0;31m                 \u001b[0;32mraise\u001b[0m \u001b[0mMsspError\u001b[0m\u001b[0;34m(\u001b[0m\u001b[0;34m'QID %d: Attribute mapping already exists (%s)'\u001b[0m \u001b[0;34m%\u001b[0m \u001b[0;34m(\u001b[0m\u001b[0mr_index\u001b[0m\u001b[0;34m,\u001b[0m \u001b[0mself\u001b[0m\u001b[0;34m.\u001b[0m\u001b[0m_attributes\u001b[0m\u001b[0;34m[\u001b[0m\u001b[0mattr\u001b[0m\u001b[0;34m]\u001b[0m\u001b[0;34m)\u001b[0m\u001b[0;34m)\u001b[0m\u001b[0;34m\u001b[0m\u001b[0m\n\u001b[0m\u001b[1;32m    396\u001b[0m             self._question_attributes = self._question_attributes.append(\n\u001b[1;32m    397\u001b[0m                 {\n",
      "\u001b[0;31mMsspError\u001b[0m: QID 130: Attribute mapping already exists (General)"
     ]
    }
   ],
   "source": [
    "Eq.add_attribute_mapping(130, q130.category)"
   ]
  },
  {
   "cell_type": "code",
   "execution_count": 70,
   "metadata": {
    "collapsed": true
   },
   "outputs": [],
   "source": [
    "import uuid"
   ]
  },
  {
   "cell_type": "code",
   "execution_count": 73,
   "metadata": {
    "collapsed": false
   },
   "outputs": [
    {
     "name": "stdout",
     "output_type": "stream",
     "text": [
      "Removed 1 reference\n",
      "attribute map - 1 found\n"
     ]
    },
    {
     "ename": "MsspError",
     "evalue": "QID 130: Attribute mapping already exists (criteria)",
     "output_type": "error",
     "traceback": [
      "\u001b[0;31m---------------------------------------------------------------------------\u001b[0m",
      "\u001b[0;31mMsspError\u001b[0m                                 Traceback (most recent call last)",
      "\u001b[0;32m<ipython-input-73-85c98f18ac3e>\u001b[0m in \u001b[0;36m<module>\u001b[0;34m()\u001b[0m\n\u001b[1;32m      1\u001b[0m \u001b[0;32mfor\u001b[0m \u001b[0mx\u001b[0m \u001b[0;32min\u001b[0m \u001b[0;34m[\u001b[0m\u001b[0;34m'4ea136c3-94aa-3dda-85b9-ab3c3d07f8ca'\u001b[0m\u001b[0;34m,\u001b[0m \u001b[0;34m'3fc6b453-876e-3792-9187-a562235b3754'\u001b[0m\u001b[0;34m,\u001b[0m \u001b[0;34m'fb85634b-9d29-3369-b134-0b0215ba9e7d'\u001b[0m\u001b[0;34m,\u001b[0m \u001b[0;34m'b08347fc-d4fd-38d6-b9b4-a4a6c36c1cac'\u001b[0m\u001b[0;34m,\u001b[0m \u001b[0;34m'5363bef5-825a-34c1-9e1c-f70551a5c2d9'\u001b[0m\u001b[0;34m]\u001b[0m\u001b[0;34m:\u001b[0m\u001b[0;34m\u001b[0m\u001b[0m\n\u001b[0;32m----> 2\u001b[0;31m     \u001b[0mEq\u001b[0m\u001b[0;34m.\u001b[0m\u001b[0madd_attribute_mapping\u001b[0m\u001b[0;34m(\u001b[0m\u001b[0;36m130\u001b[0m\u001b[0;34m,\u001b[0m \u001b[0muuid\u001b[0m\u001b[0;34m.\u001b[0m\u001b[0mUUID\u001b[0m\u001b[0;34m(\u001b[0m\u001b[0mx\u001b[0m\u001b[0;34m)\u001b[0m\u001b[0;34m)\u001b[0m\u001b[0;34m\u001b[0m\u001b[0m\n\u001b[0m\u001b[1;32m      3\u001b[0m     \u001b[0mEq\u001b[0m\u001b[0;34m.\u001b[0m\u001b[0mdel_attribute_mapping\u001b[0m\u001b[0;34m(\u001b[0m\u001b[0;36m120\u001b[0m\u001b[0;34m,\u001b[0m \u001b[0muuid\u001b[0m\u001b[0;34m.\u001b[0m\u001b[0mUUID\u001b[0m\u001b[0;34m(\u001b[0m\u001b[0mx\u001b[0m\u001b[0;34m)\u001b[0m\u001b[0;34m)\u001b[0m\u001b[0;34m\u001b[0m\u001b[0m\n",
      "\u001b[0;32m/Users/brandon/Documents/Github/SNAP Fisheries Spreadsheets/src/MSSP/mssp_data_store.pyc\u001b[0m in \u001b[0;36madd_attribute_mapping\u001b[0;34m(self, r_index, attr, record)\u001b[0m\n\u001b[1;32m    393\u001b[0m             \u001b[0;32mif\u001b[0m \u001b[0msum\u001b[0m\u001b[0;34m(\u001b[0m\u001b[0mqi\u001b[0m\u001b[0;34m)\u001b[0m \u001b[0;34m!=\u001b[0m \u001b[0;36m0\u001b[0m\u001b[0;34m:\u001b[0m\u001b[0;34m\u001b[0m\u001b[0m\n\u001b[1;32m    394\u001b[0m                 \u001b[0;32mprint\u001b[0m\u001b[0;34m(\u001b[0m\u001b[0;34m'attribute map - %d found'\u001b[0m \u001b[0;34m%\u001b[0m \u001b[0msum\u001b[0m\u001b[0;34m(\u001b[0m\u001b[0mqi\u001b[0m\u001b[0;34m)\u001b[0m\u001b[0;34m)\u001b[0m\u001b[0;34m\u001b[0m\u001b[0m\n\u001b[0;32m--> 395\u001b[0;31m                 \u001b[0;32mraise\u001b[0m \u001b[0mMsspError\u001b[0m\u001b[0;34m(\u001b[0m\u001b[0;34m'QID %d: Attribute mapping already exists (%s)'\u001b[0m \u001b[0;34m%\u001b[0m \u001b[0;34m(\u001b[0m\u001b[0mr_index\u001b[0m\u001b[0;34m,\u001b[0m \u001b[0mself\u001b[0m\u001b[0;34m.\u001b[0m\u001b[0m_attributes\u001b[0m\u001b[0;34m[\u001b[0m\u001b[0mattr\u001b[0m\u001b[0;34m]\u001b[0m\u001b[0;34m)\u001b[0m\u001b[0;34m)\u001b[0m\u001b[0;34m\u001b[0m\u001b[0m\n\u001b[0m\u001b[1;32m    396\u001b[0m             self._question_attributes = self._question_attributes.append(\n\u001b[1;32m    397\u001b[0m                 {\n",
      "\u001b[0;31mMsspError\u001b[0m: QID 130: Attribute mapping already exists (criteria)"
     ]
    }
   ],
   "source": [
    "for x in ['4ea136c3-94aa-3dda-85b9-ab3c3d07f8ca', '3fc6b453-876e-3792-9187-a562235b3754', 'fb85634b-9d29-3369-b134-0b0215ba9e7d', 'b08347fc-d4fd-38d6-b9b4-a4a6c36c1cac', '5363bef5-825a-34c1-9e1c-f70551a5c2d9']:\n",
    "    Eq.add_attribute_mapping(130, uuid.UUID(x))\n",
    "    Eq.del_attribute_mapping(120, uuid.UUID(x))"
   ]
  },
  {
   "cell_type": "code",
   "execution_count": 75,
   "metadata": {
    "collapsed": false
   },
   "outputs": [
    {
     "name": "stdout",
     "output_type": "stream",
     "text": [
      "AttributeID c48b9914-3752-3d85-94ac-917636e10ee5: How culturally engrained is cooperation to management?\n",
      "AttributeID ceb4663a-e214-3c99-a3f4-1e49fedb3763: General\n",
      "AttributeID 3fc6b453-876e-3792-9187-a562235b3754: criteria\n",
      "AttributeID fb85634b-9d29-3369-b134-0b0215ba9e7d: Fishery cooperation (wrt HS approach)\n",
      "AttributeID b08347fc-d4fd-38d6-b9b4-a4a6c36c1cac: How culturally ingrained is cooperation to management? Categories 1) unwilling to share and unwilling to record, 2) willing to share info but unwilling to record info, 3) willing to share and record but may not do so reliably, 4) willing and reliable sharing and recording\n",
      "AttributeID 5363bef5-825a-34c1-9e1c-f70551a5c2d9: CRITERIA: begin here. These will provide a first-cut shortlist of monitoring options based on the MINIMUM requirements for each form of monitoring.\n",
      "AttributeID 4ea136c3-94aa-3dda-85b9-ab3c3d07f8ca: M3\n"
     ]
    }
   ],
   "source": [
    "Eq.attributes(Eq.attributes_for(130))"
   ]
  },
  {
   "cell_type": "code",
   "execution_count": 79,
   "metadata": {
    "collapsed": false
   },
   "outputs": [],
   "source": [
    "Eq._criteria.loc[Eq._criteria['QuestionID']==120, 'QuestionID'] = 130"
   ]
  },
  {
   "cell_type": "code",
   "execution_count": 83,
   "metadata": {
    "collapsed": false
   },
   "outputs": [],
   "source": [
    "Eq.delete_answer(120, '1')\n",
    "Eq.delete_answer(120, '2')\n",
    "Eq.delete_answer(120, '3')\n",
    "Eq.delete_answer(120, '4')\n",
    "Eq.delete_answer(130, 'low')\n",
    "Eq.delete_answer(130, 'moderate')\n",
    "Eq.delete_answer(130, 'high')"
   ]
  },
  {
   "cell_type": "code",
   "execution_count": 85,
   "metadata": {
    "collapsed": false
   },
   "outputs": [
    {
     "name": "stdout",
     "output_type": "stream",
     "text": [
      "Question ID: 120\n",
      "\"What is the level of fishery cooperation, in terms of complying with and supporting management measures?\"\n",
      "(Category: General)\n",
      "  * Level of fisher cooperation (includes cultural preferences)\n",
      "  * low\n",
      "  * Socio-economic\n",
      "  * moderate\n",
      "  * high\n",
      "  * R44\n",
      "  * includes cultural preferences\n",
      "  * How culturally ingrained is cooperation to management?\n",
      "  * willing if paid\n",
      "  * Are there enabling conditions\n",
      " References: ControlRules Row 59, ControlRules Row 60, ControlRules Row 61, Monitoring Col H\n",
      "Valid Answers: [u'low', u'moderate', u'high']\n",
      " Satisfied By: None\n",
      " Satisfies: None\n",
      "Has Caveats:\n",
      "      QuestionID  TargetID AnswerValue                                   Note\n",
      "1089         120        50         low                                     NO\n",
      "1090         120        50    moderate                                CAUTION\n",
      "1091         120        50        high                                    YES\n",
      "1092         120        51         low                                     NO\n",
      "1093         120        51    moderate                                CAUTION\n",
      "1094         120        51        high                                    YES\n",
      "1095         120        52         low                                     NO\n",
      "1096         120        52    moderate                                CAUTION\n",
      "1097         120        52        high                                    YES\n",
      "1098         120        53         low                                     NO\n",
      "1099         120        53    moderate                                CAUTION\n",
      "1100         120        53        high                                    YES\n",
      "1101         120        54         low                                     NO\n",
      "1102         120        54    moderate                                CAUTION\n",
      "1103         120        54        high                                    YES\n",
      "1104         120        55         low                                     NO\n",
      "1105         120        55    moderate                                CAUTION\n",
      "1106         120        55        high                                    YES\n",
      "1107         120        56         low                                     NO\n",
      "1108         120        56    moderate                                CAUTION\n",
      "1109         120        56        high                                    YES\n",
      "1110         120        57         low                                     NO\n",
      "1111         120        57    moderate                                CAUTION\n",
      "1112         120        57        high                                    YES\n",
      "1113         120        58         low                                     NO\n",
      "1114         120        58    moderate                                CAUTION\n",
      "1115         120        58        high                                    YES\n",
      "1116         120        59         low                                     NO\n",
      "1117         120        59    moderate                                CAUTION\n",
      "1118         120        59        high                                    YES\n",
      "...          ...       ...         ...                                    ...\n",
      "1143         120        68         low  YES - though caution re: effort creep\n",
      "1144         120        69         low  YES - though caution re: effort creep\n",
      "1145         120        70         low                                     NO\n",
      "1146         120        70    moderate  YES - though caution re: effort creep\n",
      "1147         120        71         low                                     NO\n",
      "1148         120        71    moderate  YES - though caution re: effort creep\n",
      "1149         120        72         low                                     NO\n",
      "1150         120        72    moderate  YES - though caution re: effort creep\n",
      "1151         120        73         low                                     NO\n",
      "1152         120        73    moderate  YES - though caution re: effort creep\n",
      "1153         120        74         low                                     NO\n",
      "1154         120        74    moderate  YES - though caution re: effort creep\n",
      "1155         120        75         low                                     NO\n",
      "1156         120        75    moderate  YES - though caution re: effort creep\n",
      "1157         120        76         low                                     NO\n",
      "1158         120        76    moderate  YES - though caution re: effort creep\n",
      "1159         120        77         low                                     NO\n",
      "1160         120        77    moderate  YES - though caution re: effort creep\n",
      "1161         120        78         low                                     NO\n",
      "1162         120        78    moderate  YES - though caution re: effort creep\n",
      "1163         120        79    moderate  YES - though caution re: effort creep\n",
      "1164         120        80    moderate  YES - though caution re: effort creep\n",
      "1165         120        81    moderate  YES - though caution re: effort creep\n",
      "1166         120        82    moderate  YES - though caution re: effort creep\n",
      "1167         120        83    moderate  YES - though caution re: effort creep\n",
      "1168         120        84    moderate  YES - though caution re: effort creep\n",
      "1169         120        86         low                                    YES\n",
      "1170         120        87         low                                CAUTION\n",
      "1171         120        88         low                                CAUTION\n",
      "1172         120        89         low                                    YES\n",
      "\n",
      "[84 rows x 4 columns]\n"
     ]
    },
    {
     "data": {
      "text/plain": [
       "<MSSP.mssp_objects.MsspQuestion at 0x10c775550>"
      ]
     },
     "execution_count": 85,
     "metadata": {},
     "output_type": "execute_result"
    }
   ],
   "source": [
    "Eq.question(120)"
   ]
  },
  {
   "cell_type": "markdown",
   "metadata": {},
   "source": [
    "### Question 125: merge answers"
   ]
  },
  {
   "cell_type": "code",
   "execution_count": 87,
   "metadata": {
    "collapsed": false
   },
   "outputs": [
    {
     "name": "stdout",
     "output_type": "stream",
     "text": [
      "Merging answers into open access:\n",
      " Yes\n",
      " open access\n",
      "Really continue? [y]: \n"
     ]
    }
   ],
   "source": [
    "Eq.merge_answers(125, ['Yes', 'open access'], merge_to='open access')"
   ]
  },
  {
   "cell_type": "code",
   "execution_count": 90,
   "metadata": {
    "collapsed": false
   },
   "outputs": [
    {
     "name": "stdout",
     "output_type": "stream",
     "text": [
      "Question ID: 125\n",
      "\"Is the fishery open access, as opposed to limited entry?\"\n",
      "(Category: General)\n",
      "  * intermediate\n",
      "  * Governance\n",
      "  * Open access governance, to limited entry. (e.g.in an open access governance system the efficacy of tools like size , fishing season, or effort limits is often reduced by effort creep, but when access is limited this seems to be less of a problem and so the same tool would look more attractive)\n",
      "  * open access\n",
      "  * limited entry\n",
      "  * Is the fishery open access? (as opposed to limited entry)\n",
      "  * IF YES\n",
      "  * CAVEATS - Second, refine the shortlist of monitoring options according to the below range of criteria\n",
      "  * Strength of governance\n",
      "  * R48\n",
      "  * Check consistency in monitoring spreadsheet, question M8. In open access governance system, the efficacy of tools like size, fishng season, or effort limits is often reduced by effort creep, but when access is limited this seems to be less of a problem nd so the same tool would look more attractive.\n",
      "  * M8\n",
      "  * as opposed to limited entry in any way\n",
      " References: ControlRules Row 71, ControlRules Row 72, ControlRules Row 73, Monitoring Col M\n",
      "Valid Answers: ['No', u'limited entry', u'intermediate', u'open access']\n",
      " Satisfied By: None\n",
      " Satisfies: None\n",
      "Has Caveats:\n",
      "      QuestionID  TargetID   AnswerValue                              Note\n",
      "1308         125        50            No                           CAUTION\n",
      "1309         125        50   open access                                NO\n",
      "1310         125        50  intermediate                               YES\n",
      "1311         125        51            No                           CAUTION\n",
      "1312         125        51   open access                                NO\n",
      "1313         125        51  intermediate                               YES\n",
      "1314         125        52            No                           CAUTION\n",
      "1315         125        52   open access                                NO\n",
      "1316         125        52  intermediate                               YES\n",
      "1317         125        53            No                           CAUTION\n",
      "1318         125        53   open access                                NO\n",
      "1319         125        53  intermediate                               YES\n",
      "1320         125        54            No                           CAUTION\n",
      "1321         125        54   open access                                NO\n",
      "1322         125        54  intermediate                               YES\n",
      "1323         125        55            No                           CAUTION\n",
      "1324         125        55   open access                                NO\n",
      "1325         125        55  intermediate                               YES\n",
      "1326         125        56            No                           CAUTION\n",
      "1327         125        56   open access                                NO\n",
      "1328         125        56  intermediate                               YES\n",
      "1329         125        57            No                           CAUTION\n",
      "1330         125        57   open access                                NO\n",
      "1331         125        57  intermediate                               YES\n",
      "1332         125        58            No                           CAUTION\n",
      "1333         125        58   open access                                NO\n",
      "1334         125        58  intermediate                               YES\n",
      "1335         125        59            No                           CAUTION\n",
      "1336         125        59   open access                                NO\n",
      "1337         125        59  intermediate                               YES\n",
      "...          ...       ...           ...                               ...\n",
      "1385         125        80            No                               YES\n",
      "1386         125        80   open access  NO - compromised by effort creep\n",
      "1387         125        81            No                               YES\n",
      "1388         125        81   open access  NO - compromised by effort creep\n",
      "1389         125        82            No                               YES\n",
      "1390         125        82   open access  NO - compromised by effort creep\n",
      "1391         125        83            No                               YES\n",
      "1392         125        83   open access  NO - compromised by effort creep\n",
      "1393         125        84            No                               YES\n",
      "1394         125        84   open access  NO - compromised by effort creep\n",
      "1395         125        86   open access                               YES\n",
      "1396         125        87   open access                               YES\n",
      "1397         125        88   open access                               YES\n",
      "1398         125        89   open access                               YES\n",
      "1399         125       110   open access          Difficult if open access\n",
      "1400         125       111   open access          Difficult if open access\n",
      "1401         125       112   open access          Difficult if open access\n",
      "1402         125       113   open access          Difficult if open access\n",
      "1403         125       118   open access          Difficult if open access\n",
      "1404         125       119   open access          Difficult if open access\n",
      "1405         125       120   open access          Difficult if open access\n",
      "1406         125       121   open access          Difficult if open access\n",
      "1407         125       127   open access          Difficult if open access\n",
      "1408         125       128   open access          Difficult if open access\n",
      "1409         125       129   open access          Difficult if open access\n",
      "1410         125       130   open access          Difficult if open access\n",
      "1411         125       131   open access          Difficult if open access\n",
      "1412         125       132   open access          Difficult if open access\n",
      "1413         125       133   open access          Difficult if open access\n",
      "1414         125       134   open access          Difficult if open access\n",
      "\n",
      "[107 rows x 4 columns]\n"
     ]
    },
    {
     "data": {
      "text/plain": [
       "<MSSP.mssp_objects.MsspQuestion at 0x10c77c450>"
      ]
     },
     "execution_count": 90,
     "metadata": {},
     "output_type": "execute_result"
    }
   ],
   "source": [
    "Eq.question(125)"
   ]
  },
  {
   "cell_type": "code",
   "execution_count": 89,
   "metadata": {
    "collapsed": false
   },
   "outputs": [
    {
     "name": "stdout",
     "output_type": "stream",
     "text": [
      "Matching Caveats:\n",
      "      Answer                                NoteID  QuestionID  TargetID\n",
      "1308       0  a79fbfc9-9ac6-330d-bd95-401ba5d4c868         125        50\n",
      "1311       0  a79fbfc9-9ac6-330d-bd95-401ba5d4c868         125        51\n",
      "1314       0  a79fbfc9-9ac6-330d-bd95-401ba5d4c868         125        52\n",
      "1317       0  a79fbfc9-9ac6-330d-bd95-401ba5d4c868         125        53\n",
      "1320       0  a79fbfc9-9ac6-330d-bd95-401ba5d4c868         125        54\n",
      "1323       0  a79fbfc9-9ac6-330d-bd95-401ba5d4c868         125        55\n",
      "1326       0  a79fbfc9-9ac6-330d-bd95-401ba5d4c868         125        56\n",
      "1329       0  a79fbfc9-9ac6-330d-bd95-401ba5d4c868         125        57\n",
      "1332       0  a79fbfc9-9ac6-330d-bd95-401ba5d4c868         125        58\n",
      "1335       0  a79fbfc9-9ac6-330d-bd95-401ba5d4c868         125        59\n",
      "1338       0  a79fbfc9-9ac6-330d-bd95-401ba5d4c868         125        60\n",
      "1341       0  a79fbfc9-9ac6-330d-bd95-401ba5d4c868         125        61\n",
      "1344       0  7ef90e24-35a1-3646-bf08-216d42fe38b1         125        62\n",
      "1347       0  7ef90e24-35a1-3646-bf08-216d42fe38b1         125        63\n",
      "1350       0  7ef90e24-35a1-3646-bf08-216d42fe38b1         125        64\n",
      "1353       0  a79fbfc9-9ac6-330d-bd95-401ba5d4c868         125        65\n",
      "1356       0  a79fbfc9-9ac6-330d-bd95-401ba5d4c868         125        66\n",
      "1359       0  a79fbfc9-9ac6-330d-bd95-401ba5d4c868         125        67\n",
      "1363       0  7ef90e24-35a1-3646-bf08-216d42fe38b1         125        69\n",
      "1365       0  6ccad560-8a5b-3c10-85ed-41e8722cf0eb         125        70\n",
      "1367       0  6ccad560-8a5b-3c10-85ed-41e8722cf0eb         125        71\n",
      "1369       0  6ccad560-8a5b-3c10-85ed-41e8722cf0eb         125        72\n",
      "1371       0  6ccad560-8a5b-3c10-85ed-41e8722cf0eb         125        73\n",
      "1373       0  7ef90e24-35a1-3646-bf08-216d42fe38b1         125        74\n",
      "1375       0  7ef90e24-35a1-3646-bf08-216d42fe38b1         125        75\n",
      "1377       0  7ef90e24-35a1-3646-bf08-216d42fe38b1         125        76\n",
      "1379       0  7ef90e24-35a1-3646-bf08-216d42fe38b1         125        77\n",
      "1381       0  7ef90e24-35a1-3646-bf08-216d42fe38b1         125        78\n",
      "1383       0  7ef90e24-35a1-3646-bf08-216d42fe38b1         125        79\n",
      "1385       0  7ef90e24-35a1-3646-bf08-216d42fe38b1         125        80\n",
      "1387       0  7ef90e24-35a1-3646-bf08-216d42fe38b1         125        81\n",
      "1389       0  7ef90e24-35a1-3646-bf08-216d42fe38b1         125        82\n",
      "1391       0  7ef90e24-35a1-3646-bf08-216d42fe38b1         125        83\n",
      "1393       0  7ef90e24-35a1-3646-bf08-216d42fe38b1         125        84\n",
      "Really delete this answer? [y]: n\n",
      "NOT deleted.\n"
     ]
    }
   ],
   "source": [
    "Eq.delete_answer(125, 'No')"
   ]
  }
 ],
 "metadata": {
  "kernelspec": {
   "display_name": "Python 2",
   "language": "python",
   "name": "python2"
  },
  "language_info": {
   "codemirror_mode": {
    "name": "ipython",
    "version": 2
   },
   "file_extension": ".py",
   "mimetype": "text/x-python",
   "name": "python",
   "nbconvert_exporter": "python",
   "pygments_lexer": "ipython2",
   "version": "2.7.10"
  }
 },
 "nbformat": 4,
 "nbformat_minor": 0
}
