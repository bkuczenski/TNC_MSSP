{
 "cells": [
  {
   "cell_type": "code",
   "execution_count": 2,
   "metadata": {
    "collapsed": true
   },
   "outputs": [],
   "source": [
    "import sys\n",
    "import os\n",
    "import re\n",
    "import json\n",
    "\n",
    "sys.path.append('../src')\n"
   ]
  },
  {
   "cell_type": "code",
   "execution_count": 3,
   "metadata": {
    "collapsed": true
   },
   "outputs": [],
   "source": [
    "gdir = os.path.join(os.getcwd(), '..', 'json', '2016-05-27b')"
   ]
  },
  {
   "cell_type": "code",
   "execution_count": 4,
   "metadata": {
    "collapsed": false
   },
   "outputs": [],
   "source": [
    "with open(os.path.join(gdir, 'attributes.json')) as fp:\n",
    "    attributes = json.load(fp)\n",
    "    \n",
    "with open(os.path.join(gdir, 'questions.json')) as fp:\n",
    "    questions = json.load(fp)\n",
    "\n",
    "with open(os.path.join(gdir, 'targets.json')) as fp:\n",
    "    targets = json.load(fp)\n"
   ]
  },
  {
   "cell_type": "code",
   "execution_count": 6,
   "metadata": {
    "collapsed": false
   },
   "outputs": [],
   "source": [
    "attr_dict = dict()\n",
    "for a in attributes['Elements']:\n",
    "    attr_dict[a['AttributeID']] = a['AttributeText']"
   ]
  },
  {
   "cell_type": "code",
   "execution_count": 12,
   "metadata": {
    "collapsed": true
   },
   "outputs": [],
   "source": [
    "t0=t[0]"
   ]
  },
  {
   "cell_type": "code",
   "execution_count": 15,
   "metadata": {
    "collapsed": false
   },
   "outputs": [
    {
     "data": {
      "text/plain": [
       "u'3b97d1e8-3fca-3dcb-90eb-a83a83908702'"
      ]
     },
     "execution_count": 15,
     "metadata": {},
     "output_type": "execute_result"
    }
   ],
   "source": [
    "t0['Category']"
   ]
  },
  {
   "cell_type": "code",
   "execution_count": 8,
   "metadata": {
    "collapsed": false
   },
   "outputs": [],
   "source": [
    "all_cats = set([k['Category'] for k in targets if 'Category' in k])"
   ]
  },
  {
   "cell_type": "code",
   "execution_count": 9,
   "metadata": {
    "collapsed": false
   },
   "outputs": [
    {
     "data": {
      "text/plain": [
       "23"
      ]
     },
     "execution_count": 9,
     "metadata": {},
     "output_type": "execute_result"
    }
   ],
   "source": [
    "len(all_cats)"
   ]
  },
  {
   "cell_type": "code",
   "execution_count": 10,
   "metadata": {
    "collapsed": true
   },
   "outputs": [],
   "source": [
    "all_cats = all_cats.union(set([k['Category'] for k in questions if 'Category' in k]))"
   ]
  },
  {
   "cell_type": "code",
   "execution_count": 11,
   "metadata": {
    "collapsed": false
   },
   "outputs": [
    {
     "data": {
      "text/plain": [
       "47"
      ]
     },
     "execution_count": 11,
     "metadata": {},
     "output_type": "execute_result"
    }
   ],
   "source": [
    "len(all_cats)"
   ]
  },
  {
   "cell_type": "code",
   "execution_count": 12,
   "metadata": {
    "collapsed": true
   },
   "outputs": [],
   "source": [
    "from collections import defaultdict"
   ]
  },
  {
   "cell_type": "code",
   "execution_count": 13,
   "metadata": {
    "collapsed": true
   },
   "outputs": [],
   "source": [
    "attr_count = defaultdict(list)"
   ]
  },
  {
   "cell_type": "code",
   "execution_count": 16,
   "metadata": {
    "collapsed": false
   },
   "outputs": [],
   "source": [
    "for k in questions:\n",
    "    for j in k['Attributes']:\n",
    "        attr_count[j].append(k['QuestionID'])"
   ]
  },
  {
   "cell_type": "code",
   "execution_count": 17,
   "metadata": {
    "collapsed": false
   },
   "outputs": [],
   "source": [
    "for k in targets:\n",
    "    for j in k['Attributes']:\n",
    "        attr_count[j].append(-k['TargetID'])"
   ]
  },
  {
   "cell_type": "code",
   "execution_count": 18,
   "metadata": {
    "collapsed": false
   },
   "outputs": [
    {
     "data": {
      "text/plain": [
       "710"
      ]
     },
     "execution_count": 18,
     "metadata": {},
     "output_type": "execute_result"
    }
   ],
   "source": [
    "len(attr_count)"
   ]
  },
  {
   "cell_type": "code",
   "execution_count": 19,
   "metadata": {
    "collapsed": true
   },
   "outputs": [],
   "source": [
    "repeat_attrs = [ (k, len(v)) for k,v in attr_count.items() if len(v) > 1]"
   ]
  },
  {
   "cell_type": "code",
   "execution_count": 20,
   "metadata": {
    "collapsed": false
   },
   "outputs": [
    {
     "data": {
      "text/plain": [
       "103"
      ]
     },
     "execution_count": 20,
     "metadata": {},
     "output_type": "execute_result"
    }
   ],
   "source": [
    "len(repeat_attrs)"
   ]
  },
  {
   "cell_type": "code",
   "execution_count": 26,
   "metadata": {
    "collapsed": false
   },
   "outputs": [
    {
     "data": {
      "text/plain": [
       "607"
      ]
     },
     "execution_count": 26,
     "metadata": {},
     "output_type": "execute_result"
    }
   ],
   "source": [
    "len([k for k, v in attr_count.items() if len(v) == 1])"
   ]
  },
  {
   "cell_type": "code",
   "execution_count": 27,
   "metadata": {
    "collapsed": false
   },
   "outputs": [
    {
     "data": {
      "text/plain": [
       "695"
      ]
     },
     "execution_count": 27,
     "metadata": {},
     "output_type": "execute_result"
    }
   ],
   "source": [
    "sum([i[1] for i in repeat_attrs])"
   ]
  },
  {
   "cell_type": "code",
   "execution_count": 28,
   "metadata": {
    "collapsed": false
   },
   "outputs": [
    {
     "data": {
      "text/plain": [
       "1302"
      ]
     },
     "execution_count": 28,
     "metadata": {},
     "output_type": "execute_result"
    }
   ],
   "source": [
    "sum([len(v) for k, v in attr_count.items()])"
   ]
  },
  {
   "cell_type": "code",
   "execution_count": 24,
   "metadata": {
    "collapsed": false
   },
   "outputs": [
    {
     "data": {
      "text/plain": [
       "[u'estimating F',\n",
       " u'Governance',\n",
       " u'is there any sense of where things are at?',\n",
       " u'Assessment has the ability to explictly consider uncertainty',\n",
       " u'moderate',\n",
       " u'Caveats',\n",
       " u'Processor monitoring by trained enumerators',\n",
       " u'Strength of governance (range):',\n",
       " u'adjust by fixed proportions up or down (no feedback control rule)',\n",
       " u'size data; maturity/ reproductive state; sex ratios',\n",
       " u'A trigger system represents a harvest strategy framework where the assessment essentially equates to specifying particular reference values or triggers based on whatever monitoring is included in the harvest strategy. The reference values can range from proxies for biomass or fishing mortality targets and limits, through to fishery situations that are identified by expert judgement to require management intervention. They are termed triggers because they invoke pre-defined management responses if the measure passes through them. The management responses can include reductions to catches, seasonal or spatial closures, as well as increased monitoring if the observed changes relate to an expansion in the fishery. NB these systems were developed (Dowling et al 2008) in the context of small-scale, arguably low impact fisheries that had the potential to expand and/or for latent effort to be activated, and the notion was to put checks and balances in place to avoid uncontrolled expansion. Typically, there are 3 trigger levels, and the notion is that level 2 equates to the need to move to a more defensible assessment. There is high risk around setting trigger level values in a way that purports to correspond to formal reference points.\\nTrigger systems often include multiple triggers that invoke stronger management responses at increasing levels of catch or effort',\n",
       " u'according to assessment outcomes (feedback control rule): i)  target- or trend based, no F- or biomass-based reference point - empirical target only',\n",
       " u'NEW',\n",
       " u' broad temporal changes in catch characteristics',\n",
       " u'NB These may be used in isolation, incorporated in frameworks (to the right), OR used to augment/complement more quantitative assesments (to the far right). For the latter, augmenting is especially useful if the below indicators are indepednent to those used in the more formal assessment, AND/OR where uncertainty in more formal assessments is high, AND/OR where local changes (and hence management measures) may be of importance.',\n",
       " u'Indirect notion of stock status/ proxy fishing mortality',\n",
       " u'Estimate of F',\n",
       " u'Spatial coverage/ spatial cooperation',\n",
       " u'Assumes equilibrium dynamics',\n",
       " u'Across-fleet catch by species, (possibly) discarding',\n",
       " u'according to assessment outcomes (feedback): ii) target based with F- or biomass-based reference point',\n",
       " u'Satisfied by above',\n",
       " u'criteria',\n",
       " u'irregular, undertaken by fishers',\n",
       " u'Unlikely to provide meaningful information',\n",
       " u'Logbooks: formal government (licensing) requirement',\n",
       " u'N',\n",
       " u'Caveat',\n",
       " u'snapshot or regular but not annual, undertaken by independent practitioners',\n",
       " u'Catch disposal records/sales docket/traceability',\n",
       " u'estimate sustainable yield',\n",
       " u'IF NO',\n",
       " u'? Autopopulate?',\n",
       " u'Criteria',\n",
       " u'Port/landing site monitoring by trained enumerators',\n",
       " u'Interviews - not specific to a trip/fishing event',\n",
       " u'from monitoring closed areas or marine protected areas (e.g. Babcock and MacCall (2011); McGilliard et al. (2011) ; Wilson et al. (2010))',\n",
       " u'low',\n",
       " u'IF YES',\n",
       " u'Harm/no harm',\n",
       " u'Time series-based, ideally with reference point (e.g. slope-to-target)',\n",
       " u'No',\n",
       " u'Can be based on any single indicator (size, catch, effort) or multiples thereof.',\n",
       " u'regular, undertaken by fishers',\n",
       " u'Does the species strongly aggregate?',\n",
       " u'Does assessment suggest a certain form of decision rule? (PENDING OUTCOMES OF ASSESSMENT COMPONENT OF MSSP - 2nd layer?)',\n",
       " u'Across-fleet catch by species, time and space; across-fleet effort by time and space;',\n",
       " u'Independent surveys (could include one-offs, pre-seasons, annual, monitoring on reserves) (i.e. visual surveys, charters, independent RVs)',\n",
       " u'Observers - industrial or high-artisinal on-board',\n",
       " u'regular (annually), undertaken by independent practitioners',\n",
       " u'Logbooks: informal',\n",
       " u'Criterion',\n",
       " u'biomass estimates by time and space; density ratio (within and outside of reserves)',\n",
       " u'info needs vary depending on whether a PSA is included',\n",
       " u'Across-fleet aggregated catch by species, (possibly) across-fleet aggregated effort;',\n",
       " u'CAVEATS - Second, refine the shortlist of monitoring options according to the below range of criteria',\n",
       " u'CRITERIA: begin here. These will provide a first-cut shortlist of monitoring options based on the MINIMUM requirements for each form of monitoring.',\n",
       " u'high',\n",
       " u'Market surveys',\n",
       " u'Indirect notion of stock status across multiple indicators and/or \"quasi\" assessments',\n",
       " u'MSY, abundance',\n",
       " u'Changes worthy of some management response',\n",
       " u'Very loose assumption that some trigger level value corresponds to some status of the underlying stock, with higher trigger levels invoking stronger management responses',\n",
       " u'MSY',\n",
       " u'Snapshot data gathering - fishery dependent info (e.g. student sampling; (creel) port-sampling)',\n",
       " u'Yes',\n",
       " u'Y',\n",
       " u'Useful where multiple reliable, independent indicators are available, but these may be fragmented or disparate. Also, \"quasi assessments\", as per those to the left of these, may be incorporated in frameworks. For hierarchical appraoches, there is a primary and then a secondary control rule(s)',\n",
       " u'Fishery cooperation (wrt HS approach)',\n",
       " u'intermediate',\n",
       " u'Production model',\n",
       " u' (possibly) size data;',\n",
       " u'Socio-economic']"
      ]
     },
     "execution_count": 24,
     "metadata": {},
     "output_type": "execute_result"
    }
   ],
   "source": [
    "[attr_dict[i[0]] for i in repeat_attrs if i[0] not in all_cats]"
   ]
  },
  {
   "cell_type": "code",
   "execution_count": 21,
   "metadata": {
    "collapsed": false
   },
   "outputs": [
    {
     "name": "stdout",
     "output_type": "stream",
     "text": [
      "6 Temporal restrictions (can be invoked or modified by HCRs)\n",
      "=\"Rows \"&ROW(F54)&\" or \"&ROW(F55)\n",
      "=\"Rows \"&ROW(F56)&\" or \"&ROW(F58)\n",
      "Additional requirements (not elsewhere included). These are not included in the vector matching but should pop up as warnings depending on the response.\n",
      "12 Retain status quo\n",
      "Fishery cooperation\n",
      "Operational\n",
      "Fishery (basic understanding of how fishery operates)\n",
      "NO REFERENCE POINTS \n",
      "Biological information - leads to analysis such as length analysis, SPR-type etc.\n",
      "7 Size limits (NB may be achieved via gear/spatial/temporal restrictions) - pertaining to controlling selectivity (e.g. protecting juveniles, or oldest (largest) fish that have highest reproductive contribution)\n",
      "=\"Rows \"&ROW(F60)&\" or \"&ROW(F61)&\" or \"&ROW(F62)\n",
      "Strength of governance\n",
      "5 Spatial restrictions (can be invoked or modified by HCRs)\n",
      "1 Catch limits\n",
      "=\"Rows \"&ROW(F52)&\" or \"&ROW(F54)&\" or \"&ROW(F55)\n",
      "Biology\n",
      "PROXY REFERENCE POINTS\n",
      "EMPIRICAL INDICATOR-BASED FRAMEWORKS\n",
      "Sustainability (trend analysis) - e.g. more temporal\n",
      "Biology/life history\n",
      "Monitoring protocol\n",
      "Additional Caveats\n",
      "10 Apply additional (precautionary) buffers/adjustments to chosen measure (e.g. catch, effort, size limits, closures)\n",
      "9 Invoke data collection\n",
      "Spatial coverage/cooperation\n",
      "=\"Rows \"&ROW(F40)&\"-\"&ROW(F43)\n",
      "Operational characteristics\n",
      "=\"Rows \"&ROW(F56)&\" or \"&ROW(F57)&\" or \"&ROW(F58)&\" or \"&ROW(F60)&\" or \"&ROW(F61)\n",
      "Reference points/stock status\n",
      "11 Overrides in case of exceptional circumstances\n",
      "4 Other gear controls not related to selectivity (gear TYPE restrictions)\n",
      "Enforcement capability\n",
      "Expert Judgement\n",
      "13 Levies, taxes (e.g. as incentives to avoid areas)\n",
      "STAGNANT ATTRIBUTE WHOSE RESPONSES SHOULD POP UP AS WARNINGS\n",
      "=\"Rows \"&ROW(F51)&\" or \"&ROW(F54)&\"-\"&ROW(F62)\n",
      "8 Sex regulations\n",
      "General\n",
      "ELIMINATE\n",
      "STOCK-STATUS-BASED REFERENCE POINTS\n",
      "Biophysical/life history\n",
      "3 Gear restrictions: managing by selectivity (gear DESIGN restrictions)\n",
      "Indices\n",
      "General criteria\n",
      "2 Effort limits (includes # days fishing/# hooks/# fishing hours) (daily, seasonal, annual) \n",
      "Data availability\n"
     ]
    }
   ],
   "source": [
    "for a in a['Elements']:\n",
    "    if a['AttributeID'] in set(all_cats):\n",
    "        print(a['AttributeText'])"
   ]
  }
 ],
 "metadata": {
  "kernelspec": {
   "display_name": "Python 2",
   "language": "python2",
   "name": "python2"
  },
  "language_info": {
   "codemirror_mode": {
    "name": "ipython",
    "version": 2
   },
   "file_extension": ".py",
   "mimetype": "text/x-python",
   "name": "python",
   "nbconvert_exporter": "python",
   "pygments_lexer": "ipython2",
   "version": "2.7.11"
  }
 },
 "nbformat": 4,
 "nbformat_minor": 0
}
