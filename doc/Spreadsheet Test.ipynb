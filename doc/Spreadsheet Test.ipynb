{
 "cells": [
  {
   "cell_type": "code",
   "execution_count": 1,
   "metadata": {
    "collapsed": false
   },
   "outputs": [],
   "source": [
    "import os,sys\n",
    "sys.path.append('../src')\n",
    "\n",
    "import MSSP"
   ]
  },
  {
   "cell_type": "code",
   "execution_count": 2,
   "metadata": {
    "collapsed": false
   },
   "outputs": [
    {
     "name": "stdout",
     "output_type": "stream",
     "text": [
      "MSSP Monitoring_FEB 2016 bk.xlsx\n",
      "adding questions\n",
      "adding targets\n",
      "populating questions\n",
      "MSSP Assessment_FEB 2016 bk.xlsx\n",
      "adding questions\n",
      "adding targets\n",
      "populating questions\n",
      "MSSP Harvest Control Rules_FEB 2016 bk.xlsx\n",
      "adding questions\n",
      "adding targets\n",
      "populating questions\n"
     ]
    },
    {
     "name": "stderr",
     "output_type": "stream",
     "text": [
      "/Library/Python/2.7/site-packages/openpyxl/reader/worksheet.py:320: UserWarning: Unknown extension is not supported and will be removed\n",
      "  warn(msg)\n"
     ]
    }
   ],
   "source": [
    "E = MSSP.MsspFromXls()"
   ]
  },
  {
   "cell_type": "code",
   "execution_count": 3,
   "metadata": {
    "collapsed": false
   },
   "outputs": [
    {
     "data": {
      "text/plain": [
       "<MSSP.importers.from_spreadsheet.XlsImporter at 0x10a665d10>"
      ]
     },
     "execution_count": 3,
     "metadata": {},
     "output_type": "execute_result"
    }
   ],
   "source": [
    "E"
   ]
  },
  {
   "cell_type": "code",
   "execution_count": 3,
   "metadata": {
    "collapsed": false
   },
   "outputs": [
    {
     "data": {
      "text/plain": [
       "[('Assessment', (103, None)),\n",
       " ('ControlRules', (82, None)),\n",
       " ('ControlRules', (80, None)),\n",
       " ('Monitoring', (None, 9)),\n",
       " ('ControlRules', (81, None))]"
      ]
     },
     "execution_count": 3,
     "metadata": {},
     "output_type": "execute_result"
    }
   ],
   "source": [
    "E._questions[63].references"
   ]
  },
  {
   "cell_type": "code",
   "execution_count": 10,
   "metadata": {
    "collapsed": false
   },
   "outputs": [
    {
     "name": "stdout",
     "output_type": "stream",
     "text": [
      "Question ID: 36\n",
      "None\n",
      "Biology Catch-all\n",
      "Satisfied by above\n",
      "Criteria\n",
      "=\"Rows \"&ROW(F40)&\"-\"&ROW(F43)\n",
      " Valid Answers: [1L]\n",
      " Satisfied By: [0, 1, 2, 3]\n",
      " Satisfies: None\n",
      "Has Criteria:\n",
      "     QuestionID  TargetID  AnswerValue\n",
      "516          36        35            1\n"
     ]
    },
    {
     "data": {
      "text/plain": [
       "<MSSP.mssp_objects.MsspQuestion at 0x106f65890>"
      ]
     },
     "execution_count": 10,
     "metadata": {},
     "output_type": "execute_result"
    }
   ],
   "source": [
    "E.question(36)"
   ]
  },
  {
   "cell_type": "code",
   "execution_count": 6,
   "metadata": {
    "collapsed": false
   },
   "outputs": [
    {
     "data": {
      "text/html": [
       "<div>\n",
       "<table border=\"1\" class=\"dataframe\">\n",
       "  <thead>\n",
       "    <tr>\n",
       "      <th></th>\n",
       "      <th>QuestionID</th>\n",
       "      <th>Reference</th>\n",
       "    </tr>\n",
       "    <tr>\n",
       "      <th>AnswerValue</th>\n",
       "      <th>1</th>\n",
       "      <th></th>\n",
       "    </tr>\n",
       "    <tr>\n",
       "      <th>TargetID</th>\n",
       "      <th></th>\n",
       "      <th></th>\n",
       "    </tr>\n",
       "  </thead>\n",
       "  <tbody>\n",
       "    <tr>\n",
       "      <th>44</th>\n",
       "      <td>6</td>\n",
       "      <td>Assessment Col AY</td>\n",
       "    </tr>\n",
       "  </tbody>\n",
       "</table>\n",
       "</div>"
      ],
      "text/plain": [
       "            QuestionID          Reference\n",
       "AnswerValue          1                   \n",
       "TargetID                                 \n",
       "44                   6  Assessment Col AY"
      ]
     },
     "execution_count": 6,
     "metadata": {},
     "output_type": "execute_result"
    }
   ],
   "source": [
    "E.criteria(6)"
   ]
  },
  {
   "cell_type": "code",
   "execution_count": 17,
   "metadata": {
    "collapsed": false
   },
   "outputs": [
    {
     "data": {
      "text/plain": [
       "[50]"
      ]
     },
     "execution_count": 17,
     "metadata": {},
     "output_type": "execute_result"
    }
   ],
   "source": [
    "[k for k, j in enumerate(E._targets) if j.reference() == ('ControlRules',(None,5))]"
   ]
  },
  {
   "cell_type": "code",
   "execution_count": 11,
   "metadata": {
    "collapsed": false
   },
   "outputs": [
    {
     "name": "stdout",
     "output_type": "stream",
     "text": [
      "Target ID: 50\n",
      "None\n",
      "IF THEN -> red, orange, green? Ie work on exclusion basis. If one red, this one is out. If green, then this one is particularly suitable\n",
      "1 Catch limits\n",
      "adjust by fixed proportions up or down (no feedback control rule)\n",
      " Reference: ('ControlRules', (None, 5))\n",
      "Has Caveats:\n",
      "      QuestionID  TargetID             AnswerValue  \\\n",
      "0             87        50                     Yes   \n",
      "79           120        50                     low   \n",
      "122          125        50                      No   \n",
      "224           86        50                     Yes   \n",
      "246          121        50                    high   \n",
      "284           88        50                      No   \n",
      "294           85        50                     Yes   \n",
      "315          114        50                     Yes   \n",
      "363          108        50                     Yes   \n",
      "374          127        50                     low   \n",
      "398          121        50                moderate   \n",
      "431          127        50                    high   \n",
      "454           81        50                      No   \n",
      "483          109        50                     Yes   \n",
      "514          118        50  artisinal (commercial)   \n",
      "569          126        50                moderate   \n",
      "602          119        50                    high   \n",
      "769           83        50                     Yes   \n",
      "852          128        50                     Yes   \n",
      "898          112        50                     Yes   \n",
      "952          122        50                    high   \n",
      "985          115        50                     Yes   \n",
      "1004         110        50                     Yes   \n",
      "1038          91        50                     Yes   \n",
      "1069          90        50                     Yes   \n",
      "1098         121        50                     low   \n",
      "1160          63        50                    high   \n",
      "1274         126        50                    high   \n",
      "1338          89        50                     Yes   \n",
      "1400         120        50                moderate   \n",
      "1523         126        50                     low   \n",
      "1632          82        50                     Yes   \n",
      "1816          94        50                     Yes   \n",
      "1897         125        50             open access   \n",
      "2134         122        50                moderate   \n",
      "2152          97        50                     Yes   \n",
      "2227          49        50                     Yes   \n",
      "2258         127        50                moderate   \n",
      "2291          78        50                     Yes   \n",
      "2334          92        50                     Yes   \n",
      "2423         120        50                    high   \n",
      "2441         125        50           limited entry   \n",
      "2480          93        50                     Yes   \n",
      "2501          84        50                     Yes   \n",
      "2525         113        50                     Yes   \n",
      "2553          96        50                     Yes   \n",
      "\n",
      "                                                   Note  \n",
      "0            Caution re: discarding when limit exceeded  \n",
      "79                                                   NO  \n",
      "122                                             CAUTION  \n",
      "224           Consider augmenting with spatial measures  \n",
      "246                                                 YES  \n",
      "284   NO if adjustments are relative to a reference ...  \n",
      "294   Consider augmenting with spatial-temporal meas...  \n",
      "315   Consider augmenting with controls that account...  \n",
      "363   NO - difficult to reconcile catch quotas acros...  \n",
      "374                                                 NO   \n",
      "398                                             CAUTION  \n",
      "431                                                 YES  \n",
      "454   NO - if assessment depends on biomass-based re...  \n",
      "483   Non-catch quota may be easier; unless by key/h...  \n",
      "514                                                 YES  \n",
      "569                                             CAUTION  \n",
      "602                                                 YES  \n",
      "769           Consider augmenting with spatial measures  \n",
      "852            Beware potential for localised depletion  \n",
      "898     Consider impact of fishing in concentrated area  \n",
      "952                                Difficult to enforce  \n",
      "985                                             CAUTION  \n",
      "1004  NO - effectiveness may be compromised by activ...  \n",
      "1038         Caution re: interpretation and use of data  \n",
      "1069           NO if no formal means of data collection  \n",
      "1098                                                 NO  \n",
      "1160                                                YES  \n",
      "1274                                                YES  \n",
      "1338  NO - unless for key/high-risk/aggregate of spe...  \n",
      "1400                                            CAUTION  \n",
      "1523                                                 NO  \n",
      "1632       Consider augmenting with gear-based measures  \n",
      "1816      Caution: reference points may not be reliable  \n",
      "1897                                                 NO  \n",
      "2134                               Difficult to enforce  \n",
      "2152                             YES - if catch-related  \n",
      "2227  Ensure magnitude of measure is relevant to cur...  \n",
      "2258                                            CAUTION  \n",
      "2291  Basis for setting catch cannot be an assessmen...  \n",
      "2334  May not be reliable or defensible in context o...  \n",
      "2423                                                YES  \n",
      "2441                                                YES  \n",
      "2480      Caution: reference points may not be reliable  \n",
      "2501          Consider augmenting with spatial measures  \n",
      "2525    Consider impact of fishing in concentrated area  \n",
      "2553                                                YES  \n"
     ]
    },
    {
     "data": {
      "text/plain": [
       "<MSSP.mssp_objects.MsspTarget at 0x106f2d7d0>"
      ]
     },
     "execution_count": 11,
     "metadata": {},
     "output_type": "execute_result"
    }
   ],
   "source": [
    "E.target(50)"
   ]
  },
  {
   "cell_type": "code",
   "execution_count": 9,
   "metadata": {
    "collapsed": false
   },
   "outputs": [
    {
     "data": {
      "text/plain": [
       "searchAttributes(attributes=[9, 13, 16, 20, 28, 57, 59, 63, 390, 391], questions=[63, 125, 126, 127, 150, 151, 152, 153, 154, 159, 177, 178, 182, 183], targets=[])"
      ]
     },
     "execution_count": 9,
     "metadata": {},
     "output_type": "execute_result"
    }
   ],
   "source": [
    "s = E.search('governance')\n",
    "s"
   ]
  },
  {
   "cell_type": "code",
   "execution_count": null,
   "metadata": {
    "collapsed": false
   },
   "outputs": [],
   "source": [
    "E.attributes(s.attributes)"
   ]
  },
  {
   "cell_type": "code",
   "execution_count": 27,
   "metadata": {
    "collapsed": false
   },
   "outputs": [
    {
     "data": {
      "text/plain": [
       "[164, 178, 180]"
      ]
     },
     "execution_count": 27,
     "metadata": {},
     "output_type": "execute_result"
    }
   ],
   "source": [
    "s = E.search('strong community lead', search_notes=True)\n",
    "s.questions"
   ]
  },
  {
   "cell_type": "code",
   "execution_count": 28,
   "metadata": {
    "collapsed": false
   },
   "outputs": [
    {
     "name": "stdout",
     "output_type": "stream",
     "text": [
      "Question ID: 164\n",
      "None\n",
      "Is the fishery area is geographically vast relative to entire coastline or EEZ? (>X km2) (SEE ALSO COLUMN BC)\n",
      "IF YES\n",
      "CAVEATS - Second, refine the shortlist of monitoring options according to the below range of criteria\n",
      "Operational characteristics\n",
      " Valid Answers: ['No', 'Yes']\n",
      " Satisfied By: None\n",
      " Satisfies: None\n",
      "Has Caveats:\n",
      "      QuestionID  TargetID AnswerValue  \\\n",
      "1097         164       102         Yes   \n",
      "1098         164       103         Yes   \n",
      "1099         164       104         Yes   \n",
      "1100         164       105         Yes   \n",
      "1101         164       110         Yes   \n",
      "1102         164       111         Yes   \n",
      "1103         164       112         Yes   \n",
      "1104         164       113         Yes   \n",
      "1105         164       114         Yes   \n",
      "1106         164       115         Yes   \n",
      "1107         164       116         Yes   \n",
      "1108         164       117         Yes   \n",
      "1109         164       118         Yes   \n",
      "1110         164       119         Yes   \n",
      "1111         164       120         Yes   \n",
      "1112         164       121         Yes   \n",
      "1113         164       122         Yes   \n",
      "1114         164       123         Yes   \n",
      "1115         164       124         Yes   \n",
      "1116         164       125         Yes   \n",
      "1117         164       126         Yes   \n",
      "1118         164       127         Yes   \n",
      "1119         164       128         Yes   \n",
      "1120         164       129         Yes   \n",
      "1121         164       130         Yes   \n",
      "1122         164       131         Yes   \n",
      "1123         164       132         Yes   \n",
      "1124         164       133         Yes   \n",
      "1125         164       134         Yes   \n",
      "\n",
      "                                                   Note  \n",
      "1097  Selected ports may not be representative of fi...  \n",
      "1098  Selected ports may not be representative of fi...  \n",
      "1099  May not be representative if biology thought t...  \n",
      "1100  Selected ports may not be representative of fi...  \n",
      "1101  May necessitate phone/cyber interviews- possib...  \n",
      "1102  May necessitate phone/cyber interviews- possib...  \n",
      "1103  May necessitate phone/cyber interviews- possib...  \n",
      "1104  May necessitate phone/cyber interviews- possib...  \n",
      "1105  May not be able to obtain representative coverage  \n",
      "1106                      Unlikely to be representative  \n",
      "1107                      Unlikely to be representative  \n",
      "1108  May not be representative if biology thought t...  \n",
      "1109  difficult; may not be representative if biolog...  \n",
      "1110              difficult; may not be representative   \n",
      "1111  difficult; may not be representative if biolog...  \n",
      "1112              difficult; may not be representative   \n",
      "1113  difficult; may not be representative if biolog...  \n",
      "1114              difficult; may not be representative   \n",
      "1115  difficult; may not be representative if biolog...  \n",
      "1116              difficult; may not be representative   \n",
      "1117                                   Ease of coverage  \n",
      "1118  Useful if fisher willingness/trust, and strong...  \n",
      "1119  Useful if fisher willingness/trust, and strong...  \n",
      "1120  Useful if fisher willingness/trust, and strong...  \n",
      "1121  Useful if fisher willingness/trust, and strong...  \n",
      "1122  Useful if fisher willingness/trust, and strong...  \n",
      "1123  Useful if fisher willingness/trust, and strong...  \n",
      "1124  Useful if fisher willingness/trust, and strong...  \n",
      "1125  Useful if fisher willingness/trust, and strong...  \n"
     ]
    },
    {
     "data": {
      "text/plain": [
       "<MSSP.mssp_objects.MsspQuestion at 0x10e354410>"
      ]
     },
     "execution_count": 28,
     "metadata": {},
     "output_type": "execute_result"
    }
   ],
   "source": [
    "E.question(164)"
   ]
  },
  {
   "cell_type": "code",
   "execution_count": 22,
   "metadata": {
    "collapsed": false
   },
   "outputs": [
    {
     "name": "stdout",
     "output_type": "stream",
     "text": [
      "NoteID    22 [yellow]: Easier if community-based\n",
      "NoteID    62 [green]: Useful if fisher willingness/trust, and strong community leadership and/or governance\n",
      "NoteID   111 [green]: Easier if community-based\n",
      "NoteID   113 [yellow]: If not, consideration needs be given regarding how this is coordinated - who is leading, who is accountable, what is the design, what are the logistics? Fishery cooperatives/associations, and/or strong community leadership and buy-in, would be helpful in this context. \n",
      "NoteID   114 [yellow]: More difficult, but may still be possible providing there is strong community cooperation and leadership, e.g. via cooperatives/associations\n",
      "NoteID   117 [orange]: Will require strong community leadership (e.g. via cooperatives/associations) and/or strong governance\n",
      "NoteID   118 [yellow]: Will require strong community leadership (e.g. via cooperatives/associations) and/or strong governance\n",
      "NoteID   119 [red]: Will require strong community leadership (e.g. via cooperatives/associations) and/or strong governance\n",
      "NoteID   120 [orange]: Will require strong community leadership (e.g. via cooperatives/associations) and/or strong governance. Also, caution regarding interpretation - high potential for mis-reporting\n"
     ]
    }
   ],
   "source": [
    "E.notes(E.search('community', search_notes=True).notes)"
   ]
  },
  {
   "cell_type": "code",
   "execution_count": null,
   "metadata": {
    "collapsed": false
   },
   "outputs": [],
   "source": [
    "s = E.search('strength of governance', match_any=True)\n",
    "s"
   ]
  },
  {
   "cell_type": "code",
   "execution_count": null,
   "metadata": {
    "collapsed": false
   },
   "outputs": [],
   "source": [
    "q=E.question(125)"
   ]
  },
  {
   "cell_type": "code",
   "execution_count": 32,
   "metadata": {
    "collapsed": false
   },
   "outputs": [
    {
     "name": "stdout",
     "output_type": "stream",
     "text": [
      "NoteID    97 [yellow]: provides no fishery dependent information; selectivity may be different to that of fishing fleet\n",
      "NoteID   138 [None]: Resolve whether spatial changes are related to selectivity changes\n",
      "NoteID   139 [None]: Resolve whether gear changes are related to selectivity changes\n",
      "NoteID   140 [None]: Trends in size-based indicators may be compromised by changing selectivity\n",
      "NoteID   141 [None]: Beware if fishers are undertaking the surveys under alternate selectivity\n",
      "NoteID   143 [None]: Beware changes in selectivity. Sensitive to selectivity mis-specification (need to know if selectivity is asymptotic or dome-shaped). Assumes time-independent selectivity.\n",
      "NoteID   152 [None]: Assumes equilibrium biomass; beware changes in selectivity\n"
     ]
    }
   ],
   "source": [
    "E.notes(E.search('selectivity', search_notes=True).notes)"
   ]
  },
  {
   "cell_type": "code",
   "execution_count": 33,
   "metadata": {
    "collapsed": false
   },
   "outputs": [
    {
     "name": "stdout",
     "output_type": "stream",
     "text": [
      "Question ID: 36\n",
      "None\n",
      "Biology Catch-all\n",
      "Satisfied by above\n",
      "Criteria\n",
      "=\"Rows \"&ROW(F40)&\"-\"&ROW(F43)\n",
      " Valid Answers: [1L]\n",
      " Satisfied By: [0, 1, 2, 3]\n",
      " Satisfies: None\n",
      "Has Criteria:\n",
      "     QuestionID  TargetID  AnswerValue\n",
      "516          36        35            1\n"
     ]
    },
    {
     "data": {
      "text/plain": [
       "<MSSP.mssp_objects.MsspQuestion at 0x10e331490>"
      ]
     },
     "execution_count": 33,
     "metadata": {},
     "output_type": "execute_result"
    }
   ],
   "source": [
    "E.question(36)\n"
   ]
  },
  {
   "cell_type": "code",
   "execution_count": 34,
   "metadata": {
    "collapsed": false
   },
   "outputs": [
    {
     "name": "stdout",
     "output_type": "stream",
     "text": [
      "Target ID: 35\n",
      "None\n",
      "estimate sustainable yield\n",
      "Zhou's catch-only method (estimates MSY)\n",
      "MSY\n",
      "STOCK-STATUS-BASED REFERENCE POINTS\n",
      " Reference: ('Assessment', (None, 42))\n",
      "Has Criteria:\n",
      "     QuestionID  TargetID AnswerValue\n",
      "42           24        35           1\n",
      "81           63        35    moderate\n",
      "413          16        35           3\n",
      "440          43        35         Yes\n",
      "500          42        35         Yes\n",
      "516          36        35           1\n",
      "523          44        35         Yes\n",
      "Has Caveats:\n",
      "      QuestionID  TargetID AnswerValue  \\\n",
      "1025          46        35          No   \n",
      "1279          47        35        None   \n",
      "1351          67        35        None   \n",
      "2545          53        35         Yes   \n",
      "\n",
      "                                                   Note  \n",
      "1025                                                  N  \n",
      "1279  If these can be articulated, can expand magnit...  \n",
      "1351  Not possible if species-specific information u...  \n",
      "2545     May not work with a low number of participants  \n"
     ]
    },
    {
     "data": {
      "text/plain": [
       "<MSSP.mssp_objects.MsspTarget at 0x10e2d7fd0>"
      ]
     },
     "execution_count": 34,
     "metadata": {},
     "output_type": "execute_result"
    }
   ],
   "source": [
    "E.target(35)"
   ]
  },
  {
   "cell_type": "code",
   "execution_count": 12,
   "metadata": {
    "collapsed": false
   },
   "outputs": [
    {
     "name": "stdout",
     "output_type": "stream",
     "text": [
      "Creating 189 questions...\n",
      "Creating 143 targets...\n",
      "Creating 533 criteria...\n",
      "Creating 2657 caveats...\n",
      "Creating colormap...\n"
     ]
    }
   ],
   "source": [
    "json_out = E.serialize()"
   ]
  },
  {
   "cell_type": "code",
   "execution_count": 30,
   "metadata": {
    "collapsed": true
   },
   "outputs": [],
   "source": [
    "from MSSP.json_exch import *"
   ]
  },
  {
   "cell_type": "code",
   "execution_count": 31,
   "metadata": {
    "collapsed": false
   },
   "outputs": [
    {
     "name": "stdout",
     "output_type": "stream",
     "text": [
      "Output written to folder /Users/brandon/Dropbox/2016/TNCWebTool/JSON_OUT.\n"
     ]
    },
    {
     "data": {
      "text/plain": [
       "True"
      ]
     },
     "execution_count": 31,
     "metadata": {},
     "output_type": "execute_result"
    }
   ],
   "source": [
    "write_json(json_out)"
   ]
  },
  {
   "cell_type": "code",
   "execution_count": null,
   "metadata": {
    "collapsed": false
   },
   "outputs": [],
   "source": [
    "json_out['colormap']"
   ]
  },
  {
   "cell_type": "code",
   "execution_count": 36,
   "metadata": {
    "collapsed": false
   },
   "outputs": [
    {
     "data": {
      "text/plain": [
       "{'_attributes': <MSSP.elements.ElementSet at 0x10d98de90>,\n",
       " '_caveats':       Answer  NoteID  QuestionID  TargetID\n",
       " 0          1     214          87        50\n",
       " 1          1     214          87        51\n",
       " 2          1     214          87        52\n",
       " 3          1     214          87        53\n",
       " 4          1     214          87        54\n",
       " 5          1     214          87        55\n",
       " 6          1     214          87        56\n",
       " 7          1     214          87        57\n",
       " 8          1     215          87        68\n",
       " 9          1     216          87        79\n",
       " 10         1     216          87        80\n",
       " 11         1     216          87        81\n",
       " 12         1     137          40         7\n",
       " 13         1     138          40        10\n",
       " 14         1     138          40        11\n",
       " 15         1     139          40        12\n",
       " 16         1     140          40        14\n",
       " 17         1     140          40        15\n",
       " 18         1     140          40        18\n",
       " 19         1     141          40        20\n",
       " 20         1     140          40        21\n",
       " 21         1     142          40        22\n",
       " 22         1     142          40        23\n",
       " 23         1     137          40        24\n",
       " 24         1     142          40        25\n",
       " 25         1     137          40        26\n",
       " 26         1     142          40        29\n",
       " 27         1     143          40        30\n",
       " 28         1     143          40        31\n",
       " 29         1     143          40        32\n",
       " ...      ...     ...         ...       ...\n",
       " 2627       0     164          56        41\n",
       " 2628       0     165          56        44\n",
       " 2629       0     117         180       102\n",
       " 2630       0     117         180       103\n",
       " 2631       0     117         180       104\n",
       " 2632       0     117         180       105\n",
       " 2633       0     117         180       110\n",
       " 2634       0     117         180       111\n",
       " 2635       0     117         180       112\n",
       " 2636       0     117         180       113\n",
       " 2637       0     118         180       114\n",
       " 2638       0     118         180       115\n",
       " 2639       0     118         180       116\n",
       " 2640       0     118         180       117\n",
       " 2641       0     119         180       118\n",
       " 2642       0     119         180       119\n",
       " 2643       0     119         180       120\n",
       " 2644       0     119         180       121\n",
       " 2645       0     117         180       126\n",
       " 2646       0     117         180       127\n",
       " 2647       0     117         180       128\n",
       " 2648       0     120         180       129\n",
       " 2649       0     120         180       130\n",
       " 2650       0     121         180       133\n",
       " 2651       0     121         180       134\n",
       " 2652       0     117         180       139\n",
       " 2653       0     117         180       140\n",
       " 2654       0     117         180       141\n",
       " 2655       0     117         180       142\n",
       " 2656       0     169          59        42\n",
       " \n",
       " [2657 rows x 4 columns],\n",
       " '_criteria':      QuestionID  TargetID  Threshold\n",
       " 0            32        15          1\n",
       " 1            32        26          0\n",
       " 2            11         8          0\n",
       " 3            11         9          0\n",
       " 4             5        44          0\n",
       " 5            14        45          0\n",
       " 6            25         0          0\n",
       " 7            25         1          1\n",
       " 8            25         2          1\n",
       " 9            25         3          1\n",
       " 10           25         4          1\n",
       " 11           25         5          1\n",
       " 12           25         6          0\n",
       " 13           25         7          0\n",
       " 14           25        10          1\n",
       " 15           25        11          1\n",
       " 16           25        12          1\n",
       " 17           25        13          1\n",
       " 18           25        14          1\n",
       " 19           25        19          1\n",
       " 20           25        20          1\n",
       " 21           25        24          1\n",
       " 22           25        25          1\n",
       " 23           25        30          1\n",
       " 24           25        31          1\n",
       " 25           25        32          1\n",
       " 26           25        33          1\n",
       " 27           25        46          0\n",
       " 28           31        14          0\n",
       " 29           31        25          0\n",
       " ..          ...       ...        ...\n",
       " 503          42        38          1\n",
       " 504          42        39          1\n",
       " 505          42        40          1\n",
       " 506          42        41          1\n",
       " 507          42        42          1\n",
       " 508          42        43          1\n",
       " 509          42        44          1\n",
       " 510          42        45          1\n",
       " 511           4        31          0\n",
       " 512           4        32          0\n",
       " 513          17        10          0\n",
       " 514          17        24          0\n",
       " 515          17        27          0\n",
       " 516          36        35          0\n",
       " 517          44        13          1\n",
       " 518          44        14          1\n",
       " 519          44        16          1\n",
       " 520          44        17          1\n",
       " 521          44        22          1\n",
       " 522          44        29          1\n",
       " 523          44        35          1\n",
       " 524          44        36          1\n",
       " 525          44        37          1\n",
       " 526          44        38          1\n",
       " 527          44        40          1\n",
       " 528          44        41          1\n",
       " 529          44        42          1\n",
       " 530          44        43          1\n",
       " 531          44        44          1\n",
       " 532          44        45          1\n",
       " \n",
       " [533 rows x 3 columns],\n",
       " '_notes': <MSSP.elements.ElementSet at 0x10d98df10>,\n",
       " '_question_attributes':      AttributeID  QuestionID\n",
       " 0              0          20\n",
       " 1            144          20\n",
       " 2            154          20\n",
       " 3            132          20\n",
       " 4            344          87\n",
       " 5            329          87\n",
       " 6             19          87\n",
       " 7              0          87\n",
       " 8              0          32\n",
       " 9            168          32\n",
       " 10           162          32\n",
       " 11           132          32\n",
       " 12           167          32\n",
       " 13             0          11\n",
       " 14           144          11\n",
       " 15           132          11\n",
       " 16           145          11\n",
       " 17             0          40\n",
       " 18           177          40\n",
       " 19           184          40\n",
       " 20           182          40\n",
       " 21           183          40\n",
       " 22             0         185\n",
       " 23            32         185\n",
       " 24            67         185\n",
       " 25            19         185\n",
       " 26           376         120\n",
       " 27           385         120\n",
       " 28           382         120\n",
       " 29             0         120\n",
       " ..           ...         ...\n",
       " 762          175          36\n",
       " 763            0         101\n",
       " 764          355         101\n",
       " 765          359         101\n",
       " 766            0          44\n",
       " 767          177          44\n",
       " 768          179          44\n",
       " 769          188          44\n",
       " 770            0          96\n",
       " 771          354          96\n",
       " 772           19          96\n",
       " 773            0         168\n",
       " 774           19         168\n",
       " 775           43         168\n",
       " 776           12         168\n",
       " 777           30         168\n",
       " 778            0          56\n",
       " 779          177          56\n",
       " 780          194          56\n",
       " 781          204          56\n",
       " 782          197          56\n",
       " 783            0         180\n",
       " 784           15         180\n",
       " 785           61         180\n",
       " 786            7         180\n",
       " 787            0          59\n",
       " 788          177          59\n",
       " 789          194          59\n",
       " 790          197          59\n",
       " 791          207          59\n",
       " \n",
       " [742 rows x 2 columns],\n",
       " '_questions': [<MSSP.mssp_objects.MsspQuestion at 0x10e319b50>,\n",
       "  <MSSP.mssp_objects.MsspQuestion at 0x10e319b90>,\n",
       "  <MSSP.mssp_objects.MsspQuestion at 0x10e319bd0>,\n",
       "  <MSSP.mssp_objects.MsspQuestion at 0x10e319c10>,\n",
       "  <MSSP.mssp_objects.MsspQuestion at 0x10e319c50>,\n",
       "  <MSSP.mssp_objects.MsspQuestion at 0x10e319c90>,\n",
       "  <MSSP.mssp_objects.MsspQuestion at 0x10e319cd0>,\n",
       "  <MSSP.mssp_objects.MsspQuestion at 0x10e319d10>,\n",
       "  <MSSP.mssp_objects.MsspQuestion at 0x10e319d50>,\n",
       "  <MSSP.mssp_objects.MsspQuestion at 0x10e319d90>,\n",
       "  <MSSP.mssp_objects.MsspQuestion at 0x10e319dd0>,\n",
       "  <MSSP.mssp_objects.MsspQuestion at 0x10e319e10>,\n",
       "  <MSSP.mssp_objects.MsspQuestion at 0x10e319e50>,\n",
       "  <MSSP.mssp_objects.MsspQuestion at 0x10e319e90>,\n",
       "  <MSSP.mssp_objects.MsspQuestion at 0x10e319ed0>,\n",
       "  <MSSP.mssp_objects.MsspQuestion at 0x10e319f10>,\n",
       "  <MSSP.mssp_objects.MsspQuestion at 0x10e319f50>,\n",
       "  <MSSP.mssp_objects.MsspQuestion at 0x10e319f90>,\n",
       "  <MSSP.mssp_objects.MsspQuestion at 0x10e319fd0>,\n",
       "  <MSSP.mssp_objects.MsspQuestion at 0x10e331050>,\n",
       "  <MSSP.mssp_objects.MsspQuestion at 0x10e331090>,\n",
       "  <MSSP.mssp_objects.MsspQuestion at 0x10e3310d0>,\n",
       "  <MSSP.mssp_objects.MsspQuestion at 0x10e331110>,\n",
       "  <MSSP.mssp_objects.MsspQuestion at 0x10e331150>,\n",
       "  <MSSP.mssp_objects.MsspQuestion at 0x10e331190>,\n",
       "  <MSSP.mssp_objects.MsspQuestion at 0x10e3311d0>,\n",
       "  <MSSP.mssp_objects.MsspQuestion at 0x10e331210>,\n",
       "  <MSSP.mssp_objects.MsspQuestion at 0x10e331250>,\n",
       "  <MSSP.mssp_objects.MsspQuestion at 0x10e331290>,\n",
       "  <MSSP.mssp_objects.MsspQuestion at 0x10e3312d0>,\n",
       "  <MSSP.mssp_objects.MsspQuestion at 0x10e331310>,\n",
       "  <MSSP.mssp_objects.MsspQuestion at 0x10e331350>,\n",
       "  <MSSP.mssp_objects.MsspQuestion at 0x10e331390>,\n",
       "  <MSSP.mssp_objects.MsspQuestion at 0x10e3313d0>,\n",
       "  <MSSP.mssp_objects.MsspQuestion at 0x10e331410>,\n",
       "  <MSSP.mssp_objects.MsspQuestion at 0x10e331450>,\n",
       "  <MSSP.mssp_objects.MsspQuestion at 0x10e331490>,\n",
       "  <MSSP.mssp_objects.MsspQuestion at 0x10e3314d0>,\n",
       "  <MSSP.mssp_objects.MsspQuestion at 0x10e331510>,\n",
       "  <MSSP.mssp_objects.MsspQuestion at 0x10e331550>,\n",
       "  <MSSP.mssp_objects.MsspQuestion at 0x10e331590>,\n",
       "  <MSSP.mssp_objects.MsspQuestion at 0x10e3315d0>,\n",
       "  <MSSP.mssp_objects.MsspQuestion at 0x10e331610>,\n",
       "  <MSSP.mssp_objects.MsspQuestion at 0x10e331650>,\n",
       "  <MSSP.mssp_objects.MsspQuestion at 0x10e331690>,\n",
       "  <MSSP.mssp_objects.MsspQuestion at 0x10e3316d0>,\n",
       "  <MSSP.mssp_objects.MsspQuestion at 0x10e331710>,\n",
       "  <MSSP.mssp_objects.MsspQuestion at 0x10e331750>,\n",
       "  <MSSP.mssp_objects.MsspQuestion at 0x10e331790>,\n",
       "  <MSSP.mssp_objects.MsspQuestion at 0x10e3317d0>,\n",
       "  <MSSP.mssp_objects.MsspQuestion at 0x10e331810>,\n",
       "  <MSSP.mssp_objects.MsspQuestion at 0x10e331850>,\n",
       "  <MSSP.mssp_objects.MsspQuestion at 0x10e331890>,\n",
       "  <MSSP.mssp_objects.MsspQuestion at 0x10e3318d0>,\n",
       "  <MSSP.mssp_objects.MsspQuestion at 0x10e331910>,\n",
       "  <MSSP.mssp_objects.MsspQuestion at 0x10e331950>,\n",
       "  <MSSP.mssp_objects.MsspQuestion at 0x10e331990>,\n",
       "  <MSSP.mssp_objects.MsspQuestion at 0x10e3319d0>,\n",
       "  <MSSP.mssp_objects.MsspQuestion at 0x10e331a10>,\n",
       "  <MSSP.mssp_objects.MsspQuestion at 0x10e331a50>,\n",
       "  <MSSP.mssp_objects.MsspQuestion at 0x10e331a90>,\n",
       "  <MSSP.mssp_objects.MsspQuestion at 0x10e331ad0>,\n",
       "  <MSSP.mssp_objects.MsspQuestion at 0x10e331b10>,\n",
       "  <MSSP.mssp_objects.MsspQuestion at 0x10e331b50>,\n",
       "  <MSSP.mssp_objects.MsspQuestion at 0x10e2d7210>,\n",
       "  <MSSP.mssp_objects.MsspQuestion at 0x10e2d7f10>,\n",
       "  <MSSP.mssp_objects.MsspQuestion at 0x10e2c16d0>,\n",
       "  <MSSP.mssp_objects.MsspQuestion at 0x10e2c1710>,\n",
       "  <MSSP.mssp_objects.MsspQuestion at 0x10e331b90>,\n",
       "  <MSSP.mssp_objects.MsspQuestion at 0x10e331bd0>,\n",
       "  <MSSP.mssp_objects.MsspQuestion at 0x10e331c10>,\n",
       "  <MSSP.mssp_objects.MsspQuestion at 0x10e331c50>,\n",
       "  <MSSP.mssp_objects.MsspQuestion at 0x10e331c90>,\n",
       "  <MSSP.mssp_objects.MsspQuestion at 0x10e331cd0>,\n",
       "  <MSSP.mssp_objects.MsspQuestion at 0x10e331d10>,\n",
       "  <MSSP.mssp_objects.MsspQuestion at 0x10e331d50>,\n",
       "  <MSSP.mssp_objects.MsspQuestion at 0x10e331d90>,\n",
       "  <MSSP.mssp_objects.MsspQuestion at 0x10e331dd0>,\n",
       "  <MSSP.mssp_objects.MsspQuestion at 0x10e331e10>,\n",
       "  <MSSP.mssp_objects.MsspQuestion at 0x10e331e50>,\n",
       "  <MSSP.mssp_objects.MsspQuestion at 0x10e331e90>,\n",
       "  <MSSP.mssp_objects.MsspQuestion at 0x10e331ed0>,\n",
       "  <MSSP.mssp_objects.MsspQuestion at 0x10e331f10>,\n",
       "  <MSSP.mssp_objects.MsspQuestion at 0x10e331f50>,\n",
       "  <MSSP.mssp_objects.MsspQuestion at 0x10e331f90>,\n",
       "  <MSSP.mssp_objects.MsspQuestion at 0x10e331fd0>,\n",
       "  <MSSP.mssp_objects.MsspQuestion at 0x10e349050>,\n",
       "  <MSSP.mssp_objects.MsspQuestion at 0x10e349090>,\n",
       "  <MSSP.mssp_objects.MsspQuestion at 0x10e3490d0>,\n",
       "  <MSSP.mssp_objects.MsspQuestion at 0x10e349110>,\n",
       "  <MSSP.mssp_objects.MsspQuestion at 0x10e349150>,\n",
       "  <MSSP.mssp_objects.MsspQuestion at 0x10e349190>,\n",
       "  <MSSP.mssp_objects.MsspQuestion at 0x10e3491d0>,\n",
       "  <MSSP.mssp_objects.MsspQuestion at 0x10e349210>,\n",
       "  <MSSP.mssp_objects.MsspQuestion at 0x10e349250>,\n",
       "  <MSSP.mssp_objects.MsspQuestion at 0x10e349290>,\n",
       "  <MSSP.mssp_objects.MsspQuestion at 0x10e3492d0>,\n",
       "  <MSSP.mssp_objects.MsspQuestion at 0x10e349310>,\n",
       "  <MSSP.mssp_objects.MsspQuestion at 0x10e349350>,\n",
       "  <MSSP.mssp_objects.MsspQuestion at 0x10e349390>,\n",
       "  <MSSP.mssp_objects.MsspQuestion at 0x10e3493d0>,\n",
       "  <MSSP.mssp_objects.MsspQuestion at 0x10e349410>,\n",
       "  <MSSP.mssp_objects.MsspQuestion at 0x10e349450>,\n",
       "  <MSSP.mssp_objects.MsspQuestion at 0x10e349490>,\n",
       "  <MSSP.mssp_objects.MsspQuestion at 0x10e3494d0>,\n",
       "  <MSSP.mssp_objects.MsspQuestion at 0x10e349510>,\n",
       "  <MSSP.mssp_objects.MsspQuestion at 0x10e349550>,\n",
       "  <MSSP.mssp_objects.MsspQuestion at 0x10e349590>,\n",
       "  <MSSP.mssp_objects.MsspQuestion at 0x10e3495d0>,\n",
       "  <MSSP.mssp_objects.MsspQuestion at 0x10e349610>,\n",
       "  <MSSP.mssp_objects.MsspQuestion at 0x10e349650>,\n",
       "  <MSSP.mssp_objects.MsspQuestion at 0x10e349690>,\n",
       "  <MSSP.mssp_objects.MsspQuestion at 0x10e3496d0>,\n",
       "  <MSSP.mssp_objects.MsspQuestion at 0x10e349710>,\n",
       "  <MSSP.mssp_objects.MsspQuestion at 0x10e349750>,\n",
       "  <MSSP.mssp_objects.MsspQuestion at 0x10e349790>,\n",
       "  <MSSP.mssp_objects.MsspQuestion at 0x10e3497d0>,\n",
       "  <MSSP.mssp_objects.MsspQuestion at 0x10e349810>,\n",
       "  <MSSP.mssp_objects.MsspQuestion at 0x10e349850>,\n",
       "  <MSSP.mssp_objects.MsspQuestion at 0x10e349890>,\n",
       "  <MSSP.mssp_objects.MsspQuestion at 0x10e3498d0>,\n",
       "  <MSSP.mssp_objects.MsspQuestion at 0x10e349910>,\n",
       "  <MSSP.mssp_objects.MsspQuestion at 0x10e349950>,\n",
       "  <MSSP.mssp_objects.MsspQuestion at 0x10e349990>,\n",
       "  <MSSP.mssp_objects.MsspQuestion at 0x10e3499d0>,\n",
       "  <MSSP.mssp_objects.MsspQuestion at 0x10e349a10>,\n",
       "  <MSSP.mssp_objects.MsspQuestion at 0x10e349a50>,\n",
       "  <MSSP.mssp_objects.MsspQuestion at 0x10e349a90>,\n",
       "  <MSSP.mssp_objects.MsspQuestion at 0x10e349ad0>,\n",
       "  <MSSP.mssp_objects.MsspQuestion at 0x10e349b10>,\n",
       "  <MSSP.mssp_objects.MsspQuestion at 0x10e349b50>,\n",
       "  <MSSP.mssp_objects.MsspQuestion at 0x10e349b90>,\n",
       "  <MSSP.mssp_objects.MsspQuestion at 0x10e349bd0>,\n",
       "  <MSSP.mssp_objects.MsspQuestion at 0x10e349c10>,\n",
       "  <MSSP.mssp_objects.MsspQuestion at 0x10e349c50>,\n",
       "  <MSSP.mssp_objects.MsspQuestion at 0x10e349c90>,\n",
       "  <MSSP.mssp_objects.MsspQuestion at 0x10e349cd0>,\n",
       "  <MSSP.mssp_objects.MsspQuestion at 0x10e349d10>,\n",
       "  <MSSP.mssp_objects.MsspQuestion at 0x10e349d50>,\n",
       "  <MSSP.mssp_objects.MsspQuestion at 0x10e349d90>,\n",
       "  <MSSP.mssp_objects.MsspQuestion at 0x10e349dd0>,\n",
       "  <MSSP.mssp_objects.MsspQuestion at 0x10e349e10>,\n",
       "  <MSSP.mssp_objects.MsspQuestion at 0x10e349e50>,\n",
       "  <MSSP.mssp_objects.MsspQuestion at 0x10e349e90>,\n",
       "  <MSSP.mssp_objects.MsspQuestion at 0x10e349ed0>,\n",
       "  <MSSP.mssp_objects.MsspQuestion at 0x10e349f10>,\n",
       "  <MSSP.mssp_objects.MsspQuestion at 0x10e349f50>,\n",
       "  <MSSP.mssp_objects.MsspQuestion at 0x10e349f90>,\n",
       "  <MSSP.mssp_objects.MsspQuestion at 0x10e349fd0>,\n",
       "  <MSSP.mssp_objects.MsspQuestion at 0x10e354050>,\n",
       "  <MSSP.mssp_objects.MsspQuestion at 0x10e354090>,\n",
       "  <MSSP.mssp_objects.MsspQuestion at 0x10e3540d0>,\n",
       "  <MSSP.mssp_objects.MsspQuestion at 0x10e354110>,\n",
       "  <MSSP.mssp_objects.MsspQuestion at 0x10e354150>,\n",
       "  <MSSP.mssp_objects.MsspQuestion at 0x10e354190>,\n",
       "  <MSSP.mssp_objects.MsspQuestion at 0x10e3541d0>,\n",
       "  <MSSP.mssp_objects.MsspQuestion at 0x10e354210>,\n",
       "  <MSSP.mssp_objects.MsspQuestion at 0x10e354250>,\n",
       "  <MSSP.mssp_objects.MsspQuestion at 0x10e354290>,\n",
       "  <MSSP.mssp_objects.MsspQuestion at 0x10e3542d0>,\n",
       "  <MSSP.mssp_objects.MsspQuestion at 0x10e354310>,\n",
       "  <MSSP.mssp_objects.MsspQuestion at 0x10e354350>,\n",
       "  <MSSP.mssp_objects.MsspQuestion at 0x10e354390>,\n",
       "  <MSSP.mssp_objects.MsspQuestion at 0x10e3543d0>,\n",
       "  <MSSP.mssp_objects.MsspQuestion at 0x10e354410>,\n",
       "  <MSSP.mssp_objects.MsspQuestion at 0x10e354450>,\n",
       "  <MSSP.mssp_objects.MsspQuestion at 0x10e354490>,\n",
       "  <MSSP.mssp_objects.MsspQuestion at 0x10e3544d0>,\n",
       "  <MSSP.mssp_objects.MsspQuestion at 0x10e354510>,\n",
       "  <MSSP.mssp_objects.MsspQuestion at 0x10e354550>,\n",
       "  <MSSP.mssp_objects.MsspQuestion at 0x10e354590>,\n",
       "  <MSSP.mssp_objects.MsspQuestion at 0x10e3545d0>,\n",
       "  <MSSP.mssp_objects.MsspQuestion at 0x10e354610>,\n",
       "  <MSSP.mssp_objects.MsspQuestion at 0x10e354650>,\n",
       "  <MSSP.mssp_objects.MsspQuestion at 0x10e354690>,\n",
       "  <MSSP.mssp_objects.MsspQuestion at 0x10e3546d0>,\n",
       "  <MSSP.mssp_objects.MsspQuestion at 0x10e354710>,\n",
       "  <MSSP.mssp_objects.MsspQuestion at 0x10e354750>,\n",
       "  <MSSP.mssp_objects.MsspQuestion at 0x10e354790>,\n",
       "  <MSSP.mssp_objects.MsspQuestion at 0x10e3547d0>,\n",
       "  <MSSP.mssp_objects.MsspQuestion at 0x10e354810>,\n",
       "  <MSSP.mssp_objects.MsspQuestion at 0x10e354850>,\n",
       "  <MSSP.mssp_objects.MsspQuestion at 0x10e354890>,\n",
       "  <MSSP.mssp_objects.MsspQuestion at 0x10e3548d0>,\n",
       "  <MSSP.mssp_objects.MsspQuestion at 0x10e354910>,\n",
       "  <MSSP.mssp_objects.MsspQuestion at 0x10e354950>,\n",
       "  <MSSP.mssp_objects.MsspQuestion at 0x10e354990>,\n",
       "  <MSSP.mssp_objects.MsspQuestion at 0x10e3549d0>,\n",
       "  <MSSP.mssp_objects.MsspQuestion at 0x10e354a10>],\n",
       " '_target_attributes':      AttributeID  TargetID\n",
       " 0              0         0\n",
       " 1            217         0\n",
       " 2            218         0\n",
       " 3            219         0\n",
       " 4              0         1\n",
       " 5            217         1\n",
       " 6            218         1\n",
       " 7            220         1\n",
       " 8              0         2\n",
       " 9            217         2\n",
       " 10           218         2\n",
       " 11           221         2\n",
       " 12             0         3\n",
       " 13           217         3\n",
       " 14           224         3\n",
       " 15           222         3\n",
       " 16           223         3\n",
       " 17             0         4\n",
       " 18           217         4\n",
       " 19           225         4\n",
       " 20           222         4\n",
       " 21           223         4\n",
       " 22             0         5\n",
       " 23           217         5\n",
       " 24           226         5\n",
       " 25           223         5\n",
       " 26             0         6\n",
       " 27           217         6\n",
       " 28           227         6\n",
       " 29           223         6\n",
       " ..           ...       ...\n",
       " 567            0       136\n",
       " 568          120       136\n",
       " 569          121       136\n",
       " 570          113       136\n",
       " 571            0       137\n",
       " 572          120       137\n",
       " 573          122       137\n",
       " 574           93       137\n",
       " 575            0       138\n",
       " 576          120       138\n",
       " 577          123       138\n",
       " 578           79       138\n",
       " 579            0       139\n",
       " 580          126       139\n",
       " 581          124       139\n",
       " 582          125       139\n",
       " 583          118       139\n",
       " 584            0       140\n",
       " 585          128       140\n",
       " 586           75       140\n",
       " 587          124       140\n",
       " 588          127       140\n",
       " 589            0       141\n",
       " 590          129       141\n",
       " 591           99       141\n",
       " 592          124       141\n",
       " 593            0       142\n",
       " 594          130       142\n",
       " 595          131       142\n",
       " 596          124       142\n",
       " \n",
       " [597 rows x 2 columns],\n",
       " '_targets': [<MSSP.mssp_objects.MsspTarget at 0x10e2c1410>,\n",
       "  <MSSP.mssp_objects.MsspTarget at 0x10e2c1650>,\n",
       "  <MSSP.mssp_objects.MsspTarget at 0x10e2c1610>,\n",
       "  <MSSP.mssp_objects.MsspTarget at 0x10e2c1450>,\n",
       "  <MSSP.mssp_objects.MsspTarget at 0x10e2d7510>,\n",
       "  <MSSP.mssp_objects.MsspTarget at 0x10e2d7190>,\n",
       "  <MSSP.mssp_objects.MsspTarget at 0x10e2d7610>,\n",
       "  <MSSP.mssp_objects.MsspTarget at 0x10e2d74d0>,\n",
       "  <MSSP.mssp_objects.MsspTarget at 0x10e2d7550>,\n",
       "  <MSSP.mssp_objects.MsspTarget at 0x10e2d75d0>,\n",
       "  <MSSP.mssp_objects.MsspTarget at 0x10e2d71d0>,\n",
       "  <MSSP.mssp_objects.MsspTarget at 0x10e2d72d0>,\n",
       "  <MSSP.mssp_objects.MsspTarget at 0x10e2d7450>,\n",
       "  <MSSP.mssp_objects.MsspTarget at 0x10e2d79d0>,\n",
       "  <MSSP.mssp_objects.MsspTarget at 0x10e2d7850>,\n",
       "  <MSSP.mssp_objects.MsspTarget at 0x10e2d7c10>,\n",
       "  <MSSP.mssp_objects.MsspTarget at 0x10e2d7c50>,\n",
       "  <MSSP.mssp_objects.MsspTarget at 0x10e2d7bd0>,\n",
       "  <MSSP.mssp_objects.MsspTarget at 0x10e2d7b90>,\n",
       "  <MSSP.mssp_objects.MsspTarget at 0x10e2d7b50>,\n",
       "  <MSSP.mssp_objects.MsspTarget at 0x10e2d7a90>,\n",
       "  <MSSP.mssp_objects.MsspTarget at 0x10e2d7810>,\n",
       "  <MSSP.mssp_objects.MsspTarget at 0x10e2d7490>,\n",
       "  <MSSP.mssp_objects.MsspTarget at 0x10e2d7650>,\n",
       "  <MSSP.mssp_objects.MsspTarget at 0x10e2d7b10>,\n",
       "  <MSSP.mssp_objects.MsspTarget at 0x10e2d7ad0>,\n",
       "  <MSSP.mssp_objects.MsspTarget at 0x10e2d7c90>,\n",
       "  <MSSP.mssp_objects.MsspTarget at 0x10e2d7e50>,\n",
       "  <MSSP.mssp_objects.MsspTarget at 0x10e2d7f50>,\n",
       "  <MSSP.mssp_objects.MsspTarget at 0x10e2d7e90>,\n",
       "  <MSSP.mssp_objects.MsspTarget at 0x10e2d7ed0>,\n",
       "  <MSSP.mssp_objects.MsspTarget at 0x10e2d7950>,\n",
       "  <MSSP.mssp_objects.MsspTarget at 0x10e2d7310>,\n",
       "  <MSSP.mssp_objects.MsspTarget at 0x10e2d78d0>,\n",
       "  <MSSP.mssp_objects.MsspTarget at 0x10e2d7f90>,\n",
       "  <MSSP.mssp_objects.MsspTarget at 0x10e2d7fd0>,\n",
       "  <MSSP.mssp_objects.MsspTarget at 0x10e2e7050>,\n",
       "  <MSSP.mssp_objects.MsspTarget at 0x10e2e7090>,\n",
       "  <MSSP.mssp_objects.MsspTarget at 0x10e2e70d0>,\n",
       "  <MSSP.mssp_objects.MsspTarget at 0x10e2e7110>,\n",
       "  <MSSP.mssp_objects.MsspTarget at 0x10e2e7150>,\n",
       "  <MSSP.mssp_objects.MsspTarget at 0x10e2e7190>,\n",
       "  <MSSP.mssp_objects.MsspTarget at 0x10e2e71d0>,\n",
       "  <MSSP.mssp_objects.MsspTarget at 0x10e2e7210>,\n",
       "  <MSSP.mssp_objects.MsspTarget at 0x10e2e7250>,\n",
       "  <MSSP.mssp_objects.MsspTarget at 0x10e2e7290>,\n",
       "  <MSSP.mssp_objects.MsspTarget at 0x10e2e72d0>,\n",
       "  <MSSP.mssp_objects.MsspTarget at 0x10e2e7310>,\n",
       "  <MSSP.mssp_objects.MsspTarget at 0x10e2e7350>,\n",
       "  <MSSP.mssp_objects.MsspTarget at 0x10e2e7390>,\n",
       "  <MSSP.mssp_objects.MsspTarget at 0x10e2e73d0>,\n",
       "  <MSSP.mssp_objects.MsspTarget at 0x10e2e7410>,\n",
       "  <MSSP.mssp_objects.MsspTarget at 0x10e2e7450>,\n",
       "  <MSSP.mssp_objects.MsspTarget at 0x10e2e7490>,\n",
       "  <MSSP.mssp_objects.MsspTarget at 0x10e2e74d0>,\n",
       "  <MSSP.mssp_objects.MsspTarget at 0x10e2e7510>,\n",
       "  <MSSP.mssp_objects.MsspTarget at 0x10e2e7550>,\n",
       "  <MSSP.mssp_objects.MsspTarget at 0x10e2e7590>,\n",
       "  <MSSP.mssp_objects.MsspTarget at 0x10e2e75d0>,\n",
       "  <MSSP.mssp_objects.MsspTarget at 0x10e2e7610>,\n",
       "  <MSSP.mssp_objects.MsspTarget at 0x10e2e7650>,\n",
       "  <MSSP.mssp_objects.MsspTarget at 0x10e2e7690>,\n",
       "  <MSSP.mssp_objects.MsspTarget at 0x10e2e76d0>,\n",
       "  <MSSP.mssp_objects.MsspTarget at 0x10e2e7710>,\n",
       "  <MSSP.mssp_objects.MsspTarget at 0x10e2e7750>,\n",
       "  <MSSP.mssp_objects.MsspTarget at 0x10e2e7790>,\n",
       "  <MSSP.mssp_objects.MsspTarget at 0x10e2e77d0>,\n",
       "  <MSSP.mssp_objects.MsspTarget at 0x10e2e7810>,\n",
       "  <MSSP.mssp_objects.MsspTarget at 0x10e2e7850>,\n",
       "  <MSSP.mssp_objects.MsspTarget at 0x10e2e7890>,\n",
       "  <MSSP.mssp_objects.MsspTarget at 0x10e2e78d0>,\n",
       "  <MSSP.mssp_objects.MsspTarget at 0x10e2e7910>,\n",
       "  <MSSP.mssp_objects.MsspTarget at 0x10e2e7950>,\n",
       "  <MSSP.mssp_objects.MsspTarget at 0x10e2e7990>,\n",
       "  <MSSP.mssp_objects.MsspTarget at 0x10e2e79d0>,\n",
       "  <MSSP.mssp_objects.MsspTarget at 0x10e2e7a10>,\n",
       "  <MSSP.mssp_objects.MsspTarget at 0x10e2e7a50>,\n",
       "  <MSSP.mssp_objects.MsspTarget at 0x10e2e7a90>,\n",
       "  <MSSP.mssp_objects.MsspTarget at 0x10e2e7ad0>,\n",
       "  <MSSP.mssp_objects.MsspTarget at 0x10e2e7b10>,\n",
       "  <MSSP.mssp_objects.MsspTarget at 0x10e2e7b50>,\n",
       "  <MSSP.mssp_objects.MsspTarget at 0x10e2e7b90>,\n",
       "  <MSSP.mssp_objects.MsspTarget at 0x10e2e7bd0>,\n",
       "  <MSSP.mssp_objects.MsspTarget at 0x10e2e7c10>,\n",
       "  <MSSP.mssp_objects.MsspTarget at 0x10e2e7c50>,\n",
       "  <MSSP.mssp_objects.MsspTarget at 0x10e2e7c90>,\n",
       "  <MSSP.mssp_objects.MsspTarget at 0x10e2e7cd0>,\n",
       "  <MSSP.mssp_objects.MsspTarget at 0x10e2e7d10>,\n",
       "  <MSSP.mssp_objects.MsspTarget at 0x10e2e7d50>,\n",
       "  <MSSP.mssp_objects.MsspTarget at 0x10e2e7d90>,\n",
       "  <MSSP.mssp_objects.MsspTarget at 0x10e2e7dd0>,\n",
       "  <MSSP.mssp_objects.MsspTarget at 0x10e2e7e10>,\n",
       "  <MSSP.mssp_objects.MsspTarget at 0x10e2e7e50>,\n",
       "  <MSSP.mssp_objects.MsspTarget at 0x10e2e7e90>,\n",
       "  <MSSP.mssp_objects.MsspTarget at 0x10e2e7ed0>,\n",
       "  <MSSP.mssp_objects.MsspTarget at 0x10e2e7f10>,\n",
       "  <MSSP.mssp_objects.MsspTarget at 0x10e2e7f50>,\n",
       "  <MSSP.mssp_objects.MsspTarget at 0x10e2e7f90>,\n",
       "  <MSSP.mssp_objects.MsspTarget at 0x10e2e7fd0>,\n",
       "  <MSSP.mssp_objects.MsspTarget at 0x10e319050>,\n",
       "  <MSSP.mssp_objects.MsspTarget at 0x10e319090>,\n",
       "  <MSSP.mssp_objects.MsspTarget at 0x10e3190d0>,\n",
       "  <MSSP.mssp_objects.MsspTarget at 0x10e319110>,\n",
       "  <MSSP.mssp_objects.MsspTarget at 0x10e319150>,\n",
       "  <MSSP.mssp_objects.MsspTarget at 0x10e319190>,\n",
       "  <MSSP.mssp_objects.MsspTarget at 0x10e3191d0>,\n",
       "  <MSSP.mssp_objects.MsspTarget at 0x10e319210>,\n",
       "  <MSSP.mssp_objects.MsspTarget at 0x10e319250>,\n",
       "  <MSSP.mssp_objects.MsspTarget at 0x10e319290>,\n",
       "  <MSSP.mssp_objects.MsspTarget at 0x10e3192d0>,\n",
       "  <MSSP.mssp_objects.MsspTarget at 0x10e319310>,\n",
       "  <MSSP.mssp_objects.MsspTarget at 0x10e319350>,\n",
       "  <MSSP.mssp_objects.MsspTarget at 0x10e319390>,\n",
       "  <MSSP.mssp_objects.MsspTarget at 0x10e3193d0>,\n",
       "  <MSSP.mssp_objects.MsspTarget at 0x10e319410>,\n",
       "  <MSSP.mssp_objects.MsspTarget at 0x10e319450>,\n",
       "  <MSSP.mssp_objects.MsspTarget at 0x10e319490>,\n",
       "  <MSSP.mssp_objects.MsspTarget at 0x10e3194d0>,\n",
       "  <MSSP.mssp_objects.MsspTarget at 0x10e319510>,\n",
       "  <MSSP.mssp_objects.MsspTarget at 0x10e319550>,\n",
       "  <MSSP.mssp_objects.MsspTarget at 0x10e319590>,\n",
       "  <MSSP.mssp_objects.MsspTarget at 0x10e3195d0>,\n",
       "  <MSSP.mssp_objects.MsspTarget at 0x10e319610>,\n",
       "  <MSSP.mssp_objects.MsspTarget at 0x10e319650>,\n",
       "  <MSSP.mssp_objects.MsspTarget at 0x10e319690>,\n",
       "  <MSSP.mssp_objects.MsspTarget at 0x10e3196d0>,\n",
       "  <MSSP.mssp_objects.MsspTarget at 0x10e319710>,\n",
       "  <MSSP.mssp_objects.MsspTarget at 0x10e319750>,\n",
       "  <MSSP.mssp_objects.MsspTarget at 0x10e319790>,\n",
       "  <MSSP.mssp_objects.MsspTarget at 0x10e3197d0>,\n",
       "  <MSSP.mssp_objects.MsspTarget at 0x10e319810>,\n",
       "  <MSSP.mssp_objects.MsspTarget at 0x10e319850>,\n",
       "  <MSSP.mssp_objects.MsspTarget at 0x10e319890>,\n",
       "  <MSSP.mssp_objects.MsspTarget at 0x10e3198d0>,\n",
       "  <MSSP.mssp_objects.MsspTarget at 0x10e319910>,\n",
       "  <MSSP.mssp_objects.MsspTarget at 0x10e319950>,\n",
       "  <MSSP.mssp_objects.MsspTarget at 0x10e319990>,\n",
       "  <MSSP.mssp_objects.MsspTarget at 0x10e3199d0>,\n",
       "  <MSSP.mssp_objects.MsspTarget at 0x10e319a10>,\n",
       "  <MSSP.mssp_objects.MsspTarget at 0x10e319a50>,\n",
       "  <MSSP.mssp_objects.MsspTarget at 0x10e319a90>,\n",
       "  <MSSP.mssp_objects.MsspTarget at 0x10e319ad0>,\n",
       "  <MSSP.mssp_objects.MsspTarget at 0x10e319b10>],\n",
       " 'colormap':         RGB ColorName  Score\n",
       " 0  FFFF0000       red     -3\n",
       " 1  FFFFC000    yellow     -1\n",
       " 2  FF6C4D91    purple     -1\n",
       " 3  00000000      None      0\n",
       " 4  FF92D050     green      2\n",
       " 5  FFFF6600    orange     -2}"
      ]
     },
     "execution_count": 36,
     "metadata": {},
     "output_type": "execute_result"
    }
   ],
   "source": [
    "E.__dict__"
   ]
  }
 ],
 "metadata": {
  "kernelspec": {
   "display_name": "Python 2",
   "language": "python",
   "name": "python2"
  },
  "language_info": {
   "codemirror_mode": {
    "name": "ipython",
    "version": 2
   },
   "file_extension": ".py",
   "mimetype": "text/x-python",
   "name": "python",
   "nbconvert_exporter": "python",
   "pygments_lexer": "ipython2",
   "version": "2.7.10"
  }
 },
 "nbformat": 4,
 "nbformat_minor": 0
}
