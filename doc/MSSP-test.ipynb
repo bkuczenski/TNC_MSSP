{
 "cells": [
  {
   "cell_type": "code",
   "execution_count": 1,
   "metadata": {
    "collapsed": true
   },
   "outputs": [],
   "source": [
    "import os,sys\n",
    "sys.path.append('../src')"
   ]
  },
  {
   "cell_type": "code",
   "execution_count": 2,
   "metadata": {
    "collapsed": true
   },
   "outputs": [],
   "source": [
    "import MSSP"
   ]
  },
  {
   "cell_type": "code",
   "execution_count": 3,
   "metadata": {
    "collapsed": false
   },
   "outputs": [
    {
     "name": "stdout",
     "output_type": "stream",
     "text": [
      "No answer_senses provided; using last attribute row/column for question_sense\n"
     ]
    }
   ],
   "source": [
    "M = MSSP.mssp.SpreadsheetData()"
   ]
  },
  {
   "cell_type": "code",
   "execution_count": 5,
   "metadata": {
    "collapsed": false
   },
   "outputs": [
    {
     "name": "stdout",
     "output_type": "stream",
     "text": [
      "adding questions\n",
      "adding targets\n",
      "populating questions\n"
     ]
    },
    {
     "data": {
      "text/plain": [
       "True"
      ]
     },
     "execution_count": 5,
     "metadata": {},
     "output_type": "execute_result"
    }
   ],
   "source": []
  },
  {
   "cell_type": "code",
   "execution_count": 12,
   "metadata": {
    "collapsed": false
   },
   "outputs": [
    {
     "data": {
      "text/plain": [
       "u'Monitoring!F3'"
      ]
     },
     "execution_count": 12,
     "metadata": {},
     "output_type": "execute_result"
    }
   ],
   "source": [
    "a=M.Attributes[0]\n"
   ]
  },
  {
   "cell_type": "code",
   "execution_count": 15,
   "metadata": {
    "collapsed": false
   },
   "outputs": [
    {
     "data": {
      "text/plain": [
       "119"
      ]
     },
     "execution_count": 15,
     "metadata": {},
     "output_type": "execute_result"
    }
   ],
   "source": [
    "len(M.Notations)"
   ]
  },
  {
   "cell_type": "code",
   "execution_count": 11,
   "metadata": {
    "collapsed": false
   },
   "outputs": [
    {
     "data": {
      "text/plain": [
       "[\"('Monitoring', (36, None))\",\n",
       " \"('Monitoring', (15, None))\",\n",
       " \"('Monitoring', (46, None))\",\n",
       " \"('Monitoring', (65, None))\",\n",
       " \"('Monitoring', (28, None))\",\n",
       " \"('Monitoring', (57, None))\",\n",
       " \"('Monitoring', (35, None))\",\n",
       " \"('Monitoring', (50, None))\",\n",
       " \"('Monitoring', (17, None))\",\n",
       " \"('Monitoring', (32, None))\",\n",
       " \"('Monitoring', (27, None))\",\n",
       " \"('Monitoring', (42, None))\",\n",
       " \"('Monitoring', (9, None))\",\n",
       " \"('Monitoring', (24, None))\",\n",
       " \"('Monitoring', (68, None))\",\n",
       " \"('Monitoring', (47, None))\",\n",
       " \"('Monitoring', (29, None))\",\n",
       " \"('Monitoring', (60, None))\",\n",
       " \"('Monitoring', (39, None))\",\n",
       " \"('Monitoring', (38, None))\",\n",
       " \"('Monitoring', (67, None))\",\n",
       " \"('Monitoring', (21, None))\",\n",
       " \"('Monitoring', (20, None))\",\n",
       " \"('Monitoring', (30, None))\",\n",
       " \"('Monitoring', (49, None))\",\n",
       " \"('Monitoring', (64, None))\",\n",
       " \"('Monitoring', (59, None))\",\n",
       " \"('Monitoring', (12, None))\",\n",
       " \"('Monitoring', (41, None))\",\n",
       " \"('Monitoring', (56, None))\",\n",
       " \"('Monitoring', (19, None))\",\n",
       " \"('Monitoring', (34, None))\",\n",
       " \"('Monitoring', (16, None))\",\n",
       " \"('Monitoring', (11, None))\",\n",
       " \"('Monitoring', (26, None))\",\n",
       " \"('Monitoring', (61, None))\",\n",
       " \"('Monitoring', (8, None))\",\n",
       " \"('Monitoring', (53, None))\",\n",
       " \"('Monitoring', (52, None))\",\n",
       " \"('Monitoring', (31, None))\",\n",
       " \"('Monitoring', (62, None))\",\n",
       " \"('Monitoring', (13, None))\",\n",
       " \"('Monitoring', (44, None))\",\n",
       " \"('Monitoring', (23, None))\",\n",
       " \"('Monitoring', (22, None))\",\n",
       " \"('Monitoring', (51, None))\",\n",
       " \"('Monitoring', (66, None))\",\n",
       " \"('Monitoring', (14, None))\",\n",
       " \"('Monitoring', (33, None))\",\n",
       " \"('Monitoring', (48, None))\",\n",
       " \"('Monitoring', (43, None))\",\n",
       " \"('Monitoring', (58, None))\",\n",
       " \"('Monitoring', (25, None))\",\n",
       " \"('Monitoring', (40, None))\",\n",
       " \"('Monitoring', (18, None))\",\n",
       " \"('Monitoring', (63, None))\",\n",
       " \"('Monitoring', (10, None))\",\n",
       " \"('Monitoring', (45, None))\",\n",
       " \"('Monitoring', (55, None))\",\n",
       " \"('Monitoring', (54, None))\",\n",
       " \"('Monitoring', (37, None))\"]"
      ]
     },
     "execution_count": 11,
     "metadata": {},
     "output_type": "execute_result"
    }
   ],
   "source": [
    "[str(k) for k,v in M.Questions.iteritems()]"
   ]
  },
  {
   "cell_type": "code",
   "execution_count": 4,
   "metadata": {
    "collapsed": true
   },
   "outputs": [],
   "source": [
    "sheet = M._open_worksheet('Monitoring')\n",
    "start = sheet[M.grid_start['Monitoring']]"
   ]
  },
  {
   "cell_type": "code",
   "execution_count": 5,
   "metadata": {
    "collapsed": false
   },
   "outputs": [],
   "source": [
    "q_records, t_records = M._expand_record_refs(sheet, start, False)"
   ]
  },
  {
   "cell_type": "code",
   "execution_count": 6,
   "metadata": {
    "collapsed": false
   },
   "outputs": [
    {
     "data": {
      "text/plain": [
       "['(None, 6)',\n",
       " '(None, 7)',\n",
       " '(None, 8)',\n",
       " '(None, 9)',\n",
       " '(None, 10)',\n",
       " '(None, 11)',\n",
       " '(None, 12)',\n",
       " '(None, 13)',\n",
       " '(None, 14)',\n",
       " '(None, 15)',\n",
       " '(None, 16)',\n",
       " '(None, 17)',\n",
       " '(None, 18)',\n",
       " '(None, 19)',\n",
       " '(None, 20)',\n",
       " '(None, 21)',\n",
       " '(None, 22)',\n",
       " '(None, 23)',\n",
       " '(None, 24)',\n",
       " '(None, 25)',\n",
       " '(None, 26)',\n",
       " '(None, 27)',\n",
       " '(None, 28)',\n",
       " '(None, 29)',\n",
       " '(None, 30)',\n",
       " '(None, 31)',\n",
       " '(None, 32)',\n",
       " '(None, 33)',\n",
       " '(None, 34)',\n",
       " '(None, 35)',\n",
       " '(None, 36)',\n",
       " '(None, 37)',\n",
       " '(None, 38)',\n",
       " '(None, 39)',\n",
       " '(None, 40)',\n",
       " '(None, 41)',\n",
       " '(None, 42)',\n",
       " '(None, 43)']"
      ]
     },
     "execution_count": 6,
     "metadata": {},
     "output_type": "execute_result"
    }
   ],
   "source": [
    "[str(record) for record in q_records]"
   ]
  },
  {
   "cell_type": "code",
   "execution_count": 9,
   "metadata": {
    "collapsed": true
   },
   "outputs": [],
   "source": [
    "from MSSP.records import Question, Target"
   ]
  },
  {
   "cell_type": "code",
   "execution_count": 10,
   "metadata": {
    "collapsed": false
   },
   "outputs": [],
   "source": [
    "for record in q_records:\n",
    "    mapped_attrs = M._attributes_of_record(sheet, start, record)\n",
    "    M.Questions[('Monitoring',record)] = Question('Monitoring',record,mapped_attrs)"
   ]
  },
  {
   "cell_type": "code",
   "execution_count": 7,
   "metadata": {
    "collapsed": false
   },
   "outputs": [
    {
     "name": "stdout",
     "output_type": "stream",
     "text": [
      "adding questions\n",
      "adding targets\n",
      "populating questions\n"
     ]
    },
    {
     "data": {
      "text/plain": [
       "True"
      ]
     },
     "execution_count": 7,
     "metadata": {},
     "output_type": "execute_result"
    }
   ],
   "source": [
    "M.parse_monitoring_sheet()"
   ]
  },
  {
   "cell_type": "code",
   "execution_count": 8,
   "metadata": {
    "collapsed": false
   },
   "outputs": [
    {
     "data": {
      "text/plain": [
       "38"
      ]
     },
     "execution_count": 8,
     "metadata": {},
     "output_type": "execute_result"
    }
   ],
   "source": [
    "len(M.Questions)"
   ]
  },
  {
   "cell_type": "code",
   "execution_count": 11,
   "metadata": {
    "collapsed": false
   },
   "outputs": [
    {
     "data": {
      "text/plain": [
       "['Monitoring!H4: Fishery cooperation (wrt HS approach) [text 1 | fill 00000000]',\n",
       " 'Monitoring!O2: CAVEATS - Second, refine the shortlist of monitoring options according to the below range of criteria [text 00000000 | fill 00000000]',\n",
       " 'Monitoring!T5: Number of levels of buying/distribution (re: markets) [text 1 | fill 00000000]',\n",
       " 'Monitoring!T7: 3 - fisher, middleman, market [text 1 | fill 00000000]']"
      ]
     },
     "execution_count": 11,
     "metadata": {},
     "output_type": "execute_result"
    }
   ],
   "source": [
    "q=M.Questions[('Monitoring',(None,20))]\n",
    "[str(i) for i in q.attrs]"
   ]
  },
  {
   "cell_type": "code",
   "execution_count": 12,
   "metadata": {
    "collapsed": false
   },
   "outputs": [
    {
     "data": {
      "text/plain": [
       "[((8, None), <MSSP.elements.Element at 0x10a3a0f50>),\n",
       " ((9, None), <MSSP.elements.Element at 0x10a266190>),\n",
       " ((11, None), <MSSP.elements.Element at 0x10a266210>),\n",
       " ((16, None), <MSSP.elements.Element at 0x10a266250>),\n",
       " ((17, None), <MSSP.elements.Element at 0x10a266290>),\n",
       " ((19, None), <MSSP.elements.Element at 0x10a2661d0>),\n",
       " ((45, None), <MSSP.elements.Element at 0x10a2662d0>),\n",
       " ((46, None), <MSSP.elements.Element at 0x10a266350>),\n",
       " ((47, None), <MSSP.elements.Element at 0x10a266390>),\n",
       " ((48, None), <MSSP.elements.Element at 0x10a2663d0>),\n",
       " ((50, None), <MSSP.elements.Element at 0x10a266310>),\n",
       " ((51, None), <MSSP.elements.Element at 0x10a266450>)]"
      ]
     },
     "execution_count": 12,
     "metadata": {},
     "output_type": "execute_result"
    }
   ],
   "source": [
    "q.mappings"
   ]
  },
  {
   "cell_type": "code",
   "execution_count": 13,
   "metadata": {
    "collapsed": false
   },
   "outputs": [
    {
     "data": {
      "text/plain": [
       "{<Cell Monitoring.T7>: 0}"
      ]
     },
     "execution_count": 13,
     "metadata": {},
     "output_type": "execute_result"
    }
   ],
   "source": [
    "[cell.value for cell in q.valid_answers."
   ]
  }
 ],
 "metadata": {
  "kernelspec": {
   "display_name": "Python 2",
   "language": "python",
   "name": "python2"
  },
  "language_info": {
   "codemirror_mode": {
    "name": "ipython",
    "version": 2
   },
   "file_extension": ".py",
   "mimetype": "text/x-python",
   "name": "python",
   "nbconvert_exporter": "python",
   "pygments_lexer": "ipython2",
   "version": "2.7.10"
  }
 },
 "nbformat": 4,
 "nbformat_minor": 0
}
