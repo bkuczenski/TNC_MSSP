{
 "cells": [
  {
   "cell_type": "code",
   "execution_count": 1,
   "metadata": {
    "collapsed": true
   },
   "outputs": [],
   "source": [
    "import os,sys\n",
    "sys.path.append('../src')"
   ]
  },
  {
   "cell_type": "code",
   "execution_count": 2,
   "metadata": {
    "collapsed": false
   },
   "outputs": [],
   "source": [
    "import MSSP"
   ]
  },
  {
   "cell_type": "code",
   "execution_count": 3,
   "metadata": {
    "collapsed": false
   },
   "outputs": [],
   "source": [
    "M = MSSP.mssp.SpreadsheetData()"
   ]
  },
  {
   "cell_type": "code",
   "execution_count": 4,
   "metadata": {
    "collapsed": true
   },
   "outputs": [],
   "source": [
    "sheet = M._open_worksheet('Monitoring')\n",
    "start = sheet[M.grid_start['Monitoring']]"
   ]
  },
  {
   "cell_type": "code",
   "execution_count": 5,
   "metadata": {
    "collapsed": false
   },
   "outputs": [],
   "source": [
    "q_records, t_records = M._expand_record_refs(sheet, start, False)"
   ]
  },
  {
   "cell_type": "code",
   "execution_count": 6,
   "metadata": {
    "collapsed": false
   },
   "outputs": [
    {
     "data": {
      "text/plain": [
       "['(None, 6)',\n",
       " '(None, 7)',\n",
       " '(None, 8)',\n",
       " '(None, 9)',\n",
       " '(None, 10)',\n",
       " '(None, 11)',\n",
       " '(None, 12)',\n",
       " '(None, 13)',\n",
       " '(None, 14)',\n",
       " '(None, 15)',\n",
       " '(None, 16)',\n",
       " '(None, 17)',\n",
       " '(None, 18)',\n",
       " '(None, 19)',\n",
       " '(None, 20)',\n",
       " '(None, 21)',\n",
       " '(None, 22)',\n",
       " '(None, 23)',\n",
       " '(None, 24)',\n",
       " '(None, 25)',\n",
       " '(None, 26)',\n",
       " '(None, 27)',\n",
       " '(None, 28)',\n",
       " '(None, 29)',\n",
       " '(None, 30)',\n",
       " '(None, 31)',\n",
       " '(None, 32)',\n",
       " '(None, 33)',\n",
       " '(None, 34)',\n",
       " '(None, 35)',\n",
       " '(None, 36)',\n",
       " '(None, 37)',\n",
       " '(None, 38)',\n",
       " '(None, 39)',\n",
       " '(None, 40)',\n",
       " '(None, 41)',\n",
       " '(None, 42)',\n",
       " '(None, 43)']"
      ]
     },
     "execution_count": 6,
     "metadata": {},
     "output_type": "execute_result"
    }
   ],
   "source": [
    "[str(record) for record in q_records]"
   ]
  },
  {
   "cell_type": "code",
   "execution_count": 29,
   "metadata": {
    "collapsed": false
   },
   "outputs": [
    {
     "name": "stdout",
     "output_type": "stream",
     "text": [
      "adding questions\n",
      "adding targets\n",
      "populating questions\n"
     ]
    },
    {
     "data": {
      "text/plain": [
       "True"
      ]
     },
     "execution_count": 29,
     "metadata": {},
     "output_type": "execute_result"
    }
   ],
   "source": [
    "M.parse_controlrules_sheet()"
   ]
  },
  {
   "cell_type": "code",
   "execution_count": 30,
   "metadata": {
    "collapsed": false
   },
   "outputs": [
    {
     "name": "stdout",
     "output_type": "stream",
     "text": [
      "adding questions\n",
      "adding targets\n",
      "populating questions\n"
     ]
    },
    {
     "data": {
      "text/plain": [
       "True"
      ]
     },
     "execution_count": 30,
     "metadata": {},
     "output_type": "execute_result"
    }
   ],
   "source": [
    "M.parse_monitoring_sheet()"
   ]
  },
  {
   "cell_type": "code",
   "execution_count": 24,
   "metadata": {
    "collapsed": false
   },
   "outputs": [
    {
     "name": "stdout",
     "output_type": "stream",
     "text": [
      "adding questions\n",
      "adding targets\n",
      "populating questions\n"
     ]
    },
    {
     "data": {
      "text/plain": [
       "True"
      ]
     },
     "execution_count": 24,
     "metadata": {},
     "output_type": "execute_result"
    }
   ],
   "source": [
    "M.parse_assessment_sheet()"
   ]
  },
  {
   "cell_type": "code",
   "execution_count": 25,
   "metadata": {
    "collapsed": false
   },
   "outputs": [
    {
     "data": {
      "text/plain": [
       "48"
      ]
     },
     "execution_count": 25,
     "metadata": {},
     "output_type": "execute_result"
    }
   ],
   "source": [
    "len(M.Targets)"
   ]
  },
  {
   "cell_type": "code",
   "execution_count": 6,
   "metadata": {
    "collapsed": false
   },
   "outputs": [
    {
     "data": {
      "text/plain": [
       "[\"('Assessment', (60, None))\",\n",
       " \"('Assessment', (89, None))\",\n",
       " \"('Assessment', (72, None))\",\n",
       " \"('Assessment', (51, None))\",\n",
       " \"('Assessment', (98, None))\",\n",
       " \"('Assessment', (80, None))\",\n",
       " \"('Assessment', (74, None))\",\n",
       " \"('Assessment', (56, None))\",\n",
       " \"('Assessment', (63, None))\",\n",
       " \"('Assessment', (45, None))\",\n",
       " \"('Assessment', (92, None))\",\n",
       " \"('Assessment', (54, None))\",\n",
       " \"('Assessment', (83, None))\",\n",
       " \"('Assessment', (47, None))\",\n",
       " \"('Assessment', (65, None))\",\n",
       " \"('Assessment', (59, None))\",\n",
       " \"('Assessment', (41, None))\",\n",
       " \"('Assessment', (88, None))\",\n",
       " \"('Assessment', (67, None))\",\n",
       " \"('Assessment', (50, None))\",\n",
       " \"('Assessment', (95, None))\",\n",
       " \"('Assessment', (49, None))\",\n",
       " \"('Assessment', (43, None))\",\n",
       " \"('Assessment', (77, None))\",\n",
       " \"('Assessment', (71, None))\",\n",
       " \"('Assessment', (86, None))\",\n",
       " \"('Assessment', (53, None))\",\n",
       " \"('Assessment', (68, None))\",\n",
       " \"('Assessment', (79, None))\",\n",
       " \"('Assessment', (62, None))\",\n",
       " \"('Assessment', (97, None))\",\n",
       " \"('Assessment', (91, None))\",\n",
       " \"('Assessment', (61, None))\",\n",
       " \"('Assessment', (44, None))\",\n",
       " \"('Assessment', (55, None))\",\n",
       " \"('Assessment', (70, None))\",\n",
       " \"('Assessment', (73, None))\",\n",
       " \"('Assessment', (99, None))\",\n",
       " \"('Assessment', (82, None))\",\n",
       " \"('Assessment', (52, None))\",\n",
       " \"('Assessment', (46, None))\",\n",
       " \"('Assessment', (81, None))\",\n",
       " \"('Assessment', (64, None))\",\n",
       " \"('Assessment', (75, None))\",\n",
       " \"('Assessment', (58, None))\",\n",
       " \"('Assessment', (57, None))\",\n",
       " \"('Assessment', (40, None))\",\n",
       " \"('Assessment', (66, None))\",\n",
       " \"('Assessment', (85, None))\",\n",
       " \"('Assessment', (94, None))\",\n",
       " \"('Assessment', (48, None))\",\n",
       " \"('Assessment', (42, None))\",\n",
       " \"('Assessment', (93, None))\",\n",
       " \"('Assessment', (76, None))\",\n",
       " \"('Assessment', (87, None))\",\n",
       " \"('Assessment', (69, None))\",\n",
       " \"('Assessment', (84, None))\",\n",
       " \"('Assessment', (78, None))\",\n",
       " \"('Assessment', (96, None))\",\n",
       " \"('Assessment', (90, None))\"]"
      ]
     },
     "execution_count": 6,
     "metadata": {},
     "output_type": "execute_result"
    }
   ],
   "source": [
    "[str(k) for k,v in M.Questions.iteritems()]"
   ]
  },
  {
   "cell_type": "code",
   "execution_count": 28,
   "metadata": {
    "collapsed": false
   },
   "outputs": [
    {
     "data": {
      "text/plain": [
       "['Master!A40: Criteria [text 1 | fill 00000000]',\n",
       " 'Master!F72: Biology Catch-all [text 00000000 | fill 00000000]',\n",
       " 'Master!D66: Satisfied by above [text 1 | fill 00000000]',\n",
       " 'Master!E72: =\"Rows \"&ROW(E40)&\"-\"&ROW(E43) [text 1 | fill 00000000]']"
      ]
     },
     "execution_count": 28,
     "metadata": {},
     "output_type": "execute_result"
    }
   ],
   "source": [
    "q=M.Questions[('Assessment',(72,None))]\n",
    "[str(i) for i in q.attrs]"
   ]
  },
  {
   "cell_type": "code",
   "execution_count": 31,
   "metadata": {
    "collapsed": false
   },
   "outputs": [
    {
     "data": {
      "text/plain": [
       "168"
      ]
     },
     "execution_count": 31,
     "metadata": {},
     "output_type": "execute_result"
    }
   ],
   "source": [
    "len(M.Questions)"
   ]
  },
  {
   "cell_type": "code",
   "execution_count": 13,
   "metadata": {
    "collapsed": false
   },
   "outputs": [
    {
     "data": {
      "text/plain": [
       "['Monitoring!H4: Fishery cooperation (wrt HS approach) [text 1 | fill 00000000]',\n",
       " 'Monitoring!O2: CAVEATS - Second, refine the shortlist of monitoring options according to the below range of criteria [text 00000000 | fill 00000000]',\n",
       " 'Monitoring!T5: Number of levels of buying/distribution (re: markets) [text 1 | fill 00000000]',\n",
       " 'Monitoring!T7: 3 - fisher, middleman, market [text 1 | fill 00000000]']"
      ]
     },
     "execution_count": 13,
     "metadata": {},
     "output_type": "execute_result"
    }
   ],
   "source": [
    "q=M.Questions[('Monitoring',(None,20))]\n",
    "[str(i) for i in q.attrs]"
   ]
  },
  {
   "cell_type": "code",
   "execution_count": 41,
   "metadata": {
    "collapsed": false
   },
   "outputs": [
    {
     "data": {
      "text/plain": [
       "[u'Master!A71: Governance [text 1 | fill 00000000]',\n",
       " u'Master!D57: moderate [text 1 | fill 00000000]']"
      ]
     },
     "execution_count": 41,
     "metadata": {},
     "output_type": "execute_result"
    }
   ],
   "source": [
    "q=M.Questions[('ControlRules',(81,None))]\n",
    "[unicode(i) for i in q.attrs]"
   ]
  },
  {
   "cell_type": "code",
   "execution_count": 51,
   "metadata": {
    "collapsed": false
   },
   "outputs": [
    {
     "data": {
      "text/plain": [
       "'Master!F81: May not be able to undertake [text 1 | fill FFFFC000]'"
      ]
     },
     "execution_count": 51,
     "metadata": {},
     "output_type": "execute_result"
    }
   ],
   "source": [
    "\n",
    "str(q.caveat_mappings[0][1][1])"
   ]
  },
  {
   "cell_type": "code",
   "execution_count": 15,
   "metadata": {
    "collapsed": false
   },
   "outputs": [
    {
     "data": {
      "text/plain": [
       "[1L]"
      ]
     },
     "execution_count": 15,
     "metadata": {},
     "output_type": "execute_result"
    }
   ],
   "source": [
    "[value for value,v in q.valid_answers.iteritems()]"
   ]
  },
  {
   "cell_type": "code",
   "execution_count": 34,
   "metadata": {
    "collapsed": false
   },
   "outputs": [
    {
     "name": "stdout",
     "output_type": "stream",
     "text": [
      "FFFF0000\n",
      "FFFFC000\n",
      "FF6C4D91\n",
      "00000000\n",
      "FF92D050\n",
      "FFFF6600\n"
     ]
    }
   ],
   "source": [
    "\"\"\"\n",
    "Find all unique colors (first in monitoring alone; then in the whole kit + caboodle)\n",
    "This requires iterating through M.Notations\n",
    "\"\"\"\n",
    "colors=set()\n",
    "for note in M.Notations:\n",
    "    colors.add(note.fill_color)\n",
    "for color in colors:\n",
    "    print color"
   ]
  },
  {
   "cell_type": "code",
   "execution_count": 19,
   "metadata": {
    "collapsed": false
   },
   "outputs": [
    {
     "name": "stdout",
     "output_type": "stream",
     "text": [
      "Sheet1!A51: NEW - KENYA [text 1 | fill FFFF6699]\n",
      "Sheet1!B51: Are there conditions (e.g. environmental, oceanographic, weather temperature) that affect either fish availability or ability to fish? [text 1 | fill FFFF6699]\n"
     ]
    }
   ],
   "source": [
    "g=[note for note in M.Attributes if note.fill_color == 'FFFF6699']\n",
    "for note in g: print note"
   ]
  },
  {
   "cell_type": "code",
   "execution_count": 17,
   "metadata": {
    "collapsed": false
   },
   "outputs": [
    {
     "data": {
      "text/plain": [
       "[u\"Master!AP36: Zhou's catch-only method (estimates MSY) [text 1 | fill 00000000]\",\n",
       " u'Master!AP38: MSY [text 1 | fill 00000000]',\n",
       " u'Master!AP35: estimate sustainable yield [text 1 | fill 00000000]',\n",
       " u'Master!AM34: STOCK-STATUS-BASED REFERENCE POINTS [text 1 | fill 00000000]']"
      ]
     },
     "execution_count": 17,
     "metadata": {},
     "output_type": "execute_result"
    }
   ],
   "source": [
    "t=M.Targets[('Assessment',(None,42))]\n",
    "[unicode(i) for i in t.attrs]"
   ]
  },
  {
   "cell_type": "code",
   "execution_count": 35,
   "metadata": {
    "collapsed": false
   },
   "outputs": [
    {
     "data": {
      "text/plain": [
       "u'May not work with a low number of participants'"
      ]
     },
     "execution_count": 35,
     "metadata": {},
     "output_type": "execute_result"
    }
   ],
   "source": [
    "t.mappings[8][1].text"
   ]
  },
  {
   "cell_type": "code",
   "execution_count": null,
   "metadata": {
    "collapsed": true
   },
   "outputs": [],
   "source": [
    "M.Notations.get_index(MSSP.elements.Element.from_worksheet(sheet,'K8'))"
   ]
  },
  {
   "cell_type": "code",
   "execution_count": 36,
   "metadata": {
    "collapsed": true
   },
   "outputs": [],
   "source": [
    "q=M.Questions[('Monitoring',(None,26))]"
   ]
  },
  {
   "cell_type": "code",
   "execution_count": 41,
   "metadata": {
    "collapsed": false
   },
   "outputs": [
    {
     "data": {
      "text/plain": [
       "'Monitoring!K8: 1 [text 1 | fill 9]'"
      ]
     },
     "execution_count": 41,
     "metadata": {},
     "output_type": "execute_result"
    }
   ],
   "source": [
    "str(M.Notations[22])"
   ]
  },
  {
   "cell_type": "code",
   "execution_count": 55,
   "metadata": {
    "collapsed": false
   },
   "outputs": [
    {
     "data": {
      "text/plain": [
       "{'_key': 8043853743969938312,\n",
       " 'theme': 9L,\n",
       " 'tint': 0.7999816888943144,\n",
       " 'type': 'theme'}"
      ]
     },
     "execution_count": 55,
     "metadata": {},
     "output_type": "execute_result"
    }
   ],
   "source": [
    "e=sheet['K12']\n",
    "e.style.fill.fgColor.__dict__"
   ]
  },
  {
   "cell_type": "code",
   "execution_count": 48,
   "metadata": {
    "collapsed": true
   },
   "outputs": [],
   "source": [
    "from openpyxl.styles.colors import COLOR_INDEX"
   ]
  },
  {
   "cell_type": "code",
   "execution_count": 49,
   "metadata": {
    "collapsed": false
   },
   "outputs": [
    {
     "data": {
      "text/plain": [
       "'00FFFFFF'"
      ]
     },
     "execution_count": 49,
     "metadata": {},
     "output_type": "execute_result"
    }
   ],
   "source": [
    "COLOR_INDEX[9]"
   ]
  },
  {
   "cell_type": "code",
   "execution_count": 22,
   "metadata": {
    "collapsed": false
   },
   "outputs": [
    {
     "data": {
      "text/plain": [
       "{'attrs': [<MSSP.elements.Element at 0x10fbf2b90>,\n",
       "  <MSSP.elements.Element at 0x10fbf2c50>,\n",
       "  <MSSP.elements.Element at 0x10fbf2cd0>],\n",
       " 'caveat_mappings': [((None, 17), <MSSP.elements.Element at 0x10fd056d0>),\n",
       "  ((None, 18), <MSSP.elements.Element at 0x10fd05710>),\n",
       "  ((None, 19), <MSSP.elements.Element at 0x10fd05750>),\n",
       "  ((None, 23), <MSSP.elements.Element at 0x10fd05550>),\n",
       "  ((None, 24), <MSSP.elements.Element at 0x10fd057d0>),\n",
       "  ((None, 40), <MSSP.elements.Element at 0x10fd05790>),\n",
       "  ((None, 41), <MSSP.elements.Element at 0x10fd05850>)],\n",
       " 'criteria_mappings': [],\n",
       " 'criterion': False,\n",
       " 'record': (53, None),\n",
       " 'selector': 'ControlRules',\n",
       " 'valid_answers': {u'subsistence': 0}}"
      ]
     },
     "execution_count": 22,
     "metadata": {},
     "output_type": "execute_result"
    }
   ],
   "source": [
    "q=M.Questions[('ControlRules',(53,None))]\n",
    "q.__dict__"
   ]
  },
  {
   "cell_type": "code",
   "execution_count": 27,
   "metadata": {
    "collapsed": false
   },
   "outputs": [
    {
     "data": {
      "text/plain": [
       "44"
      ]
     },
     "execution_count": 27,
     "metadata": {},
     "output_type": "execute_result"
    }
   ],
   "source": [
    "len(M.Notations)"
   ]
  }
 ],
 "metadata": {
  "kernelspec": {
   "display_name": "Python 2",
   "language": "python",
   "name": "python2"
  },
  "language_info": {
   "codemirror_mode": {
    "name": "ipython",
    "version": 2
   },
   "file_extension": ".py",
   "mimetype": "text/x-python",
   "name": "python",
   "nbconvert_exporter": "python",
   "pygments_lexer": "ipython2",
   "version": "2.7.10"
  }
 },
 "nbformat": 4,
 "nbformat_minor": 0
}
