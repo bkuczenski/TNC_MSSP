{
 "cells": [
  {
   "cell_type": "code",
   "execution_count": 1,
   "metadata": {
    "collapsed": true
   },
   "outputs": [],
   "source": [
    "import sys\n",
    "sys.path.append('../src')\n",
    "from MSSP import elements\n",
    "from MSSP.mssp_work import *"
   ]
  },
  {
   "cell_type": "code",
   "execution_count": 2,
   "metadata": {
    "collapsed": false
   },
   "outputs": [
    {
     "data": {
      "text/plain": [
       "'/home/b/Dropbox/2016/TNCWebTool/'"
      ]
     },
     "execution_count": 2,
     "metadata": {},
     "output_type": "execute_result"
    }
   ],
   "source": [
    "working_dir"
   ]
  },
  {
   "cell_type": "code",
   "execution_count": 3,
   "metadata": {
    "collapsed": true
   },
   "outputs": [],
   "source": [
    "f1 = working_dir + 'Working/' + MSSP_FILES['Assessment']\n",
    "f2 = working_dir + 'MSSP Assessment_FEB 2016.xlsx'"
   ]
  },
  {
   "cell_type": "code",
   "execution_count": null,
   "metadata": {
    "collapsed": true
   },
   "outputs": [],
   "source": []
  },
  {
   "cell_type": "code",
   "execution_count": 4,
   "metadata": {
    "collapsed": false
   },
   "outputs": [
    {
     "name": "stdout",
     "output_type": "stream",
     "text": [
      "Sheets have different numbers of rows: S1: 109 S2: 101\n",
      "Sheets have different numbers of columns: S1: 16384 S2: 56\n",
      "Comparing from [1,1] to [101,56]...\n",
      "3 differences found.\n",
      "None\n",
      "MSSP ASSESSMENT!AL38: Estimate of F [text FF000000 | fill 00000000]\n",
      "---\n",
      "None\n",
      "MSSP ASSESSMENT!AL71: Beware changes in selectivity. Sensitive to selectivity mis-specification (need to know if selectivity is asymptotic or dome-shaped). Assumes time-independent selectivity. [text FF000000 | fill 00000000]\n",
      "---\n",
      "None\n",
      "MSSP ASSESSMENT!AL72: Beware changes in selectivity. Sensitive to selectivity mis-specification (need to know if selectivity is asymptotic or dome-shaped). Assumes time-independent selectivity. [text FF000000 | fill 00000000]\n",
      "---\n"
     ]
    },
    {
     "name": "stderr",
     "output_type": "stream",
     "text": [
      "/usr/lib/python2.7/site-packages/openpyxl/reader/worksheet.py:322: UserWarning: Unknown extension is not supported and will be removed\n",
      "  warn(msg)\n"
     ]
    }
   ],
   "source": [
    "d1, d2 = elements.compare_sheets(f1,'MSSP ASSESSMENT',f2,'MSSP ASSESSMENT')"
   ]
  }
 ],
 "metadata": {
  "kernelspec": {
   "display_name": "Python 2",
   "language": "python2",
   "name": "python2"
  },
  "language_info": {
   "codemirror_mode": {
    "name": "ipython",
    "version": 2
   },
   "file_extension": ".py",
   "mimetype": "text/x-python",
   "name": "python",
   "nbconvert_exporter": "python",
   "pygments_lexer": "ipython2",
   "version": "2.7.11"
  }
 },
 "nbformat": 4,
 "nbformat_minor": 0
}
