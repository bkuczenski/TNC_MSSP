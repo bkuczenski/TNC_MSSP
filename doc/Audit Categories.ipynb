{
 "cells": [
  {
   "cell_type": "code",
   "execution_count": 1,
   "metadata": {
    "collapsed": true
   },
   "outputs": [],
   "source": [
    "import os,sys\n",
    "sys.path.append('../src')\n",
    "\n",
    "import MSSP\n"
   ]
  },
  {
   "cell_type": "code",
   "execution_count": 2,
   "metadata": {
    "collapsed": true
   },
   "outputs": [],
   "source": [
    "gdir = '/Users/brandon/Documents/GitHub/SNAP Fisheries Spreadsheets/json/current'\n",
    "outdir = '/Users/brandon/Documents/GitHub/SNAP Fisheries Spreadsheets/json/2016-07-07'"
   ]
  },
  {
   "cell_type": "code",
   "execution_count": 3,
   "metadata": {
    "collapsed": true
   },
   "outputs": [],
   "source": [
    "Eq = MSSP.MsspFromJson(gdir)"
   ]
  },
  {
   "cell_type": "code",
   "execution_count": 4,
   "metadata": {
    "collapsed": false
   },
   "outputs": [],
   "source": [
    "def t_gen():\n",
    "    for i, k in enumerate(Eq._targets):\n",
    "        if isinstance(k, MSSP.mssp_objects.MsspTarget):\n",
    "            yield i,k\n",
    "def q_gen():\n",
    "    for i, k in enumerate(Eq._questions):\n",
    "        if isinstance(k, MSSP.mssp_objects.MsspQuestion):\n",
    "            yield i,k"
   ]
  },
  {
   "cell_type": "code",
   "execution_count": 5,
   "metadata": {
    "collapsed": true
   },
   "outputs": [],
   "source": [
    "t_cats = [k.category for i,k in t_gen()]\n",
    "q_cats = [k.category for i,k in q_gen()]"
   ]
  },
  {
   "cell_type": "code",
   "execution_count": 6,
   "metadata": {
    "collapsed": false
   },
   "outputs": [
    {
     "data": {
      "text/plain": [
       "134"
      ]
     },
     "execution_count": 6,
     "metadata": {},
     "output_type": "execute_result"
    }
   ],
   "source": [
    "len(t_cats)"
   ]
  },
  {
   "cell_type": "code",
   "execution_count": 7,
   "metadata": {
    "collapsed": false
   },
   "outputs": [
    {
     "data": {
      "text/plain": [
       "24"
      ]
     },
     "execution_count": 7,
     "metadata": {},
     "output_type": "execute_result"
    }
   ],
   "source": [
    "len(set(t_cats))"
   ]
  },
  {
   "cell_type": "code",
   "execution_count": 8,
   "metadata": {
    "collapsed": false
   },
   "outputs": [
    {
     "data": {
      "text/plain": [
       "142"
      ]
     },
     "execution_count": 8,
     "metadata": {},
     "output_type": "execute_result"
    }
   ],
   "source": [
    "len(q_cats)"
   ]
  },
  {
   "cell_type": "code",
   "execution_count": 9,
   "metadata": {
    "collapsed": false
   },
   "outputs": [
    {
     "data": {
      "text/plain": [
       "25"
      ]
     },
     "execution_count": 9,
     "metadata": {},
     "output_type": "execute_result"
    }
   ],
   "source": [
    "len(set(q_cats))"
   ]
  },
  {
   "cell_type": "code",
   "execution_count": 11,
   "metadata": {
    "collapsed": false
   },
   "outputs": [
    {
     "data": {
      "text/plain": [
       "{None}"
      ]
     },
     "execution_count": 11,
     "metadata": {},
     "output_type": "execute_result"
    }
   ],
   "source": [
    "set(q_cats).intersection(set(t_cats))"
   ]
  },
  {
   "cell_type": "code",
   "execution_count": 12,
   "metadata": {
    "collapsed": false
   },
   "outputs": [
    {
     "name": "stdout",
     "output_type": "stream",
     "text": [
      "AttributeID 40e80940-deaf-3540-8d36-149fa7b86ec5: Strength of governance\n",
      "AttributeID 739eb9ed-2ac0-3bd1-9f55-2848a1d5cb1a: Spatial coverage/cooperation\n",
      "AttributeID b9d2bfc0-695e-38a2-9c4c-c40602cfdcf8: STAGNANT ATTRIBUTE WHOSE RESPONSES SHOULD POP UP AS WARNINGS\n",
      "AttributeID 9ca754e9-4828-36eb-bc82-e9ddfe2d8436: Expert Judgement\n",
      "AttributeID 83cccd99-f09f-3fa8-9717-d5aa8de211fd: =\"Rows \"&ROW(F56)&\" or \"&ROW(F57)&\" or \"&ROW(F58)&\" or \"&ROW(F60)&\" or \"&ROW(F61)\n",
      "AttributeID 91c55587-a6f4-3d41-9b89-a8b153bee2e7: Enforcement capability\n",
      "AttributeID ee40416c-8196-30a3-9555-fd9099e6490d: Indices\n",
      "AttributeID 80bd0ac5-dbc3-3f91-8c24-e813684e06a0: Operational characteristics\n",
      "AttributeID 522922da-1f18-3a61-b017-8e19e73e3454: Biology\n",
      "AttributeID 0db86b8d-ead4-3a11-ab5a-8fcf86e14827: =\"Rows \"&ROW(F54)&\" or \"&ROW(F55)\n",
      "AttributeID 12ace8bf-0d5b-3ce6-be67-5e432f992854: Additional requirements (not elsewhere included). These are not included in the vector matching but should pop up as warnings depending on the response.\n",
      "AttributeID 4c93e4a5-be54-3392-8f5b-57272b3b50aa: =\"Rows \"&ROW(F52)&\" or \"&ROW(F54)&\" or \"&ROW(F55)\n",
      "AttributeID f90985db-7f8e-3744-ad81-dfa1abc56282: General criteria\n",
      "AttributeID 2eb34970-1ca5-340c-b602-fde28fc7a841: Operational\n",
      "AttributeID 5f38408e-facb-32eb-8b0d-6043679a0963: Biology/life history\n",
      "AttributeID 409014af-bf64-33c0-9269-af4c26d91119: =\"Rows \"&ROW(F60)&\" or \"&ROW(F61)&\" or \"&ROW(F62)\n",
      "AttributeID cbf3b1e2-c808-33eb-b040-6d4e4e0b30f1: =\"Rows \"&ROW(F51)&\" or \"&ROW(F54)&\"-\"&ROW(F62)\n",
      "AttributeID 74802df1-5987-35a7-a261-241f7361e7b6: =\"Rows \"&ROW(F40)&\"-\"&ROW(F43)\n",
      "AttributeID None: None\n",
      "AttributeID e9d3f431-9bbf-3ca2-9d7f-bec13b228dc3: Biophysical/life history\n",
      "AttributeID 6041012f-6287-34a5-9df6-2c7d4604cd43: Monitoring protocol\n",
      "AttributeID 10cba0bd-31a2-3929-97e9-1acaa5c10a40: =\"Rows \"&ROW(F56)&\" or \"&ROW(F58)\n",
      "AttributeID f98895a3-6420-38cf-be8b-cf1e3750a89c: Data availability\n",
      "AttributeID 27ad6e85-94c7-3b2e-bac5-c57823f03fcb: Fishery cooperation\n",
      "AttributeID ceb4663a-e214-3c99-a3f4-1e49fedb3763: General\n"
     ]
    }
   ],
   "source": [
    "Eq.attributes(list(set(q_cats)))"
   ]
  },
  {
   "cell_type": "markdown",
   "metadata": {},
   "source": [
    "Those need some work-- all the \"&ROW(F60)\" and so on (satisfy questions) need to inherit cats from their satisfiers.\n",
    "the \"none\"s need work.  everything else is good."
   ]
  },
  {
   "cell_type": "code",
   "execution_count": 10,
   "metadata": {
    "collapsed": false
   },
   "outputs": [
    {
     "name": "stdout",
     "output_type": "stream",
     "text": [
      "AttributeID 860e8f82-b106-33d1-9896-c05a8c8edf36: 11 Overrides in case of exceptional circumstances\n",
      "AttributeID cd5a42d3-9ad8-3a17-ae00-439d2af5c4f3: 8 Sex regulations\n",
      "AttributeID 83ed4114-c038-3c46-bb46-b9625fb5ce45: Reference points/stock status\n",
      "AttributeID 3fb33c6e-a363-3eb3-8c21-4b66c73d170f: 7 Size limits (NB may be achieved via gear/spatial/temporal restrictions) - pertaining to controlling selectivity (e.g. protecting juveniles, or oldest (largest) fish that have highest reproductive contribution)\n",
      "AttributeID b4b4fa69-74b9-3085-af8b-ff388e413b8d: 13 Levies, taxes (e.g. as incentives to avoid areas)\n",
      "AttributeID 0a64bfe8-b2fd-38e1-b267-9d7400ca5835: 6 Temporal restrictions (can be invoked or modified by HCRs)\n",
      "AttributeID 6a089a6f-ddbb-360d-a3da-9aca899b1689: 10 Apply additional (precautionary) buffers/adjustments to chosen measure (e.g. catch, effort, size limits, closures)\n",
      "AttributeID 86eff59e-9877-3edb-9690-7c9184012b43: 4 Other gear controls not related to selectivity (gear TYPE restrictions)\n",
      "AttributeID 3f50ff7a-534c-3971-bf3b-70d581993332: Biological information - leads to analysis such as length analysis, SPR-type etc.\n",
      "AttributeID 6f08ba3d-1933-3e16-b997-f7ee07d9b50e: 9 Invoke data collection\n",
      "AttributeID f91e2b35-a61c-3dc3-8443-ec78dbc37a64: 2 Effort limits (includes # days fishing/# hooks/# fishing hours) (daily, seasonal, annual) \n",
      "AttributeID 5dd4a51e-e19a-3310-a51f-1e119a92f898: Sustainability (trend analysis) - e.g. more temporal\n",
      "AttributeID 5aa1cd90-e3a1-31a0-898f-ee72686e721e: EMPIRICAL INDICATOR-BASED FRAMEWORKS\n",
      "AttributeID e72d29d6-14bd-3d70-af17-421e55337dd1: STOCK-STATUS-BASED REFERENCE POINTS\n",
      "AttributeID 1ef0a505-5925-326a-830f-edfbe0b024d9: 12 Retain status quo\n",
      "AttributeID 4305babe-6ac8-37f3-a5d4-4916c0cbcfd7: 1 Catch limits\n",
      "AttributeID 3b97d1e8-3fca-3dcb-90eb-a83a83908702: NO REFERENCE POINTS \n",
      "AttributeID 415c357d-3d54-3e30-aab8-2e768dbdf720: 5 Spatial restrictions (can be invoked or modified by HCRs)\n",
      "AttributeID db796cf9-00be-3925-9861-9b948269c937: ELIMINATE\n",
      "AttributeID 680c1444-7d16-3ce8-bb78-2e1592ee2c77: Additional Caveats\n",
      "AttributeID 36901809-9e04-3e92-8332-fce8ec0f7cd0: Fishery (basic understanding of how fishery operates)\n",
      "AttributeID None: None\n",
      "AttributeID ec4efae2-81b9-3962-908b-a8e90867b80f: 3 Gear restrictions: managing by selectivity (gear DESIGN restrictions)\n",
      "AttributeID 57e22fba-36ee-3980-b4ca-2a4954711b72: PROXY REFERENCE POINTS\n"
     ]
    }
   ],
   "source": [
    "Eq.attributes(list(set(t_cats)))"
   ]
  },
  {
   "cell_type": "markdown",
   "metadata": {},
   "source": [
    "Those all look good, except for the \"none\""
   ]
  },
  {
   "cell_type": "markdown",
   "metadata": {},
   "source": [
    "### Satisfy questions should inherit categories"
   ]
  },
  {
   "cell_type": "code",
   "execution_count": 13,
   "metadata": {
    "collapsed": false
   },
   "outputs": [
    {
     "name": "stdout",
     "output_type": "stream",
     "text": [
      "upgrading category for 30 (=\"Rows \"&ROW(F51)&\" or \"&ROW(F54)&\"-\"&ROW(F62))\n",
      "   with 11 (Indices)\n",
      "upgrading category for 31 (=\"Rows \"&ROW(F56)&\" or \"&ROW(F58))\n",
      "   with 16 (Indices)\n",
      "upgrading category for 32 (=\"Rows \"&ROW(F54)&\" or \"&ROW(F55))\n",
      "   with 14 (Indices)\n",
      "upgrading category for 33 (=\"Rows \"&ROW(F52)&\" or \"&ROW(F54)&\" or \"&ROW(F55))\n",
      "   with 12 (Indices)\n",
      "upgrading category for 34 (=\"Rows \"&ROW(F60)&\" or \"&ROW(F61)&\" or \"&ROW(F62))\n",
      "   with 20 (Indices)\n",
      "upgrading category for 35 (=\"Rows \"&ROW(F56)&\" or \"&ROW(F57)&\" or \"&ROW(F58)&\" or \"&ROW(F60)&\" or \"&ROW(F61))\n",
      "   with 16 (Indices)\n",
      "upgrading category for 36 (=\"Rows \"&ROW(F40)&\"-\"&ROW(F43))\n",
      "   with 0 (Biology)\n",
      "upgrading category for 97 (None)\n",
      "   with 98 (Data availability)\n",
      "upgrading category for 162 (Operational characteristics)\n",
      "   with 112 (Operational)\n"
     ]
    }
   ],
   "source": [
    "for i, q in q_gen():\n",
    "    if len(q.satisfied_by) != 0:\n",
    "        sat = list(q.satisfied_by)[0]\n",
    "        print('upgrading category for %d (%s)\\n   with %d (%s)' %(i, Eq.attribute(q.category), \n",
    "                                                                sat, Eq.attribute(Eq._questions[sat].category)))\n",
    "        q.category = Eq._questions[sat].category"
   ]
  },
  {
   "cell_type": "markdown",
   "metadata": {},
   "source": [
    "Now we want to undo the change for 162..."
   ]
  },
  {
   "cell_type": "code",
   "execution_count": 14,
   "metadata": {
    "collapsed": false
   },
   "outputs": [
    {
     "data": {
      "text/plain": [
       "u'Operational characteristics'"
      ]
     },
     "execution_count": 14,
     "metadata": {},
     "output_type": "execute_result"
    }
   ],
   "source": [
    "Eq.attribute(Eq._questions[164].category)"
   ]
  },
  {
   "cell_type": "code",
   "execution_count": 17,
   "metadata": {
    "collapsed": false
   },
   "outputs": [],
   "source": [
    "Eq._questions[162].category = Eq._questions[164].category"
   ]
  },
  {
   "cell_type": "markdown",
   "metadata": {},
   "source": [
    "### Supply categories for None-category items"
   ]
  },
  {
   "cell_type": "code",
   "execution_count": 19,
   "metadata": {
    "collapsed": false
   },
   "outputs": [],
   "source": [
    "tn = [i for i,t in t_gen() if t.category is None]"
   ]
  },
  {
   "cell_type": "code",
   "execution_count": 20,
   "metadata": {
    "collapsed": false
   },
   "outputs": [
    {
     "data": {
      "text/plain": [
       "[48]"
      ]
     },
     "execution_count": 20,
     "metadata": {},
     "output_type": "execute_result"
    }
   ],
   "source": [
    "tn"
   ]
  },
  {
   "cell_type": "code",
   "execution_count": 21,
   "metadata": {
    "collapsed": false
   },
   "outputs": [
    {
     "data": {
      "text/plain": [
       "u'Catch-based method for classifying stock status (Hilborn 2014 - Nature)'"
      ]
     },
     "execution_count": 21,
     "metadata": {},
     "output_type": "execute_result"
    }
   ],
   "source": [
    "Eq.attribute(Eq._targets[tn[0]].title)"
   ]
  },
  {
   "cell_type": "markdown",
   "metadata": {},
   "source": [
    "don't know how to categorize that, since it was added later"
   ]
  },
  {
   "cell_type": "code",
   "execution_count": 22,
   "metadata": {
    "collapsed": false
   },
   "outputs": [],
   "source": [
    "qn = [(i,q) for i,q in q_gen() if q.category is None]"
   ]
  },
  {
   "cell_type": "code",
   "execution_count": 23,
   "metadata": {
    "collapsed": false
   },
   "outputs": [
    {
     "data": {
      "text/plain": [
       "[(38, [(u'Assessment', (78, None))]),\n",
       " (39, [(u'Assessment', (79, None))]),\n",
       " (40, [(u'Assessment', (80, None))]),\n",
       " (41, [(u'Assessment', (81, None))]),\n",
       " (42, [(u'Assessment', (82, None))]),\n",
       " (43, [(u'Assessment', (83, None))]),\n",
       " (44, [(u'Assessment', (84, None))]),\n",
       " (45, [(u'Assessment', (85, None))]),\n",
       " (46, [(u'Assessment', (86, None))]),\n",
       " (50, [(u'Assessment', (90, None))]),\n",
       " (51, [(u'Assessment', (91, None))]),\n",
       " (52, [(u'Assessment', (92, None))]),\n",
       " (53, [(u'Assessment', (93, None))]),\n",
       " (54, [(u'Assessment', (94, None))]),\n",
       " (55, [(u'Assessment', (95, None))]),\n",
       " (56, [(u'Assessment', (96, None))]),\n",
       " (57, [(u'Assessment', (97, None))]),\n",
       " (58, [(u'Assessment', (98, None))]),\n",
       " (59, [(u'Assessment', (99, None))]),\n",
       " (60, [(u'Assessment', (100, None))]),\n",
       " (61, [(u'Assessment', (101, None))]),\n",
       " (62, [(u'Assessment', (102, None))]),\n",
       " (64, [(u'Assessment', (104, None))]),\n",
       " (66, [(u'Assessment', (106, None))]),\n",
       " (67, [(u'Assessment', (107, None))]),\n",
       " (123, [(u'ControlRules', (68, None))]),\n",
       " (174, [(u'Monitoring', (None, 39))])]"
      ]
     },
     "execution_count": 23,
     "metadata": {},
     "output_type": "execute_result"
    }
   ],
   "source": [
    "[(i, q.references) for i,q in qn]"
   ]
  },
  {
   "cell_type": "markdown",
   "metadata": {},
   "source": [
    "By inspection, many/most of these have the catch-all \"Additional requirements (not elsewhere included)...\" category, but either missed it because of merge cells or for some other unknown reason.\n",
    "\n",
    "That category should apply to [rows] 78, 80-86, 90-101, 104, 106, 107"
   ]
  },
  {
   "cell_type": "code",
   "execution_count": 27,
   "metadata": {
    "collapsed": false
   },
   "outputs": [],
   "source": [
    "not_elsewhere = Eq.search('not elsewhere included').attributes[0]"
   ]
  },
  {
   "cell_type": "code",
   "execution_count": 28,
   "metadata": {
    "collapsed": false
   },
   "outputs": [
    {
     "data": {
      "text/plain": [
       "u'Additional requirements (not elsewhere included). These are not included in the vector matching but should pop up as warnings depending on the response.'"
      ]
     },
     "execution_count": 28,
     "metadata": {},
     "output_type": "execute_result"
    }
   ],
   "source": [
    "Eq.attribute(not_elsewhere)"
   ]
  },
  {
   "cell_type": "code",
   "execution_count": 30,
   "metadata": {
    "collapsed": false
   },
   "outputs": [],
   "source": [
    "for i in [38] + range(40,47) + range(50,62) + [64, 66, 67]:\n",
    "    Eq._questions[i].category = not_elsewhere"
   ]
  },
  {
   "cell_type": "code",
   "execution_count": 31,
   "metadata": {
    "collapsed": false
   },
   "outputs": [
    {
     "data": {
      "text/plain": [
       "[(39, [(u'Assessment', (79, None))]),\n",
       " (62, [(u'Assessment', (102, None))]),\n",
       " (123, [(u'ControlRules', (68, None))]),\n",
       " (174, [(u'Monitoring', (None, 39))])]"
      ]
     },
     "execution_count": 31,
     "metadata": {},
     "output_type": "execute_result"
    }
   ],
   "source": [
    "[(i,q.references) for i,q in q_gen() if q.category is None]"
   ]
  },
  {
   "cell_type": "markdown",
   "metadata": {},
   "source": [
    "now we deal with these one at a time"
   ]
  },
  {
   "cell_type": "code",
   "execution_count": 34,
   "metadata": {
    "collapsed": false
   },
   "outputs": [
    {
     "name": "stdout",
     "output_type": "stream",
     "text": [
      "AttributeID 71e525de-31af-3ea2-b801-91d42ef29197: Criterion\n",
      "AttributeID fadbaa68-4e6e-3d82-806e-df0496a56fa5: !!!!!MAKE THIS A MINIMUM DATA REQUIREMENT!! i.e. to include in \"vector matching\" exercise. \n",
      "AttributeID d1eb67c7-a017-3eb4-b00c-4b73efbdcd2e: Selectivity ogive (0= unknown; 1= able to be inferred; 2 = known)\n",
      "AttributeID 735ef4ac-a66b-3160-b415-feeb288625bb: What is known about the selectivity ogive?\n",
      "AttributeID 5be56c16-3ec0-3b49-ab9f-3aa1988d9dda: A2\n"
     ]
    }
   ],
   "source": [
    "Eq.attributes(Eq.attributes_for(39))"
   ]
  },
  {
   "cell_type": "code",
   "execution_count": 37,
   "metadata": {
    "collapsed": false
   },
   "outputs": [
    {
     "name": "stdout",
     "output_type": "stream",
     "text": [
      "Removed 1 reference\n"
     ]
    }
   ],
   "source": [
    "Eq.del_attribute_mapping(39, Eq.search('!!!!!').attributes[0])"
   ]
  },
  {
   "cell_type": "code",
   "execution_count": 40,
   "metadata": {
    "collapsed": false
   },
   "outputs": [],
   "source": [
    "Eq.set_category(39, Eq.find_attribute('General criteria')[0])"
   ]
  },
  {
   "cell_type": "code",
   "execution_count": 41,
   "metadata": {
    "collapsed": false
   },
   "outputs": [
    {
     "data": {
      "text/plain": [
       "[(62, [(u'Assessment', (102, None))]),\n",
       " (123, [(u'ControlRules', (68, None))]),\n",
       " (174, [(u'Monitoring', (None, 39))])]"
      ]
     },
     "execution_count": 41,
     "metadata": {},
     "output_type": "execute_result"
    }
   ],
   "source": [
    "[(i,q.references) for i,q in q_gen() if q.category is None]"
   ]
  },
  {
   "cell_type": "code",
   "execution_count": 42,
   "metadata": {
    "collapsed": true
   },
   "outputs": [],
   "source": [
    "u = Eq.find_or_create_attribute('ULTIMATELY WILL BE A COST ATTRIBUTE FROM THE COST DATABASE')"
   ]
  },
  {
   "cell_type": "code",
   "execution_count": 44,
   "metadata": {
    "collapsed": false
   },
   "outputs": [
    {
     "name": "stdout",
     "output_type": "stream",
     "text": [
      "attribute map - 1 found\n"
     ]
    }
   ],
   "source": [
    "Eq.set_category(62,u)"
   ]
  },
  {
   "cell_type": "code",
   "execution_count": 48,
   "metadata": {
    "collapsed": false
   },
   "outputs": [
    {
     "name": "stdout",
     "output_type": "stream",
     "text": [
      "attribute map - 1 found\n"
     ]
    }
   ],
   "source": [
    "Eq.set_category(123,Eq.find_attribute('Socio-economic')[0])"
   ]
  },
  {
   "cell_type": "code",
   "execution_count": 49,
   "metadata": {
    "collapsed": false
   },
   "outputs": [
    {
     "name": "stdout",
     "output_type": "stream",
     "text": [
      "Question ID: 174\n",
      "  * ADDITIONAL CAVEATS\n",
      "  * CAVEATS - Second, refine the shortlist of monitoring options according to the below range of criteria\n",
      " References: Monitoring Col AM\n",
      "Valid Answers: [None]\n",
      " Satisfied By: None\n",
      " Satisfies: None\n",
      "Has Caveats:\n",
      "      QuestionID  TargetID AnswerValue  \\\n",
      "2573         174        98        None   \n",
      "2574         174        99        None   \n",
      "2575         174       100        None   \n",
      "2576         174       101        None   \n",
      "2577         174       102        None   \n",
      "2578         174       103        None   \n",
      "2579         174       104        None   \n",
      "2580         174       105        None   \n",
      "2581         174       106        None   \n",
      "2582         174       107        None   \n",
      "2583         174       108        None   \n",
      "2584         174       109        None   \n",
      "2585         174       110        None   \n",
      "2586         174       111        None   \n",
      "2587         174       112        None   \n",
      "2588         174       113        None   \n",
      "2589         174       114        None   \n",
      "2590         174       115        None   \n",
      "2591         174       116        None   \n",
      "2592         174       117        None   \n",
      "2593         174       118        None   \n",
      "2594         174       119        None   \n",
      "2595         174       120        None   \n",
      "2596         174       121        None   \n",
      "2597         174       122        None   \n",
      "2598         174       123        None   \n",
      "2599         174       124        None   \n",
      "2600         174       125        None   \n",
      "2601         174       126        None   \n",
      "2602         174       127        None   \n",
      "2603         174       128        None   \n",
      "2604         174       129        None   \n",
      "2605         174       130        None   \n",
      "2606         174       131        None   \n",
      "2607         174       132        None   \n",
      "2608         174       133        None   \n",
      "2609         174       134        None   \n",
      "2610         174       135        None   \n",
      "2611         174       136        None   \n",
      "2612         174       137        None   \n",
      "2613         174       138        None   \n",
      "2614         174       139        None   \n",
      "2615         174       140        None   \n",
      "2616         174       141        None   \n",
      "2617         174       142        None   \n",
      "\n",
      "                                                   Note  \n",
      "2573  Indirect information; marketed component of ca...  \n",
      "2574  Indirect information; marketed component of ca...  \n",
      "2575  Indirect information; marketed component of ca...  \n",
      "2576  Indirect information; marketed component of ca...  \n",
      "2577  Potential for misreporting (especially for fis...  \n",
      "2578  Potential for misreporting (especially for fis...  \n",
      "2579  Potential for misreporting (especially for fis...  \n",
      "2580  Potential for misreporting (especially for fis...  \n",
      "2581  Motivation from buyers (and e.g. for export ap...  \n",
      "2582  Motivation from buyers (and e.g. for export ap...  \n",
      "2583  Motivation from buyers (and e.g. for export ap...  \n",
      "2584  Motivation from buyers (and e.g. for export ap...  \n",
      "2585  Anecdotal; time consuming; moderately expensiv...  \n",
      "2586  Anecdotal; time consuming; moderately expensiv...  \n",
      "2587  Anecdotal; time consuming; moderately expensiv...  \n",
      "2588  Anecdotal; time consuming; moderately expensiv...  \n",
      "2589  ?Operator error; cost of designing may be high...  \n",
      "2590  ?Operator error; cost of designing may be high...  \n",
      "2591  ?Operator error; cost of designing may be high...  \n",
      "2592  ?Operator error; cost of designing may be high...  \n",
      "2593          provides no fishery dependent information  \n",
      "2594          provides no fishery dependent information  \n",
      "2595          provides no fishery dependent information  \n",
      "2596          provides no fishery dependent information  \n",
      "2597  provides no fishery dependent information; sel...  \n",
      "2598  provides no fishery dependent information; sel...  \n",
      "2599  provides no fishery dependent information; sel...  \n",
      "2600  provides no fishery dependent information; sel...  \n",
      "2601  High amount of post-processing time with camer...  \n",
      "2602  Requires database infrastructure and capabilit...  \n",
      "2603  Requires database infrastructure and capabilit...  \n",
      "2604  Requires database infrastructure and capabilit...  \n",
      "2605  Requires database infrastructure and capabilit...  \n",
      "2606  Requires database infrastructure and capabilit...  \n",
      "2607  Requires database infrastructure and capabilit...  \n",
      "2608  Requires database infrastructure and capabilit...  \n",
      "2609  Requires database infrastructure and capabilit...  \n",
      "2610  Requires database infrastructure and capabilit...  \n",
      "2611  Requires database infrastructure and capabilit...  \n",
      "2612  Requires database infrastructure and capabilit...  \n",
      "2613  Requires database infrastructure and capabilit...  \n",
      "2614  Information typically high quality; strategic ...  \n",
      "2615  Information typically high quality; strategic ...  \n",
      "2616  Information typically high quality; strategic ...  \n",
      "2617  Information typically high quality; strategic ...  \n"
     ]
    },
    {
     "data": {
      "text/plain": [
       "<MSSP.mssp_objects.MsspQuestion at 0x10bd119d0>"
      ]
     },
     "execution_count": 49,
     "metadata": {},
     "output_type": "execute_result"
    }
   ],
   "source": [
    "Eq.question(174)"
   ]
  },
  {
   "cell_type": "code",
   "execution_count": 50,
   "metadata": {
    "collapsed": false
   },
   "outputs": [
    {
     "name": "stdout",
     "output_type": "stream",
     "text": [
      "attribute map - 1 found\n"
     ]
    }
   ],
   "source": [
    "Eq.set_title(174, Eq.find_attribute('ADDITIONAL CAVEATS')[0])"
   ]
  },
  {
   "cell_type": "code",
   "execution_count": 51,
   "metadata": {
    "collapsed": true
   },
   "outputs": [],
   "source": [
    "Eq.set_category(174, Eq.find_or_create_attribute('Additional information'))"
   ]
  },
  {
   "cell_type": "markdown",
   "metadata": {},
   "source": [
    "### Supply titles for None-titled items"
   ]
  },
  {
   "cell_type": "code",
   "execution_count": 52,
   "metadata": {
    "collapsed": false
   },
   "outputs": [
    {
     "data": {
      "text/plain": [
       "[97, 123]"
      ]
     },
     "execution_count": 52,
     "metadata": {},
     "output_type": "execute_result"
    }
   ],
   "source": [
    "[i for i, q in q_gen() if q.title is None]"
   ]
  },
  {
   "cell_type": "code",
   "execution_count": 53,
   "metadata": {
    "collapsed": false
   },
   "outputs": [
    {
     "name": "stdout",
     "output_type": "stream",
     "text": [
      "Question ID: 97\n",
      "(Category: Data availability)\n",
      "  * Does assessment suggest a certain form of decision rule? (PENDING OUTCOMES OF ASSESSMENT COMPONENT OF MSSP - 2nd layer?)\n",
      "  * IF YES\n",
      " References: ControlRules Row 32\n",
      "Valid Answers: ['No', 'Yes']\n",
      " Satisfied By: [98, 99, 100, 101, 102, 103, 104, 105, 106]\n",
      " Satisfies: None\n",
      "Has Caveats:\n",
      "     QuestionID  TargetID AnswerValue  \\\n",
      "753          97        50         Yes   \n",
      "754          97        51         Yes   \n",
      "755          97        52         Yes   \n",
      "756          97        53         Yes   \n",
      "757          97        54         Yes   \n",
      "758          97        55         Yes   \n",
      "759          97        58         Yes   \n",
      "760          97        59         Yes   \n",
      "761          97        60         Yes   \n",
      "762          97        61         Yes   \n",
      "763          97        64         Yes   \n",
      "764          97        88         Yes   \n",
      "\n",
      "                                                 Note  \n",
      "753                            YES - if catch-related  \n",
      "754                            YES - if catch-related  \n",
      "755                            YES - if catch-related  \n",
      "756                            YES - if catch-related  \n",
      "757                            YES - if catch-related  \n",
      "758                            YES - if catch-related  \n",
      "759                           YES - if effort-related  \n",
      "760                           YES - if effort-related  \n",
      "761                           YES - if effort-related  \n",
      "762                           YES - if effort-related  \n",
      "763  YES - if within-season assessment and management  \n",
      "764                                                NO  \n"
     ]
    },
    {
     "data": {
      "text/plain": [
       "<MSSP.mssp_objects.MsspQuestion at 0x10bcd1bd0>"
      ]
     },
     "execution_count": 53,
     "metadata": {},
     "output_type": "execute_result"
    }
   ],
   "source": [
    "Eq.question(97)"
   ]
  },
  {
   "cell_type": "code",
   "execution_count": 57,
   "metadata": {
    "collapsed": false
   },
   "outputs": [
    {
     "name": "stdout",
     "output_type": "stream",
     "text": [
      "attribute map - 1 found\n"
     ]
    }
   ],
   "source": [
    "Eq.set_title(97, Eq.search('Does assessment suggest a certain form of decision rule').attributes[0])"
   ]
  },
  {
   "cell_type": "code",
   "execution_count": 61,
   "metadata": {
    "collapsed": false
   },
   "outputs": [
    {
     "name": "stdout",
     "output_type": "stream",
     "text": [
      "attribute map - 1 found\n"
     ]
    }
   ],
   "source": [
    "Eq.set_title(123, Eq.search('familiar and').attributes[0])"
   ]
  },
  {
   "cell_type": "code",
   "execution_count": 69,
   "metadata": {
    "collapsed": false
   },
   "outputs": [
    {
     "data": {
      "text/plain": [
       "[(88, (u'ControlRules', (None, 43))),\n",
       " (89, (u'ControlRules', (None, 44))),\n",
       " (90, (u'ControlRules', (None, 45)))]"
      ]
     },
     "execution_count": 69,
     "metadata": {},
     "output_type": "execute_result"
    }
   ],
   "source": [
    "[(i, t.reference()) for i, t in t_gen() if t.title is None]"
   ]
  },
  {
   "cell_type": "code",
   "execution_count": 70,
   "metadata": {
    "collapsed": true
   },
   "outputs": [],
   "source": [
    "Eq.set_title(88, Eq.find_or_create_attribute('Retain status quo'), record='target')"
   ]
  },
  {
   "cell_type": "code",
   "execution_count": 71,
   "metadata": {
    "collapsed": true
   },
   "outputs": [],
   "source": [
    "Eq.set_title(89, Eq.find_or_create_attribute('Levies, taxes'), record='target')"
   ]
  },
  {
   "cell_type": "code",
   "execution_count": 72,
   "metadata": {
    "collapsed": true
   },
   "outputs": [],
   "source": [
    "Eq.set_title(90, Eq.find_or_create_attribute('Additional information'), record='target')"
   ]
  },
  {
   "cell_type": "code",
   "execution_count": 73,
   "metadata": {
    "collapsed": false
   },
   "outputs": [
    {
     "data": {
      "text/plain": [
       "[]"
      ]
     },
     "execution_count": 73,
     "metadata": {},
     "output_type": "execute_result"
    }
   ],
   "source": [
    "[(i, t.reference()) for i, t in t_gen() if t.title is None]"
   ]
  },
  {
   "cell_type": "code",
   "execution_count": 74,
   "metadata": {
    "collapsed": false
   },
   "outputs": [
    {
     "name": "stdout",
     "output_type": "stream",
     "text": [
      "Creating 189 questions...\n",
      "Creating 143 targets...\n",
      "Creating 528 criteria...\n",
      "Creating 2054 caveats...\n",
      "Creating 712 attributes...\n",
      "Creating 246 notes...\n",
      "Creating colormap...\n",
      "Output written to folder /Users/brandon/Documents/GitHub/SNAP Fisheries Spreadsheets/json/2016-07-07.\n"
     ]
    },
    {
     "data": {
      "text/plain": [
       "True"
      ]
     },
     "execution_count": 74,
     "metadata": {},
     "output_type": "execute_result"
    }
   ],
   "source": [
    "MSSP.write_to_json(Eq.serialize(), outdir)"
   ]
  }
 ],
 "metadata": {
  "kernelspec": {
   "display_name": "Python 2",
   "language": "python",
   "name": "python2"
  },
  "language_info": {
   "codemirror_mode": {
    "name": "ipython",
    "version": 2
   },
   "file_extension": ".py",
   "mimetype": "text/x-python",
   "name": "python",
   "nbconvert_exporter": "python",
   "pygments_lexer": "ipython2",
   "version": "2.7.10"
  }
 },
 "nbformat": 4,
 "nbformat_minor": 0
}
